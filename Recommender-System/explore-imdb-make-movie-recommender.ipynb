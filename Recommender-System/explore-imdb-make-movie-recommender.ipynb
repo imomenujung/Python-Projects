{
 "cells": [
  {
   "cell_type": "code",
   "execution_count": 1,
   "id": "2931ec0d",
   "metadata": {
    "_cell_guid": "b1076dfc-b9ad-4769-8c92-a6c4dae69d19",
    "_uuid": "8f2839f25d086af736a60e9eeb907d3b93b6e0e5",
    "execution": {
     "iopub.execute_input": "2024-07-08T16:20:56.492502Z",
     "iopub.status.busy": "2024-07-08T16:20:56.492055Z",
     "iopub.status.idle": "2024-07-08T16:20:57.547021Z",
     "shell.execute_reply": "2024-07-08T16:20:57.545569Z"
    },
    "papermill": {
     "duration": 1.073391,
     "end_time": "2024-07-08T16:20:57.549937",
     "exception": false,
     "start_time": "2024-07-08T16:20:56.476546",
     "status": "completed"
    },
    "tags": []
   },
   "outputs": [
    {
     "name": "stdout",
     "output_type": "stream",
     "text": [
      "/kaggle/input/imdb-dataset-of-top-1000-movies-and-tv-shows/imdb_top_1000.csv\n"
     ]
    }
   ],
   "source": [
    "# This Python 3 environment comes with many helpful analytics libraries installed\n",
    "# It is defined by the kaggle/python Docker image: https://github.com/kaggle/docker-python\n",
    "# For example, here's several helpful packages to load\n",
    "\n",
    "import numpy as np # linear algebra\n",
    "import pandas as pd # data processing, CSV file I/O (e.g. pd.read_csv)\n",
    "\n",
    "# Input data files are available in the read-only \"../input/\" directory\n",
    "# For example, running this (by clicking run or pressing Shift+Enter) will list all files under the input directory\n",
    "\n",
    "import os\n",
    "for dirname, _, filenames in os.walk('/kaggle/input'):\n",
    "    for filename in filenames:\n",
    "        print(os.path.join(dirname, filename))\n",
    "\n",
    "# You can write up to 20GB to the current directory (/kaggle/working/) that gets preserved as output when you create a version using \"Save & Run All\" \n",
    "# You can also write temporary files to /kaggle/temp/, but they won't be saved outside of the current session"
   ]
  },
  {
   "cell_type": "code",
   "execution_count": 2,
   "id": "a841740b",
   "metadata": {
    "execution": {
     "iopub.execute_input": "2024-07-08T16:20:57.579460Z",
     "iopub.status.busy": "2024-07-08T16:20:57.578852Z",
     "iopub.status.idle": "2024-07-08T16:21:00.015439Z",
     "shell.execute_reply": "2024-07-08T16:21:00.014044Z"
    },
    "papermill": {
     "duration": 2.454328,
     "end_time": "2024-07-08T16:21:00.018334",
     "exception": false,
     "start_time": "2024-07-08T16:20:57.564006",
     "status": "completed"
    },
    "tags": []
   },
   "outputs": [],
   "source": [
    "import numpy as np\n",
    "import pandas as pd\n",
    "import matplotlib.pyplot as plt\n",
    "import seaborn as sns\n",
    "import plotly.express as px\n",
    "\n",
    "import warnings\n",
    "warnings.filterwarnings('ignore')"
   ]
  },
  {
   "cell_type": "markdown",
   "id": "ece9e752",
   "metadata": {
    "papermill": {
     "duration": 0.013096,
     "end_time": "2024-07-08T16:21:00.045601",
     "exception": false,
     "start_time": "2024-07-08T16:21:00.032505",
     "status": "completed"
    },
    "tags": []
   },
   "source": [
    "# Preprocessing"
   ]
  },
  {
   "cell_type": "code",
   "execution_count": 3,
   "id": "d77691a9",
   "metadata": {
    "execution": {
     "iopub.execute_input": "2024-07-08T16:21:00.074252Z",
     "iopub.status.busy": "2024-07-08T16:21:00.073830Z",
     "iopub.status.idle": "2024-07-08T16:21:00.154382Z",
     "shell.execute_reply": "2024-07-08T16:21:00.152381Z"
    },
    "papermill": {
     "duration": 0.099073,
     "end_time": "2024-07-08T16:21:00.158136",
     "exception": false,
     "start_time": "2024-07-08T16:21:00.059063",
     "status": "completed"
    },
    "tags": []
   },
   "outputs": [
    {
     "data": {
      "text/html": [
       "<div>\n",
       "<style scoped>\n",
       "    .dataframe tbody tr th:only-of-type {\n",
       "        vertical-align: middle;\n",
       "    }\n",
       "\n",
       "    .dataframe tbody tr th {\n",
       "        vertical-align: top;\n",
       "    }\n",
       "\n",
       "    .dataframe thead th {\n",
       "        text-align: right;\n",
       "    }\n",
       "</style>\n",
       "<table border=\"1\" class=\"dataframe\">\n",
       "  <thead>\n",
       "    <tr style=\"text-align: right;\">\n",
       "      <th></th>\n",
       "      <th>Poster_Link</th>\n",
       "      <th>Series_Title</th>\n",
       "      <th>Released_Year</th>\n",
       "      <th>Certificate</th>\n",
       "      <th>Runtime</th>\n",
       "      <th>Genre</th>\n",
       "      <th>IMDB_Rating</th>\n",
       "      <th>Overview</th>\n",
       "      <th>Meta_score</th>\n",
       "      <th>Director</th>\n",
       "      <th>Star1</th>\n",
       "      <th>Star2</th>\n",
       "      <th>Star3</th>\n",
       "      <th>Star4</th>\n",
       "      <th>No_of_Votes</th>\n",
       "      <th>Gross</th>\n",
       "    </tr>\n",
       "  </thead>\n",
       "  <tbody>\n",
       "    <tr>\n",
       "      <th>0</th>\n",
       "      <td>https://m.media-amazon.com/images/M/MV5BMDFkYT...</td>\n",
       "      <td>The Shawshank Redemption</td>\n",
       "      <td>1994</td>\n",
       "      <td>A</td>\n",
       "      <td>142 min</td>\n",
       "      <td>Drama</td>\n",
       "      <td>9.3</td>\n",
       "      <td>Two imprisoned men bond over a number of years...</td>\n",
       "      <td>80.0</td>\n",
       "      <td>Frank Darabont</td>\n",
       "      <td>Tim Robbins</td>\n",
       "      <td>Morgan Freeman</td>\n",
       "      <td>Bob Gunton</td>\n",
       "      <td>William Sadler</td>\n",
       "      <td>2343110</td>\n",
       "      <td>28,341,469</td>\n",
       "    </tr>\n",
       "    <tr>\n",
       "      <th>1</th>\n",
       "      <td>https://m.media-amazon.com/images/M/MV5BM2MyNj...</td>\n",
       "      <td>The Godfather</td>\n",
       "      <td>1972</td>\n",
       "      <td>A</td>\n",
       "      <td>175 min</td>\n",
       "      <td>Crime, Drama</td>\n",
       "      <td>9.2</td>\n",
       "      <td>An organized crime dynasty's aging patriarch t...</td>\n",
       "      <td>100.0</td>\n",
       "      <td>Francis Ford Coppola</td>\n",
       "      <td>Marlon Brando</td>\n",
       "      <td>Al Pacino</td>\n",
       "      <td>James Caan</td>\n",
       "      <td>Diane Keaton</td>\n",
       "      <td>1620367</td>\n",
       "      <td>134,966,411</td>\n",
       "    </tr>\n",
       "    <tr>\n",
       "      <th>2</th>\n",
       "      <td>https://m.media-amazon.com/images/M/MV5BMTMxNT...</td>\n",
       "      <td>The Dark Knight</td>\n",
       "      <td>2008</td>\n",
       "      <td>UA</td>\n",
       "      <td>152 min</td>\n",
       "      <td>Action, Crime, Drama</td>\n",
       "      <td>9.0</td>\n",
       "      <td>When the menace known as the Joker wreaks havo...</td>\n",
       "      <td>84.0</td>\n",
       "      <td>Christopher Nolan</td>\n",
       "      <td>Christian Bale</td>\n",
       "      <td>Heath Ledger</td>\n",
       "      <td>Aaron Eckhart</td>\n",
       "      <td>Michael Caine</td>\n",
       "      <td>2303232</td>\n",
       "      <td>534,858,444</td>\n",
       "    </tr>\n",
       "    <tr>\n",
       "      <th>3</th>\n",
       "      <td>https://m.media-amazon.com/images/M/MV5BMWMwMG...</td>\n",
       "      <td>The Godfather: Part II</td>\n",
       "      <td>1974</td>\n",
       "      <td>A</td>\n",
       "      <td>202 min</td>\n",
       "      <td>Crime, Drama</td>\n",
       "      <td>9.0</td>\n",
       "      <td>The early life and career of Vito Corleone in ...</td>\n",
       "      <td>90.0</td>\n",
       "      <td>Francis Ford Coppola</td>\n",
       "      <td>Al Pacino</td>\n",
       "      <td>Robert De Niro</td>\n",
       "      <td>Robert Duvall</td>\n",
       "      <td>Diane Keaton</td>\n",
       "      <td>1129952</td>\n",
       "      <td>57,300,000</td>\n",
       "    </tr>\n",
       "    <tr>\n",
       "      <th>4</th>\n",
       "      <td>https://m.media-amazon.com/images/M/MV5BMWU4N2...</td>\n",
       "      <td>12 Angry Men</td>\n",
       "      <td>1957</td>\n",
       "      <td>U</td>\n",
       "      <td>96 min</td>\n",
       "      <td>Crime, Drama</td>\n",
       "      <td>9.0</td>\n",
       "      <td>A jury holdout attempts to prevent a miscarria...</td>\n",
       "      <td>96.0</td>\n",
       "      <td>Sidney Lumet</td>\n",
       "      <td>Henry Fonda</td>\n",
       "      <td>Lee J. Cobb</td>\n",
       "      <td>Martin Balsam</td>\n",
       "      <td>John Fiedler</td>\n",
       "      <td>689845</td>\n",
       "      <td>4,360,000</td>\n",
       "    </tr>\n",
       "    <tr>\n",
       "      <th>5</th>\n",
       "      <td>https://m.media-amazon.com/images/M/MV5BNzA5ZD...</td>\n",
       "      <td>The Lord of the Rings: The Return of the King</td>\n",
       "      <td>2003</td>\n",
       "      <td>U</td>\n",
       "      <td>201 min</td>\n",
       "      <td>Action, Adventure, Drama</td>\n",
       "      <td>8.9</td>\n",
       "      <td>Gandalf and Aragorn lead the World of Men agai...</td>\n",
       "      <td>94.0</td>\n",
       "      <td>Peter Jackson</td>\n",
       "      <td>Elijah Wood</td>\n",
       "      <td>Viggo Mortensen</td>\n",
       "      <td>Ian McKellen</td>\n",
       "      <td>Orlando Bloom</td>\n",
       "      <td>1642758</td>\n",
       "      <td>377,845,905</td>\n",
       "    </tr>\n",
       "    <tr>\n",
       "      <th>6</th>\n",
       "      <td>https://m.media-amazon.com/images/M/MV5BNGNhMD...</td>\n",
       "      <td>Pulp Fiction</td>\n",
       "      <td>1994</td>\n",
       "      <td>A</td>\n",
       "      <td>154 min</td>\n",
       "      <td>Crime, Drama</td>\n",
       "      <td>8.9</td>\n",
       "      <td>The lives of two mob hitmen, a boxer, a gangst...</td>\n",
       "      <td>94.0</td>\n",
       "      <td>Quentin Tarantino</td>\n",
       "      <td>John Travolta</td>\n",
       "      <td>Uma Thurman</td>\n",
       "      <td>Samuel L. Jackson</td>\n",
       "      <td>Bruce Willis</td>\n",
       "      <td>1826188</td>\n",
       "      <td>107,928,762</td>\n",
       "    </tr>\n",
       "    <tr>\n",
       "      <th>7</th>\n",
       "      <td>https://m.media-amazon.com/images/M/MV5BNDE4OT...</td>\n",
       "      <td>Schindler's List</td>\n",
       "      <td>1993</td>\n",
       "      <td>A</td>\n",
       "      <td>195 min</td>\n",
       "      <td>Biography, Drama, History</td>\n",
       "      <td>8.9</td>\n",
       "      <td>In German-occupied Poland during World War II,...</td>\n",
       "      <td>94.0</td>\n",
       "      <td>Steven Spielberg</td>\n",
       "      <td>Liam Neeson</td>\n",
       "      <td>Ralph Fiennes</td>\n",
       "      <td>Ben Kingsley</td>\n",
       "      <td>Caroline Goodall</td>\n",
       "      <td>1213505</td>\n",
       "      <td>96,898,818</td>\n",
       "    </tr>\n",
       "    <tr>\n",
       "      <th>8</th>\n",
       "      <td>https://m.media-amazon.com/images/M/MV5BMjAxMz...</td>\n",
       "      <td>Inception</td>\n",
       "      <td>2010</td>\n",
       "      <td>UA</td>\n",
       "      <td>148 min</td>\n",
       "      <td>Action, Adventure, Sci-Fi</td>\n",
       "      <td>8.8</td>\n",
       "      <td>A thief who steals corporate secrets through t...</td>\n",
       "      <td>74.0</td>\n",
       "      <td>Christopher Nolan</td>\n",
       "      <td>Leonardo DiCaprio</td>\n",
       "      <td>Joseph Gordon-Levitt</td>\n",
       "      <td>Elliot Page</td>\n",
       "      <td>Ken Watanabe</td>\n",
       "      <td>2067042</td>\n",
       "      <td>292,576,195</td>\n",
       "    </tr>\n",
       "    <tr>\n",
       "      <th>9</th>\n",
       "      <td>https://m.media-amazon.com/images/M/MV5BMmEzNT...</td>\n",
       "      <td>Fight Club</td>\n",
       "      <td>1999</td>\n",
       "      <td>A</td>\n",
       "      <td>139 min</td>\n",
       "      <td>Drama</td>\n",
       "      <td>8.8</td>\n",
       "      <td>An insomniac office worker and a devil-may-car...</td>\n",
       "      <td>66.0</td>\n",
       "      <td>David Fincher</td>\n",
       "      <td>Brad Pitt</td>\n",
       "      <td>Edward Norton</td>\n",
       "      <td>Meat Loaf</td>\n",
       "      <td>Zach Grenier</td>\n",
       "      <td>1854740</td>\n",
       "      <td>37,030,102</td>\n",
       "    </tr>\n",
       "  </tbody>\n",
       "</table>\n",
       "</div>"
      ],
      "text/plain": [
       "                                         Poster_Link  \\\n",
       "0  https://m.media-amazon.com/images/M/MV5BMDFkYT...   \n",
       "1  https://m.media-amazon.com/images/M/MV5BM2MyNj...   \n",
       "2  https://m.media-amazon.com/images/M/MV5BMTMxNT...   \n",
       "3  https://m.media-amazon.com/images/M/MV5BMWMwMG...   \n",
       "4  https://m.media-amazon.com/images/M/MV5BMWU4N2...   \n",
       "5  https://m.media-amazon.com/images/M/MV5BNzA5ZD...   \n",
       "6  https://m.media-amazon.com/images/M/MV5BNGNhMD...   \n",
       "7  https://m.media-amazon.com/images/M/MV5BNDE4OT...   \n",
       "8  https://m.media-amazon.com/images/M/MV5BMjAxMz...   \n",
       "9  https://m.media-amazon.com/images/M/MV5BMmEzNT...   \n",
       "\n",
       "                                    Series_Title Released_Year Certificate  \\\n",
       "0                       The Shawshank Redemption          1994           A   \n",
       "1                                  The Godfather          1972           A   \n",
       "2                                The Dark Knight          2008          UA   \n",
       "3                         The Godfather: Part II          1974           A   \n",
       "4                                   12 Angry Men          1957           U   \n",
       "5  The Lord of the Rings: The Return of the King          2003           U   \n",
       "6                                   Pulp Fiction          1994           A   \n",
       "7                               Schindler's List          1993           A   \n",
       "8                                      Inception          2010          UA   \n",
       "9                                     Fight Club          1999           A   \n",
       "\n",
       "   Runtime                      Genre  IMDB_Rating  \\\n",
       "0  142 min                      Drama          9.3   \n",
       "1  175 min               Crime, Drama          9.2   \n",
       "2  152 min       Action, Crime, Drama          9.0   \n",
       "3  202 min               Crime, Drama          9.0   \n",
       "4   96 min               Crime, Drama          9.0   \n",
       "5  201 min   Action, Adventure, Drama          8.9   \n",
       "6  154 min               Crime, Drama          8.9   \n",
       "7  195 min  Biography, Drama, History          8.9   \n",
       "8  148 min  Action, Adventure, Sci-Fi          8.8   \n",
       "9  139 min                      Drama          8.8   \n",
       "\n",
       "                                            Overview  Meta_score  \\\n",
       "0  Two imprisoned men bond over a number of years...        80.0   \n",
       "1  An organized crime dynasty's aging patriarch t...       100.0   \n",
       "2  When the menace known as the Joker wreaks havo...        84.0   \n",
       "3  The early life and career of Vito Corleone in ...        90.0   \n",
       "4  A jury holdout attempts to prevent a miscarria...        96.0   \n",
       "5  Gandalf and Aragorn lead the World of Men agai...        94.0   \n",
       "6  The lives of two mob hitmen, a boxer, a gangst...        94.0   \n",
       "7  In German-occupied Poland during World War II,...        94.0   \n",
       "8  A thief who steals corporate secrets through t...        74.0   \n",
       "9  An insomniac office worker and a devil-may-car...        66.0   \n",
       "\n",
       "               Director              Star1                 Star2  \\\n",
       "0        Frank Darabont        Tim Robbins        Morgan Freeman   \n",
       "1  Francis Ford Coppola      Marlon Brando             Al Pacino   \n",
       "2     Christopher Nolan     Christian Bale          Heath Ledger   \n",
       "3  Francis Ford Coppola          Al Pacino        Robert De Niro   \n",
       "4          Sidney Lumet        Henry Fonda           Lee J. Cobb   \n",
       "5         Peter Jackson        Elijah Wood       Viggo Mortensen   \n",
       "6     Quentin Tarantino      John Travolta           Uma Thurman   \n",
       "7      Steven Spielberg        Liam Neeson         Ralph Fiennes   \n",
       "8     Christopher Nolan  Leonardo DiCaprio  Joseph Gordon-Levitt   \n",
       "9         David Fincher          Brad Pitt         Edward Norton   \n",
       "\n",
       "               Star3             Star4  No_of_Votes        Gross  \n",
       "0         Bob Gunton    William Sadler      2343110   28,341,469  \n",
       "1         James Caan      Diane Keaton      1620367  134,966,411  \n",
       "2      Aaron Eckhart     Michael Caine      2303232  534,858,444  \n",
       "3      Robert Duvall      Diane Keaton      1129952   57,300,000  \n",
       "4      Martin Balsam      John Fiedler       689845    4,360,000  \n",
       "5       Ian McKellen     Orlando Bloom      1642758  377,845,905  \n",
       "6  Samuel L. Jackson      Bruce Willis      1826188  107,928,762  \n",
       "7       Ben Kingsley  Caroline Goodall      1213505   96,898,818  \n",
       "8        Elliot Page      Ken Watanabe      2067042  292,576,195  \n",
       "9          Meat Loaf      Zach Grenier      1854740   37,030,102  "
      ]
     },
     "execution_count": 3,
     "metadata": {},
     "output_type": "execute_result"
    }
   ],
   "source": [
    "Data = pd.read_csv(\"/kaggle/input/imdb-dataset-of-top-1000-movies-and-tv-shows/imdb_top_1000.csv\", encoding='latin1')\n",
    "Data.head(10)"
   ]
  },
  {
   "cell_type": "code",
   "execution_count": 4,
   "id": "2178e319",
   "metadata": {
    "execution": {
     "iopub.execute_input": "2024-07-08T16:21:00.189707Z",
     "iopub.status.busy": "2024-07-08T16:21:00.189292Z",
     "iopub.status.idle": "2024-07-08T16:21:00.218945Z",
     "shell.execute_reply": "2024-07-08T16:21:00.217500Z"
    },
    "papermill": {
     "duration": 0.049689,
     "end_time": "2024-07-08T16:21:00.221903",
     "exception": false,
     "start_time": "2024-07-08T16:21:00.172214",
     "status": "completed"
    },
    "tags": []
   },
   "outputs": [
    {
     "name": "stdout",
     "output_type": "stream",
     "text": [
      "<class 'pandas.core.frame.DataFrame'>\n",
      "RangeIndex: 1000 entries, 0 to 999\n",
      "Data columns (total 16 columns):\n",
      " #   Column         Non-Null Count  Dtype  \n",
      "---  ------         --------------  -----  \n",
      " 0   Poster_Link    1000 non-null   object \n",
      " 1   Series_Title   1000 non-null   object \n",
      " 2   Released_Year  1000 non-null   object \n",
      " 3   Certificate    899 non-null    object \n",
      " 4   Runtime        1000 non-null   object \n",
      " 5   Genre          1000 non-null   object \n",
      " 6   IMDB_Rating    1000 non-null   float64\n",
      " 7   Overview       1000 non-null   object \n",
      " 8   Meta_score     843 non-null    float64\n",
      " 9   Director       1000 non-null   object \n",
      " 10  Star1          1000 non-null   object \n",
      " 11  Star2          1000 non-null   object \n",
      " 12  Star3          1000 non-null   object \n",
      " 13  Star4          1000 non-null   object \n",
      " 14  No_of_Votes    1000 non-null   int64  \n",
      " 15  Gross          831 non-null    object \n",
      "dtypes: float64(2), int64(1), object(13)\n",
      "memory usage: 125.1+ KB\n"
     ]
    }
   ],
   "source": [
    "Data.info()"
   ]
  },
  {
   "cell_type": "code",
   "execution_count": 5,
   "id": "6e707af5",
   "metadata": {
    "execution": {
     "iopub.execute_input": "2024-07-08T16:21:00.253261Z",
     "iopub.status.busy": "2024-07-08T16:21:00.252841Z",
     "iopub.status.idle": "2024-07-08T16:21:00.287881Z",
     "shell.execute_reply": "2024-07-08T16:21:00.286596Z"
    },
    "papermill": {
     "duration": 0.054214,
     "end_time": "2024-07-08T16:21:00.290337",
     "exception": false,
     "start_time": "2024-07-08T16:21:00.236123",
     "status": "completed"
    },
    "tags": []
   },
   "outputs": [
    {
     "data": {
      "text/html": [
       "<div>\n",
       "<style scoped>\n",
       "    .dataframe tbody tr th:only-of-type {\n",
       "        vertical-align: middle;\n",
       "    }\n",
       "\n",
       "    .dataframe tbody tr th {\n",
       "        vertical-align: top;\n",
       "    }\n",
       "\n",
       "    .dataframe thead th {\n",
       "        text-align: right;\n",
       "    }\n",
       "</style>\n",
       "<table border=\"1\" class=\"dataframe\">\n",
       "  <thead>\n",
       "    <tr style=\"text-align: right;\">\n",
       "      <th></th>\n",
       "      <th>Poster_Link</th>\n",
       "      <th>Series_Title</th>\n",
       "      <th>Released_Year</th>\n",
       "      <th>Certificate</th>\n",
       "      <th>Runtime</th>\n",
       "      <th>Genre</th>\n",
       "      <th>IMDB_Rating</th>\n",
       "      <th>Overview</th>\n",
       "      <th>Meta_score</th>\n",
       "      <th>Director</th>\n",
       "      <th>Star1</th>\n",
       "      <th>Star2</th>\n",
       "      <th>Star3</th>\n",
       "      <th>Star4</th>\n",
       "      <th>No_of_Votes</th>\n",
       "      <th>Gross</th>\n",
       "    </tr>\n",
       "  </thead>\n",
       "  <tbody>\n",
       "    <tr>\n",
       "      <th>0</th>\n",
       "      <td>https://m.media-amazon.com/images/M/MV5BMDFkYT...</td>\n",
       "      <td>The Shawshank Redemption</td>\n",
       "      <td>1994</td>\n",
       "      <td>A</td>\n",
       "      <td>142</td>\n",
       "      <td>Drama</td>\n",
       "      <td>9.3</td>\n",
       "      <td>Two imprisoned men bond over a number of years...</td>\n",
       "      <td>80.0</td>\n",
       "      <td>Frank Darabont</td>\n",
       "      <td>Tim Robbins</td>\n",
       "      <td>Morgan Freeman</td>\n",
       "      <td>Bob Gunton</td>\n",
       "      <td>William Sadler</td>\n",
       "      <td>2343110</td>\n",
       "      <td>28341469.0</td>\n",
       "    </tr>\n",
       "    <tr>\n",
       "      <th>1</th>\n",
       "      <td>https://m.media-amazon.com/images/M/MV5BM2MyNj...</td>\n",
       "      <td>The Godfather</td>\n",
       "      <td>1972</td>\n",
       "      <td>A</td>\n",
       "      <td>175</td>\n",
       "      <td>Crime, Drama</td>\n",
       "      <td>9.2</td>\n",
       "      <td>An organized crime dynasty's aging patriarch t...</td>\n",
       "      <td>100.0</td>\n",
       "      <td>Francis Ford Coppola</td>\n",
       "      <td>Marlon Brando</td>\n",
       "      <td>Al Pacino</td>\n",
       "      <td>James Caan</td>\n",
       "      <td>Diane Keaton</td>\n",
       "      <td>1620367</td>\n",
       "      <td>134966411.0</td>\n",
       "    </tr>\n",
       "    <tr>\n",
       "      <th>2</th>\n",
       "      <td>https://m.media-amazon.com/images/M/MV5BMTMxNT...</td>\n",
       "      <td>The Dark Knight</td>\n",
       "      <td>2008</td>\n",
       "      <td>UA</td>\n",
       "      <td>152</td>\n",
       "      <td>Action, Crime, Drama</td>\n",
       "      <td>9.0</td>\n",
       "      <td>When the menace known as the Joker wreaks havo...</td>\n",
       "      <td>84.0</td>\n",
       "      <td>Christopher Nolan</td>\n",
       "      <td>Christian Bale</td>\n",
       "      <td>Heath Ledger</td>\n",
       "      <td>Aaron Eckhart</td>\n",
       "      <td>Michael Caine</td>\n",
       "      <td>2303232</td>\n",
       "      <td>534858444.0</td>\n",
       "    </tr>\n",
       "    <tr>\n",
       "      <th>3</th>\n",
       "      <td>https://m.media-amazon.com/images/M/MV5BMWMwMG...</td>\n",
       "      <td>The Godfather: Part II</td>\n",
       "      <td>1974</td>\n",
       "      <td>A</td>\n",
       "      <td>202</td>\n",
       "      <td>Crime, Drama</td>\n",
       "      <td>9.0</td>\n",
       "      <td>The early life and career of Vito Corleone in ...</td>\n",
       "      <td>90.0</td>\n",
       "      <td>Francis Ford Coppola</td>\n",
       "      <td>Al Pacino</td>\n",
       "      <td>Robert De Niro</td>\n",
       "      <td>Robert Duvall</td>\n",
       "      <td>Diane Keaton</td>\n",
       "      <td>1129952</td>\n",
       "      <td>57300000.0</td>\n",
       "    </tr>\n",
       "    <tr>\n",
       "      <th>4</th>\n",
       "      <td>https://m.media-amazon.com/images/M/MV5BMWU4N2...</td>\n",
       "      <td>12 Angry Men</td>\n",
       "      <td>1957</td>\n",
       "      <td>U</td>\n",
       "      <td>96</td>\n",
       "      <td>Crime, Drama</td>\n",
       "      <td>9.0</td>\n",
       "      <td>A jury holdout attempts to prevent a miscarria...</td>\n",
       "      <td>96.0</td>\n",
       "      <td>Sidney Lumet</td>\n",
       "      <td>Henry Fonda</td>\n",
       "      <td>Lee J. Cobb</td>\n",
       "      <td>Martin Balsam</td>\n",
       "      <td>John Fiedler</td>\n",
       "      <td>689845</td>\n",
       "      <td>4360000.0</td>\n",
       "    </tr>\n",
       "    <tr>\n",
       "      <th>5</th>\n",
       "      <td>https://m.media-amazon.com/images/M/MV5BNzA5ZD...</td>\n",
       "      <td>The Lord of the Rings: The Return of the King</td>\n",
       "      <td>2003</td>\n",
       "      <td>U</td>\n",
       "      <td>201</td>\n",
       "      <td>Action, Adventure, Drama</td>\n",
       "      <td>8.9</td>\n",
       "      <td>Gandalf and Aragorn lead the World of Men agai...</td>\n",
       "      <td>94.0</td>\n",
       "      <td>Peter Jackson</td>\n",
       "      <td>Elijah Wood</td>\n",
       "      <td>Viggo Mortensen</td>\n",
       "      <td>Ian McKellen</td>\n",
       "      <td>Orlando Bloom</td>\n",
       "      <td>1642758</td>\n",
       "      <td>377845905.0</td>\n",
       "    </tr>\n",
       "    <tr>\n",
       "      <th>6</th>\n",
       "      <td>https://m.media-amazon.com/images/M/MV5BNGNhMD...</td>\n",
       "      <td>Pulp Fiction</td>\n",
       "      <td>1994</td>\n",
       "      <td>A</td>\n",
       "      <td>154</td>\n",
       "      <td>Crime, Drama</td>\n",
       "      <td>8.9</td>\n",
       "      <td>The lives of two mob hitmen, a boxer, a gangst...</td>\n",
       "      <td>94.0</td>\n",
       "      <td>Quentin Tarantino</td>\n",
       "      <td>John Travolta</td>\n",
       "      <td>Uma Thurman</td>\n",
       "      <td>Samuel L. Jackson</td>\n",
       "      <td>Bruce Willis</td>\n",
       "      <td>1826188</td>\n",
       "      <td>107928762.0</td>\n",
       "    </tr>\n",
       "    <tr>\n",
       "      <th>7</th>\n",
       "      <td>https://m.media-amazon.com/images/M/MV5BNDE4OT...</td>\n",
       "      <td>Schindler's List</td>\n",
       "      <td>1993</td>\n",
       "      <td>A</td>\n",
       "      <td>195</td>\n",
       "      <td>Biography, Drama, History</td>\n",
       "      <td>8.9</td>\n",
       "      <td>In German-occupied Poland during World War II,...</td>\n",
       "      <td>94.0</td>\n",
       "      <td>Steven Spielberg</td>\n",
       "      <td>Liam Neeson</td>\n",
       "      <td>Ralph Fiennes</td>\n",
       "      <td>Ben Kingsley</td>\n",
       "      <td>Caroline Goodall</td>\n",
       "      <td>1213505</td>\n",
       "      <td>96898818.0</td>\n",
       "    </tr>\n",
       "    <tr>\n",
       "      <th>8</th>\n",
       "      <td>https://m.media-amazon.com/images/M/MV5BMjAxMz...</td>\n",
       "      <td>Inception</td>\n",
       "      <td>2010</td>\n",
       "      <td>UA</td>\n",
       "      <td>148</td>\n",
       "      <td>Action, Adventure, Sci-Fi</td>\n",
       "      <td>8.8</td>\n",
       "      <td>A thief who steals corporate secrets through t...</td>\n",
       "      <td>74.0</td>\n",
       "      <td>Christopher Nolan</td>\n",
       "      <td>Leonardo DiCaprio</td>\n",
       "      <td>Joseph Gordon-Levitt</td>\n",
       "      <td>Elliot Page</td>\n",
       "      <td>Ken Watanabe</td>\n",
       "      <td>2067042</td>\n",
       "      <td>292576195.0</td>\n",
       "    </tr>\n",
       "    <tr>\n",
       "      <th>9</th>\n",
       "      <td>https://m.media-amazon.com/images/M/MV5BMmEzNT...</td>\n",
       "      <td>Fight Club</td>\n",
       "      <td>1999</td>\n",
       "      <td>A</td>\n",
       "      <td>139</td>\n",
       "      <td>Drama</td>\n",
       "      <td>8.8</td>\n",
       "      <td>An insomniac office worker and a devil-may-car...</td>\n",
       "      <td>66.0</td>\n",
       "      <td>David Fincher</td>\n",
       "      <td>Brad Pitt</td>\n",
       "      <td>Edward Norton</td>\n",
       "      <td>Meat Loaf</td>\n",
       "      <td>Zach Grenier</td>\n",
       "      <td>1854740</td>\n",
       "      <td>37030102.0</td>\n",
       "    </tr>\n",
       "  </tbody>\n",
       "</table>\n",
       "</div>"
      ],
      "text/plain": [
       "                                         Poster_Link  \\\n",
       "0  https://m.media-amazon.com/images/M/MV5BMDFkYT...   \n",
       "1  https://m.media-amazon.com/images/M/MV5BM2MyNj...   \n",
       "2  https://m.media-amazon.com/images/M/MV5BMTMxNT...   \n",
       "3  https://m.media-amazon.com/images/M/MV5BMWMwMG...   \n",
       "4  https://m.media-amazon.com/images/M/MV5BMWU4N2...   \n",
       "5  https://m.media-amazon.com/images/M/MV5BNzA5ZD...   \n",
       "6  https://m.media-amazon.com/images/M/MV5BNGNhMD...   \n",
       "7  https://m.media-amazon.com/images/M/MV5BNDE4OT...   \n",
       "8  https://m.media-amazon.com/images/M/MV5BMjAxMz...   \n",
       "9  https://m.media-amazon.com/images/M/MV5BMmEzNT...   \n",
       "\n",
       "                                    Series_Title  Released_Year Certificate  \\\n",
       "0                       The Shawshank Redemption           1994           A   \n",
       "1                                  The Godfather           1972           A   \n",
       "2                                The Dark Knight           2008          UA   \n",
       "3                         The Godfather: Part II           1974           A   \n",
       "4                                   12 Angry Men           1957           U   \n",
       "5  The Lord of the Rings: The Return of the King           2003           U   \n",
       "6                                   Pulp Fiction           1994           A   \n",
       "7                               Schindler's List           1993           A   \n",
       "8                                      Inception           2010          UA   \n",
       "9                                     Fight Club           1999           A   \n",
       "\n",
       "   Runtime                      Genre  IMDB_Rating  \\\n",
       "0      142                      Drama          9.3   \n",
       "1      175               Crime, Drama          9.2   \n",
       "2      152       Action, Crime, Drama          9.0   \n",
       "3      202               Crime, Drama          9.0   \n",
       "4       96               Crime, Drama          9.0   \n",
       "5      201   Action, Adventure, Drama          8.9   \n",
       "6      154               Crime, Drama          8.9   \n",
       "7      195  Biography, Drama, History          8.9   \n",
       "8      148  Action, Adventure, Sci-Fi          8.8   \n",
       "9      139                      Drama          8.8   \n",
       "\n",
       "                                            Overview  Meta_score  \\\n",
       "0  Two imprisoned men bond over a number of years...        80.0   \n",
       "1  An organized crime dynasty's aging patriarch t...       100.0   \n",
       "2  When the menace known as the Joker wreaks havo...        84.0   \n",
       "3  The early life and career of Vito Corleone in ...        90.0   \n",
       "4  A jury holdout attempts to prevent a miscarria...        96.0   \n",
       "5  Gandalf and Aragorn lead the World of Men agai...        94.0   \n",
       "6  The lives of two mob hitmen, a boxer, a gangst...        94.0   \n",
       "7  In German-occupied Poland during World War II,...        94.0   \n",
       "8  A thief who steals corporate secrets through t...        74.0   \n",
       "9  An insomniac office worker and a devil-may-car...        66.0   \n",
       "\n",
       "               Director              Star1                 Star2  \\\n",
       "0        Frank Darabont        Tim Robbins        Morgan Freeman   \n",
       "1  Francis Ford Coppola      Marlon Brando             Al Pacino   \n",
       "2     Christopher Nolan     Christian Bale          Heath Ledger   \n",
       "3  Francis Ford Coppola          Al Pacino        Robert De Niro   \n",
       "4          Sidney Lumet        Henry Fonda           Lee J. Cobb   \n",
       "5         Peter Jackson        Elijah Wood       Viggo Mortensen   \n",
       "6     Quentin Tarantino      John Travolta           Uma Thurman   \n",
       "7      Steven Spielberg        Liam Neeson         Ralph Fiennes   \n",
       "8     Christopher Nolan  Leonardo DiCaprio  Joseph Gordon-Levitt   \n",
       "9         David Fincher          Brad Pitt         Edward Norton   \n",
       "\n",
       "               Star3             Star4  No_of_Votes        Gross  \n",
       "0         Bob Gunton    William Sadler      2343110   28341469.0  \n",
       "1         James Caan      Diane Keaton      1620367  134966411.0  \n",
       "2      Aaron Eckhart     Michael Caine      2303232  534858444.0  \n",
       "3      Robert Duvall      Diane Keaton      1129952   57300000.0  \n",
       "4      Martin Balsam      John Fiedler       689845    4360000.0  \n",
       "5       Ian McKellen     Orlando Bloom      1642758  377845905.0  \n",
       "6  Samuel L. Jackson      Bruce Willis      1826188  107928762.0  \n",
       "7       Ben Kingsley  Caroline Goodall      1213505   96898818.0  \n",
       "8        Elliot Page      Ken Watanabe      2067042  292576195.0  \n",
       "9          Meat Loaf      Zach Grenier      1854740   37030102.0  "
      ]
     },
     "execution_count": 5,
     "metadata": {},
     "output_type": "execute_result"
    }
   ],
   "source": [
    "# Ganti karakter koma dan ubah tipe data menjadi integer\n",
    "Data['Gross'] = Data['Gross'].str.replace(',', '').astype(float)\n",
    "\n",
    "Data['Runtime'] = Data['Runtime'].str.replace('min', '').astype(int)\n",
    "\n",
    "# Cleaning and changing type rating columns from string to float64\n",
    "# One product has the rating \"|\", so I searched amazon.in for its actual rating, wich was 3.9\n",
    "\n",
    "# Update rating of this product\n",
    "Data.loc[966, 'Released_Year'] = \"1995\"\n",
    "\n",
    "# Changing type of rating column to float\n",
    "Data['Released_Year'] = Data['Released_Year'].astype('int')\n",
    "\n",
    "Data.head(10)"
   ]
  },
  {
   "cell_type": "code",
   "execution_count": 6,
   "id": "ecea8833",
   "metadata": {
    "execution": {
     "iopub.execute_input": "2024-07-08T16:21:00.321531Z",
     "iopub.status.busy": "2024-07-08T16:21:00.321099Z",
     "iopub.status.idle": "2024-07-08T16:21:00.435885Z",
     "shell.execute_reply": "2024-07-08T16:21:00.433750Z"
    },
    "papermill": {
     "duration": 0.133913,
     "end_time": "2024-07-08T16:21:00.438779",
     "exception": false,
     "start_time": "2024-07-08T16:21:00.304866",
     "status": "completed"
    },
    "tags": []
   },
   "outputs": [
    {
     "name": "stdout",
     "output_type": "stream",
     "text": [
      "Null Values of Anime Dataset :\n"
     ]
    },
    {
     "data": {
      "text/html": [
       "<style type=\"text/css\">\n",
       "#T_e22d0_row0_col0, #T_e22d0_row0_col1, #T_e22d0_row0_col2, #T_e22d0_row0_col3, #T_e22d0_row0_col4, #T_e22d0_row0_col5, #T_e22d0_row0_col6, #T_e22d0_row0_col7, #T_e22d0_row0_col8, #T_e22d0_row0_col9, #T_e22d0_row0_col10, #T_e22d0_row0_col11, #T_e22d0_row0_col12, #T_e22d0_row0_col13, #T_e22d0_row0_col14, #T_e22d0_row0_col15 {\n",
       "  background-color: #deb522;\n",
       "  color: white;\n",
       "  border: 1.5px  solid black;\n",
       "}\n",
       "</style>\n",
       "<table id=\"T_e22d0\">\n",
       "  <thead>\n",
       "    <tr>\n",
       "      <th class=\"blank level0\" >&nbsp;</th>\n",
       "      <th id=\"T_e22d0_level0_col0\" class=\"col_heading level0 col0\" >Poster_Link</th>\n",
       "      <th id=\"T_e22d0_level0_col1\" class=\"col_heading level0 col1\" >Series_Title</th>\n",
       "      <th id=\"T_e22d0_level0_col2\" class=\"col_heading level0 col2\" >Released_Year</th>\n",
       "      <th id=\"T_e22d0_level0_col3\" class=\"col_heading level0 col3\" >Certificate</th>\n",
       "      <th id=\"T_e22d0_level0_col4\" class=\"col_heading level0 col4\" >Runtime</th>\n",
       "      <th id=\"T_e22d0_level0_col5\" class=\"col_heading level0 col5\" >Genre</th>\n",
       "      <th id=\"T_e22d0_level0_col6\" class=\"col_heading level0 col6\" >IMDB_Rating</th>\n",
       "      <th id=\"T_e22d0_level0_col7\" class=\"col_heading level0 col7\" >Overview</th>\n",
       "      <th id=\"T_e22d0_level0_col8\" class=\"col_heading level0 col8\" >Meta_score</th>\n",
       "      <th id=\"T_e22d0_level0_col9\" class=\"col_heading level0 col9\" >Director</th>\n",
       "      <th id=\"T_e22d0_level0_col10\" class=\"col_heading level0 col10\" >Star1</th>\n",
       "      <th id=\"T_e22d0_level0_col11\" class=\"col_heading level0 col11\" >Star2</th>\n",
       "      <th id=\"T_e22d0_level0_col12\" class=\"col_heading level0 col12\" >Star3</th>\n",
       "      <th id=\"T_e22d0_level0_col13\" class=\"col_heading level0 col13\" >Star4</th>\n",
       "      <th id=\"T_e22d0_level0_col14\" class=\"col_heading level0 col14\" >No_of_Votes</th>\n",
       "      <th id=\"T_e22d0_level0_col15\" class=\"col_heading level0 col15\" >Gross</th>\n",
       "    </tr>\n",
       "  </thead>\n",
       "  <tbody>\n",
       "    <tr>\n",
       "      <th id=\"T_e22d0_level0_row0\" class=\"row_heading level0 row0\" >0</th>\n",
       "      <td id=\"T_e22d0_row0_col0\" class=\"data row0 col0\" >0</td>\n",
       "      <td id=\"T_e22d0_row0_col1\" class=\"data row0 col1\" >0</td>\n",
       "      <td id=\"T_e22d0_row0_col2\" class=\"data row0 col2\" >0</td>\n",
       "      <td id=\"T_e22d0_row0_col3\" class=\"data row0 col3\" >101</td>\n",
       "      <td id=\"T_e22d0_row0_col4\" class=\"data row0 col4\" >0</td>\n",
       "      <td id=\"T_e22d0_row0_col5\" class=\"data row0 col5\" >0</td>\n",
       "      <td id=\"T_e22d0_row0_col6\" class=\"data row0 col6\" >0</td>\n",
       "      <td id=\"T_e22d0_row0_col7\" class=\"data row0 col7\" >0</td>\n",
       "      <td id=\"T_e22d0_row0_col8\" class=\"data row0 col8\" >157</td>\n",
       "      <td id=\"T_e22d0_row0_col9\" class=\"data row0 col9\" >0</td>\n",
       "      <td id=\"T_e22d0_row0_col10\" class=\"data row0 col10\" >0</td>\n",
       "      <td id=\"T_e22d0_row0_col11\" class=\"data row0 col11\" >0</td>\n",
       "      <td id=\"T_e22d0_row0_col12\" class=\"data row0 col12\" >0</td>\n",
       "      <td id=\"T_e22d0_row0_col13\" class=\"data row0 col13\" >0</td>\n",
       "      <td id=\"T_e22d0_row0_col14\" class=\"data row0 col14\" >0</td>\n",
       "      <td id=\"T_e22d0_row0_col15\" class=\"data row0 col15\" >169</td>\n",
       "    </tr>\n",
       "  </tbody>\n",
       "</table>\n"
      ],
      "text/plain": [
       "<pandas.io.formats.style.Styler at 0x7e8c4f0d1000>"
      ]
     },
     "execution_count": 6,
     "metadata": {},
     "output_type": "execute_result"
    }
   ],
   "source": [
    "print(\"Null Values of Anime Dataset :\")\n",
    "Data.isna().sum().to_frame().T.style.set_properties(**{\"background-color\": \"#deb522\",\"color\":\"white\",\"border\": \"1.5px  solid black\"})"
   ]
  },
  {
   "cell_type": "code",
   "execution_count": 7,
   "id": "64f52416",
   "metadata": {
    "execution": {
     "iopub.execute_input": "2024-07-08T16:21:00.472368Z",
     "iopub.status.busy": "2024-07-08T16:21:00.471712Z",
     "iopub.status.idle": "2024-07-08T16:21:00.500432Z",
     "shell.execute_reply": "2024-07-08T16:21:00.498974Z"
    },
    "papermill": {
     "duration": 0.048194,
     "end_time": "2024-07-08T16:21:00.503250",
     "exception": false,
     "start_time": "2024-07-08T16:21:00.455056",
     "status": "completed"
    },
    "tags": []
   },
   "outputs": [
    {
     "name": "stdout",
     "output_type": "stream",
     "text": [
      "After Dropping, Null Values of Anime Dataset :\n"
     ]
    },
    {
     "data": {
      "text/html": [
       "<style type=\"text/css\">\n",
       "#T_bf6d2_row0_col0, #T_bf6d2_row0_col1, #T_bf6d2_row0_col2, #T_bf6d2_row0_col3, #T_bf6d2_row0_col4, #T_bf6d2_row0_col5, #T_bf6d2_row0_col6, #T_bf6d2_row0_col7, #T_bf6d2_row0_col8, #T_bf6d2_row0_col9, #T_bf6d2_row0_col10, #T_bf6d2_row0_col11, #T_bf6d2_row0_col12, #T_bf6d2_row0_col13, #T_bf6d2_row0_col14, #T_bf6d2_row0_col15 {\n",
       "  background-color: #deb522;\n",
       "  color: white;\n",
       "  border: 1.5px  solid black;\n",
       "}\n",
       "</style>\n",
       "<table id=\"T_bf6d2\">\n",
       "  <thead>\n",
       "    <tr>\n",
       "      <th class=\"blank level0\" >&nbsp;</th>\n",
       "      <th id=\"T_bf6d2_level0_col0\" class=\"col_heading level0 col0\" >Poster_Link</th>\n",
       "      <th id=\"T_bf6d2_level0_col1\" class=\"col_heading level0 col1\" >Series_Title</th>\n",
       "      <th id=\"T_bf6d2_level0_col2\" class=\"col_heading level0 col2\" >Released_Year</th>\n",
       "      <th id=\"T_bf6d2_level0_col3\" class=\"col_heading level0 col3\" >Certificate</th>\n",
       "      <th id=\"T_bf6d2_level0_col4\" class=\"col_heading level0 col4\" >Runtime</th>\n",
       "      <th id=\"T_bf6d2_level0_col5\" class=\"col_heading level0 col5\" >Genre</th>\n",
       "      <th id=\"T_bf6d2_level0_col6\" class=\"col_heading level0 col6\" >IMDB_Rating</th>\n",
       "      <th id=\"T_bf6d2_level0_col7\" class=\"col_heading level0 col7\" >Overview</th>\n",
       "      <th id=\"T_bf6d2_level0_col8\" class=\"col_heading level0 col8\" >Meta_score</th>\n",
       "      <th id=\"T_bf6d2_level0_col9\" class=\"col_heading level0 col9\" >Director</th>\n",
       "      <th id=\"T_bf6d2_level0_col10\" class=\"col_heading level0 col10\" >Star1</th>\n",
       "      <th id=\"T_bf6d2_level0_col11\" class=\"col_heading level0 col11\" >Star2</th>\n",
       "      <th id=\"T_bf6d2_level0_col12\" class=\"col_heading level0 col12\" >Star3</th>\n",
       "      <th id=\"T_bf6d2_level0_col13\" class=\"col_heading level0 col13\" >Star4</th>\n",
       "      <th id=\"T_bf6d2_level0_col14\" class=\"col_heading level0 col14\" >No_of_Votes</th>\n",
       "      <th id=\"T_bf6d2_level0_col15\" class=\"col_heading level0 col15\" >Gross</th>\n",
       "    </tr>\n",
       "  </thead>\n",
       "  <tbody>\n",
       "    <tr>\n",
       "      <th id=\"T_bf6d2_level0_row0\" class=\"row_heading level0 row0\" >0</th>\n",
       "      <td id=\"T_bf6d2_row0_col0\" class=\"data row0 col0\" >0</td>\n",
       "      <td id=\"T_bf6d2_row0_col1\" class=\"data row0 col1\" >0</td>\n",
       "      <td id=\"T_bf6d2_row0_col2\" class=\"data row0 col2\" >0</td>\n",
       "      <td id=\"T_bf6d2_row0_col3\" class=\"data row0 col3\" >0</td>\n",
       "      <td id=\"T_bf6d2_row0_col4\" class=\"data row0 col4\" >0</td>\n",
       "      <td id=\"T_bf6d2_row0_col5\" class=\"data row0 col5\" >0</td>\n",
       "      <td id=\"T_bf6d2_row0_col6\" class=\"data row0 col6\" >0</td>\n",
       "      <td id=\"T_bf6d2_row0_col7\" class=\"data row0 col7\" >0</td>\n",
       "      <td id=\"T_bf6d2_row0_col8\" class=\"data row0 col8\" >0</td>\n",
       "      <td id=\"T_bf6d2_row0_col9\" class=\"data row0 col9\" >0</td>\n",
       "      <td id=\"T_bf6d2_row0_col10\" class=\"data row0 col10\" >0</td>\n",
       "      <td id=\"T_bf6d2_row0_col11\" class=\"data row0 col11\" >0</td>\n",
       "      <td id=\"T_bf6d2_row0_col12\" class=\"data row0 col12\" >0</td>\n",
       "      <td id=\"T_bf6d2_row0_col13\" class=\"data row0 col13\" >0</td>\n",
       "      <td id=\"T_bf6d2_row0_col14\" class=\"data row0 col14\" >0</td>\n",
       "      <td id=\"T_bf6d2_row0_col15\" class=\"data row0 col15\" >0</td>\n",
       "    </tr>\n",
       "  </tbody>\n",
       "</table>\n"
      ],
      "text/plain": [
       "<pandas.io.formats.style.Styler at 0x7e8c30682c50>"
      ]
     },
     "execution_count": 7,
     "metadata": {},
     "output_type": "execute_result"
    }
   ],
   "source": [
    "print(\"After Dropping, Null Values of Anime Dataset :\")\n",
    "Data.dropna(axis = 0, inplace = True)\n",
    "Data.isna().sum().to_frame().T.style.set_properties(**{\"background-color\": \"#deb522\",\"color\":\"white\",\"border\": \"1.5px  solid black\"})"
   ]
  },
  {
   "cell_type": "code",
   "execution_count": 8,
   "id": "91c29be8",
   "metadata": {
    "execution": {
     "iopub.execute_input": "2024-07-08T16:21:00.536948Z",
     "iopub.status.busy": "2024-07-08T16:21:00.536550Z",
     "iopub.status.idle": "2024-07-08T16:21:00.551511Z",
     "shell.execute_reply": "2024-07-08T16:21:00.550210Z"
    },
    "papermill": {
     "duration": 0.035709,
     "end_time": "2024-07-08T16:21:00.554386",
     "exception": false,
     "start_time": "2024-07-08T16:21:00.518677",
     "status": "completed"
    },
    "tags": []
   },
   "outputs": [
    {
     "name": "stdout",
     "output_type": "stream",
     "text": [
      "<class 'pandas.core.frame.DataFrame'>\n",
      "Index: 714 entries, 0 to 997\n",
      "Data columns (total 16 columns):\n",
      " #   Column         Non-Null Count  Dtype  \n",
      "---  ------         --------------  -----  \n",
      " 0   Poster_Link    714 non-null    object \n",
      " 1   Series_Title   714 non-null    object \n",
      " 2   Released_Year  714 non-null    int64  \n",
      " 3   Certificate    714 non-null    object \n",
      " 4   Runtime        714 non-null    int64  \n",
      " 5   Genre          714 non-null    object \n",
      " 6   IMDB_Rating    714 non-null    float64\n",
      " 7   Overview       714 non-null    object \n",
      " 8   Meta_score     714 non-null    float64\n",
      " 9   Director       714 non-null    object \n",
      " 10  Star1          714 non-null    object \n",
      " 11  Star2          714 non-null    object \n",
      " 12  Star3          714 non-null    object \n",
      " 13  Star4          714 non-null    object \n",
      " 14  No_of_Votes    714 non-null    int64  \n",
      " 15  Gross          714 non-null    float64\n",
      "dtypes: float64(3), int64(3), object(10)\n",
      "memory usage: 94.8+ KB\n"
     ]
    }
   ],
   "source": [
    "Data.info()"
   ]
  },
  {
   "cell_type": "markdown",
   "id": "f80420bb",
   "metadata": {
    "papermill": {
     "duration": 0.017205,
     "end_time": "2024-07-08T16:21:00.587595",
     "exception": false,
     "start_time": "2024-07-08T16:21:00.570390",
     "status": "completed"
    },
    "tags": []
   },
   "source": [
    "# Summary"
   ]
  },
  {
   "cell_type": "code",
   "execution_count": 9,
   "id": "3fadd83e",
   "metadata": {
    "execution": {
     "iopub.execute_input": "2024-07-08T16:21:00.622530Z",
     "iopub.status.busy": "2024-07-08T16:21:00.622084Z",
     "iopub.status.idle": "2024-07-08T16:21:00.654674Z",
     "shell.execute_reply": "2024-07-08T16:21:00.653244Z"
    },
    "papermill": {
     "duration": 0.053978,
     "end_time": "2024-07-08T16:21:00.657415",
     "exception": false,
     "start_time": "2024-07-08T16:21:00.603437",
     "status": "completed"
    },
    "tags": []
   },
   "outputs": [
    {
     "name": "stdout",
     "output_type": "stream",
     "text": [
      "Summary of IMDB Dataset :\n"
     ]
    },
    {
     "data": {
      "text/html": [
       "<style type=\"text/css\">\n",
       "#T_7b897_row0_col0, #T_7b897_row0_col1, #T_7b897_row0_col2, #T_7b897_row0_col3, #T_7b897_row0_col4, #T_7b897_row0_col5, #T_7b897_row0_col6, #T_7b897_row0_col7, #T_7b897_row1_col0, #T_7b897_row1_col1, #T_7b897_row1_col2, #T_7b897_row1_col3, #T_7b897_row1_col4, #T_7b897_row1_col5, #T_7b897_row1_col6, #T_7b897_row1_col7, #T_7b897_row2_col0, #T_7b897_row2_col1, #T_7b897_row2_col2, #T_7b897_row2_col3, #T_7b897_row2_col4, #T_7b897_row2_col5, #T_7b897_row2_col6, #T_7b897_row2_col7, #T_7b897_row3_col0, #T_7b897_row3_col1, #T_7b897_row3_col2, #T_7b897_row3_col3, #T_7b897_row3_col4, #T_7b897_row3_col5, #T_7b897_row3_col6, #T_7b897_row3_col7, #T_7b897_row4_col0, #T_7b897_row4_col1, #T_7b897_row4_col2, #T_7b897_row4_col3, #T_7b897_row4_col4, #T_7b897_row4_col5, #T_7b897_row4_col6, #T_7b897_row4_col7, #T_7b897_row5_col0, #T_7b897_row5_col1, #T_7b897_row5_col2, #T_7b897_row5_col3, #T_7b897_row5_col4, #T_7b897_row5_col5, #T_7b897_row5_col6, #T_7b897_row5_col7 {\n",
       "  background-color: #deb522;\n",
       "  color: white;\n",
       "  border: 1.5px  solid black;\n",
       "}\n",
       "</style>\n",
       "<table id=\"T_7b897\">\n",
       "  <thead>\n",
       "    <tr>\n",
       "      <th class=\"blank level0\" >&nbsp;</th>\n",
       "      <th id=\"T_7b897_level0_col0\" class=\"col_heading level0 col0\" >count</th>\n",
       "      <th id=\"T_7b897_level0_col1\" class=\"col_heading level0 col1\" >mean</th>\n",
       "      <th id=\"T_7b897_level0_col2\" class=\"col_heading level0 col2\" >std</th>\n",
       "      <th id=\"T_7b897_level0_col3\" class=\"col_heading level0 col3\" >min</th>\n",
       "      <th id=\"T_7b897_level0_col4\" class=\"col_heading level0 col4\" >25%</th>\n",
       "      <th id=\"T_7b897_level0_col5\" class=\"col_heading level0 col5\" >50%</th>\n",
       "      <th id=\"T_7b897_level0_col6\" class=\"col_heading level0 col6\" >75%</th>\n",
       "      <th id=\"T_7b897_level0_col7\" class=\"col_heading level0 col7\" >max</th>\n",
       "    </tr>\n",
       "  </thead>\n",
       "  <tbody>\n",
       "    <tr>\n",
       "      <th id=\"T_7b897_level0_row0\" class=\"row_heading level0 row0\" >Released_Year</th>\n",
       "      <td id=\"T_7b897_row0_col0\" class=\"data row0 col0\" >714.000000</td>\n",
       "      <td id=\"T_7b897_row0_col1\" class=\"data row0 col1\" >1995.735294</td>\n",
       "      <td id=\"T_7b897_row0_col2\" class=\"data row0 col2\" >18.585196</td>\n",
       "      <td id=\"T_7b897_row0_col3\" class=\"data row0 col3\" >1930.000000</td>\n",
       "      <td id=\"T_7b897_row0_col4\" class=\"data row0 col4\" >1987.000000</td>\n",
       "      <td id=\"T_7b897_row0_col5\" class=\"data row0 col5\" >2001.000000</td>\n",
       "      <td id=\"T_7b897_row0_col6\" class=\"data row0 col6\" >2009.750000</td>\n",
       "      <td id=\"T_7b897_row0_col7\" class=\"data row0 col7\" >2019.000000</td>\n",
       "    </tr>\n",
       "    <tr>\n",
       "      <th id=\"T_7b897_level0_row1\" class=\"row_heading level0 row1\" >Runtime</th>\n",
       "      <td id=\"T_7b897_row1_col0\" class=\"data row1 col0\" >714.000000</td>\n",
       "      <td id=\"T_7b897_row1_col1\" class=\"data row1 col1\" >123.715686</td>\n",
       "      <td id=\"T_7b897_row1_col2\" class=\"data row1 col2\" >25.887535</td>\n",
       "      <td id=\"T_7b897_row1_col3\" class=\"data row1 col3\" >72.000000</td>\n",
       "      <td id=\"T_7b897_row1_col4\" class=\"data row1 col4\" >104.250000</td>\n",
       "      <td id=\"T_7b897_row1_col5\" class=\"data row1 col5\" >120.000000</td>\n",
       "      <td id=\"T_7b897_row1_col6\" class=\"data row1 col6\" >136.000000</td>\n",
       "      <td id=\"T_7b897_row1_col7\" class=\"data row1 col7\" >238.000000</td>\n",
       "    </tr>\n",
       "    <tr>\n",
       "      <th id=\"T_7b897_level0_row2\" class=\"row_heading level0 row2\" >IMDB_Rating</th>\n",
       "      <td id=\"T_7b897_row2_col0\" class=\"data row2 col0\" >714.000000</td>\n",
       "      <td id=\"T_7b897_row2_col1\" class=\"data row2 col1\" >7.937115</td>\n",
       "      <td id=\"T_7b897_row2_col2\" class=\"data row2 col2\" >0.293278</td>\n",
       "      <td id=\"T_7b897_row2_col3\" class=\"data row2 col3\" >7.600000</td>\n",
       "      <td id=\"T_7b897_row2_col4\" class=\"data row2 col4\" >7.700000</td>\n",
       "      <td id=\"T_7b897_row2_col5\" class=\"data row2 col5\" >7.900000</td>\n",
       "      <td id=\"T_7b897_row2_col6\" class=\"data row2 col6\" >8.100000</td>\n",
       "      <td id=\"T_7b897_row2_col7\" class=\"data row2 col7\" >9.300000</td>\n",
       "    </tr>\n",
       "    <tr>\n",
       "      <th id=\"T_7b897_level0_row3\" class=\"row_heading level0 row3\" >Meta_score</th>\n",
       "      <td id=\"T_7b897_row3_col0\" class=\"data row3 col0\" >714.000000</td>\n",
       "      <td id=\"T_7b897_row3_col1\" class=\"data row3 col1\" >77.158263</td>\n",
       "      <td id=\"T_7b897_row3_col2\" class=\"data row3 col2\" >12.401144</td>\n",
       "      <td id=\"T_7b897_row3_col3\" class=\"data row3 col3\" >28.000000</td>\n",
       "      <td id=\"T_7b897_row3_col4\" class=\"data row3 col4\" >70.000000</td>\n",
       "      <td id=\"T_7b897_row3_col5\" class=\"data row3 col5\" >78.000000</td>\n",
       "      <td id=\"T_7b897_row3_col6\" class=\"data row3 col6\" >86.000000</td>\n",
       "      <td id=\"T_7b897_row3_col7\" class=\"data row3 col7\" >100.000000</td>\n",
       "    </tr>\n",
       "    <tr>\n",
       "      <th id=\"T_7b897_level0_row4\" class=\"row_heading level0 row4\" >No_of_Votes</th>\n",
       "      <td id=\"T_7b897_row4_col0\" class=\"data row4 col0\" >714.000000</td>\n",
       "      <td id=\"T_7b897_row4_col1\" class=\"data row4 col1\" >356134.823529</td>\n",
       "      <td id=\"T_7b897_row4_col2\" class=\"data row4 col2\" >353901.127505</td>\n",
       "      <td id=\"T_7b897_row4_col3\" class=\"data row4 col3\" >25229.000000</td>\n",
       "      <td id=\"T_7b897_row4_col4\" class=\"data row4 col4\" >96009.750000</td>\n",
       "      <td id=\"T_7b897_row4_col5\" class=\"data row4 col5\" >236602.500000</td>\n",
       "      <td id=\"T_7b897_row4_col6\" class=\"data row4 col6\" >507792.250000</td>\n",
       "      <td id=\"T_7b897_row4_col7\" class=\"data row4 col7\" >2343110.000000</td>\n",
       "    </tr>\n",
       "    <tr>\n",
       "      <th id=\"T_7b897_level0_row5\" class=\"row_heading level0 row5\" >Gross</th>\n",
       "      <td id=\"T_7b897_row5_col0\" class=\"data row5 col0\" >714.000000</td>\n",
       "      <td id=\"T_7b897_row5_col1\" class=\"data row5 col1\" >78513585.239496</td>\n",
       "      <td id=\"T_7b897_row5_col2\" class=\"data row5 col2\" >114977950.330585</td>\n",
       "      <td id=\"T_7b897_row5_col3\" class=\"data row5 col3\" >1305.000000</td>\n",
       "      <td id=\"T_7b897_row5_col4\" class=\"data row5 col4\" >6157408.500000</td>\n",
       "      <td id=\"T_7b897_row5_col5\" class=\"data row5 col5\" >34850145.500000</td>\n",
       "      <td id=\"T_7b897_row5_col6\" class=\"data row5 col6\" >102464067.000000</td>\n",
       "      <td id=\"T_7b897_row5_col7\" class=\"data row5 col7\" >936662225.000000</td>\n",
       "    </tr>\n",
       "  </tbody>\n",
       "</table>\n"
      ],
      "text/plain": [
       "<pandas.io.formats.style.Styler at 0x7e8c2fc52ef0>"
      ]
     },
     "execution_count": 9,
     "metadata": {},
     "output_type": "execute_result"
    }
   ],
   "source": [
    "print(f\"Summary of IMDB Dataset :\")\n",
    "Data.describe().T.style.set_properties(**{\"background-color\": \"#deb522\",\"color\":\"white\",\"border\": \"1.5px  solid black\"})"
   ]
  },
  {
   "cell_type": "code",
   "execution_count": 10,
   "id": "3176a54e",
   "metadata": {
    "execution": {
     "iopub.execute_input": "2024-07-08T16:21:00.691609Z",
     "iopub.status.busy": "2024-07-08T16:21:00.691197Z",
     "iopub.status.idle": "2024-07-08T16:21:00.724602Z",
     "shell.execute_reply": "2024-07-08T16:21:00.723342Z"
    },
    "papermill": {
     "duration": 0.053403,
     "end_time": "2024-07-08T16:21:00.727339",
     "exception": false,
     "start_time": "2024-07-08T16:21:00.673936",
     "status": "completed"
    },
    "tags": []
   },
   "outputs": [
    {
     "data": {
      "text/html": [
       "<style type=\"text/css\">\n",
       "#T_9ddc9_row0_col0, #T_9ddc9_row0_col1, #T_9ddc9_row0_col2, #T_9ddc9_row0_col3, #T_9ddc9_row1_col0, #T_9ddc9_row1_col1, #T_9ddc9_row1_col2, #T_9ddc9_row1_col3, #T_9ddc9_row2_col0, #T_9ddc9_row2_col1, #T_9ddc9_row2_col2, #T_9ddc9_row2_col3, #T_9ddc9_row3_col0, #T_9ddc9_row3_col1, #T_9ddc9_row3_col2, #T_9ddc9_row3_col3, #T_9ddc9_row4_col0, #T_9ddc9_row4_col1, #T_9ddc9_row4_col2, #T_9ddc9_row4_col3, #T_9ddc9_row5_col0, #T_9ddc9_row5_col1, #T_9ddc9_row5_col2, #T_9ddc9_row5_col3, #T_9ddc9_row6_col0, #T_9ddc9_row6_col1, #T_9ddc9_row6_col2, #T_9ddc9_row6_col3, #T_9ddc9_row7_col0, #T_9ddc9_row7_col1, #T_9ddc9_row7_col2, #T_9ddc9_row7_col3, #T_9ddc9_row8_col0, #T_9ddc9_row8_col1, #T_9ddc9_row8_col2, #T_9ddc9_row8_col3, #T_9ddc9_row9_col0, #T_9ddc9_row9_col1, #T_9ddc9_row9_col2, #T_9ddc9_row9_col3 {\n",
       "  background-color: #deb522;\n",
       "  color: solid black;\n",
       "  border: 1.5px  solid black;\n",
       "}\n",
       "</style>\n",
       "<table id=\"T_9ddc9\">\n",
       "  <thead>\n",
       "    <tr>\n",
       "      <th class=\"blank level0\" >&nbsp;</th>\n",
       "      <th id=\"T_9ddc9_level0_col0\" class=\"col_heading level0 col0\" >count</th>\n",
       "      <th id=\"T_9ddc9_level0_col1\" class=\"col_heading level0 col1\" >unique</th>\n",
       "      <th id=\"T_9ddc9_level0_col2\" class=\"col_heading level0 col2\" >top</th>\n",
       "      <th id=\"T_9ddc9_level0_col3\" class=\"col_heading level0 col3\" >freq</th>\n",
       "    </tr>\n",
       "  </thead>\n",
       "  <tbody>\n",
       "    <tr>\n",
       "      <th id=\"T_9ddc9_level0_row0\" class=\"row_heading level0 row0\" >Poster_Link</th>\n",
       "      <td id=\"T_9ddc9_row0_col0\" class=\"data row0 col0\" >714</td>\n",
       "      <td id=\"T_9ddc9_row0_col1\" class=\"data row0 col1\" >714</td>\n",
       "      <td id=\"T_9ddc9_row0_col2\" class=\"data row0 col2\" >https://m.media-amazon.com/images/M/MV5BMDFkYTc0MGEtZmNhMC00ZDIzLWFmNTEtODM1ZmRlYWMwMWFmXkEyXkFqcGdeQXVyMTMxODk2OTU@._V1_UX67_CR0,0,67,98_AL_.jpg</td>\n",
       "      <td id=\"T_9ddc9_row0_col3\" class=\"data row0 col3\" >1</td>\n",
       "    </tr>\n",
       "    <tr>\n",
       "      <th id=\"T_9ddc9_level0_row1\" class=\"row_heading level0 row1\" >Series_Title</th>\n",
       "      <td id=\"T_9ddc9_row1_col0\" class=\"data row1 col0\" >714</td>\n",
       "      <td id=\"T_9ddc9_row1_col1\" class=\"data row1 col1\" >714</td>\n",
       "      <td id=\"T_9ddc9_row1_col2\" class=\"data row1 col2\" >The Shawshank Redemption</td>\n",
       "      <td id=\"T_9ddc9_row1_col3\" class=\"data row1 col3\" >1</td>\n",
       "    </tr>\n",
       "    <tr>\n",
       "      <th id=\"T_9ddc9_level0_row2\" class=\"row_heading level0 row2\" >Certificate</th>\n",
       "      <td id=\"T_9ddc9_row2_col0\" class=\"data row2 col0\" >714</td>\n",
       "      <td id=\"T_9ddc9_row2_col1\" class=\"data row2 col1\" >12</td>\n",
       "      <td id=\"T_9ddc9_row2_col2\" class=\"data row2 col2\" >U</td>\n",
       "      <td id=\"T_9ddc9_row2_col3\" class=\"data row2 col3\" >183</td>\n",
       "    </tr>\n",
       "    <tr>\n",
       "      <th id=\"T_9ddc9_level0_row3\" class=\"row_heading level0 row3\" >Genre</th>\n",
       "      <td id=\"T_9ddc9_row3_col0\" class=\"data row3 col0\" >714</td>\n",
       "      <td id=\"T_9ddc9_row3_col1\" class=\"data row3 col1\" >172</td>\n",
       "      <td id=\"T_9ddc9_row3_col2\" class=\"data row3 col2\" >Drama</td>\n",
       "      <td id=\"T_9ddc9_row3_col3\" class=\"data row3 col3\" >58</td>\n",
       "    </tr>\n",
       "    <tr>\n",
       "      <th id=\"T_9ddc9_level0_row4\" class=\"row_heading level0 row4\" >Overview</th>\n",
       "      <td id=\"T_9ddc9_row4_col0\" class=\"data row4 col0\" >714</td>\n",
       "      <td id=\"T_9ddc9_row4_col1\" class=\"data row4 col1\" >714</td>\n",
       "      <td id=\"T_9ddc9_row4_col2\" class=\"data row4 col2\" >Two imprisoned men bond over a number of years, finding solace and eventual redemption through acts of common decency.</td>\n",
       "      <td id=\"T_9ddc9_row4_col3\" class=\"data row4 col3\" >1</td>\n",
       "    </tr>\n",
       "    <tr>\n",
       "      <th id=\"T_9ddc9_level0_row5\" class=\"row_heading level0 row5\" >Director</th>\n",
       "      <td id=\"T_9ddc9_row5_col0\" class=\"data row5 col0\" >714</td>\n",
       "      <td id=\"T_9ddc9_row5_col1\" class=\"data row5 col1\" >402</td>\n",
       "      <td id=\"T_9ddc9_row5_col2\" class=\"data row5 col2\" >Steven Spielberg</td>\n",
       "      <td id=\"T_9ddc9_row5_col3\" class=\"data row5 col3\" >13</td>\n",
       "    </tr>\n",
       "    <tr>\n",
       "      <th id=\"T_9ddc9_level0_row6\" class=\"row_heading level0 row6\" >Star1</th>\n",
       "      <td id=\"T_9ddc9_row6_col0\" class=\"data row6 col0\" >714</td>\n",
       "      <td id=\"T_9ddc9_row6_col1\" class=\"data row6 col1\" >472</td>\n",
       "      <td id=\"T_9ddc9_row6_col2\" class=\"data row6 col2\" >Tom Hanks</td>\n",
       "      <td id=\"T_9ddc9_row6_col3\" class=\"data row6 col3\" >12</td>\n",
       "    </tr>\n",
       "    <tr>\n",
       "      <th id=\"T_9ddc9_level0_row7\" class=\"row_heading level0 row7\" >Star2</th>\n",
       "      <td id=\"T_9ddc9_row7_col0\" class=\"data row7 col0\" >714</td>\n",
       "      <td id=\"T_9ddc9_row7_col1\" class=\"data row7 col1\" >599</td>\n",
       "      <td id=\"T_9ddc9_row7_col2\" class=\"data row7 col2\" >Emma Watson</td>\n",
       "      <td id=\"T_9ddc9_row7_col3\" class=\"data row7 col3\" >7</td>\n",
       "    </tr>\n",
       "    <tr>\n",
       "      <th id=\"T_9ddc9_level0_row8\" class=\"row_heading level0 row8\" >Star3</th>\n",
       "      <td id=\"T_9ddc9_row8_col0\" class=\"data row8 col0\" >714</td>\n",
       "      <td id=\"T_9ddc9_row8_col1\" class=\"data row8 col1\" >626</td>\n",
       "      <td id=\"T_9ddc9_row8_col2\" class=\"data row8 col2\" >Rupert Grint</td>\n",
       "      <td id=\"T_9ddc9_row8_col3\" class=\"data row8 col3\" >5</td>\n",
       "    </tr>\n",
       "    <tr>\n",
       "      <th id=\"T_9ddc9_level0_row9\" class=\"row_heading level0 row9\" >Star4</th>\n",
       "      <td id=\"T_9ddc9_row9_col0\" class=\"data row9 col0\" >714</td>\n",
       "      <td id=\"T_9ddc9_row9_col1\" class=\"data row9 col1\" >671</td>\n",
       "      <td id=\"T_9ddc9_row9_col2\" class=\"data row9 col2\" >Michael Caine</td>\n",
       "      <td id=\"T_9ddc9_row9_col3\" class=\"data row9 col3\" >4</td>\n",
       "    </tr>\n",
       "  </tbody>\n",
       "</table>\n"
      ],
      "text/plain": [
       "<pandas.io.formats.style.Styler at 0x7e8c4f0d36a0>"
      ]
     },
     "execution_count": 10,
     "metadata": {},
     "output_type": "execute_result"
    }
   ],
   "source": [
    "Data.describe(include=object).T.style.set_properties(**{\"background-color\": \"#deb522\",\"color\":\"solid black\",\"border\": \"1.5px  solid black\"})"
   ]
  },
  {
   "cell_type": "code",
   "execution_count": 11,
   "id": "1a451a84",
   "metadata": {
    "execution": {
     "iopub.execute_input": "2024-07-08T16:21:00.763020Z",
     "iopub.status.busy": "2024-07-08T16:21:00.762577Z",
     "iopub.status.idle": "2024-07-08T16:21:00.767871Z",
     "shell.execute_reply": "2024-07-08T16:21:00.766615Z"
    },
    "papermill": {
     "duration": 0.025854,
     "end_time": "2024-07-08T16:21:00.770312",
     "exception": false,
     "start_time": "2024-07-08T16:21:00.744458",
     "status": "completed"
    },
    "tags": []
   },
   "outputs": [],
   "source": [
    "netflix_palette = ['#deb522', '#0c0b00', '#fcf7f7']"
   ]
  },
  {
   "cell_type": "markdown",
   "id": "570b3c4b",
   "metadata": {
    "papermill": {
     "duration": 0.015873,
     "end_time": "2024-07-08T16:21:00.802520",
     "exception": false,
     "start_time": "2024-07-08T16:21:00.786647",
     "status": "completed"
    },
    "tags": []
   },
   "source": [
    "# Data Exploring"
   ]
  },
  {
   "cell_type": "code",
   "execution_count": 12,
   "id": "c92627c7",
   "metadata": {
    "execution": {
     "iopub.execute_input": "2024-07-08T16:21:00.837862Z",
     "iopub.status.busy": "2024-07-08T16:21:00.837463Z",
     "iopub.status.idle": "2024-07-08T16:21:03.070451Z",
     "shell.execute_reply": "2024-07-08T16:21:03.069127Z"
    },
    "papermill": {
     "duration": 2.253912,
     "end_time": "2024-07-08T16:21:03.073022",
     "exception": false,
     "start_time": "2024-07-08T16:21:00.819110",
     "status": "completed"
    },
    "tags": []
   },
   "outputs": [
    {
     "data": {
      "text/html": [
       "        <script type=\"text/javascript\">\n",
       "        window.PlotlyConfig = {MathJaxConfig: 'local'};\n",
       "        if (window.MathJax && window.MathJax.Hub && window.MathJax.Hub.Config) {window.MathJax.Hub.Config({SVG: {font: \"STIX-Web\"}});}\n",
       "        if (typeof require !== 'undefined') {\n",
       "        require.undef(\"plotly\");\n",
       "        requirejs.config({\n",
       "            paths: {\n",
       "                'plotly': ['https://cdn.plot.ly/plotly-2.27.0.min']\n",
       "            }\n",
       "        });\n",
       "        require(['plotly'], function(Plotly) {\n",
       "            window._Plotly = Plotly;\n",
       "        });\n",
       "        }\n",
       "        </script>\n",
       "        "
      ]
     },
     "metadata": {},
     "output_type": "display_data"
    },
    {
     "data": {
      "text/html": [
       "<div>                            <div id=\"8e7299a9-7e80-458f-922b-fa7808067739\" class=\"plotly-graph-div\" style=\"height:525px; width:100%;\"></div>            <script type=\"text/javascript\">                require([\"plotly\"], function(Plotly) {                    window.PLOTLYENV=window.PLOTLYENV || {};                                    if (document.getElementById(\"8e7299a9-7e80-458f-922b-fa7808067739\")) {                    Plotly.newPlot(                        \"8e7299a9-7e80-458f-922b-fa7808067739\",                        [{\"alignmentgroup\":\"True\",\"bingroup\":\"x\",\"hovertemplate\":\"Certificate=%{x}\\u003cbr\\u003ecount=%{y}\\u003cextra\\u003e\\u003c\\u002fextra\\u003e\",\"legendgroup\":\"\",\"marker\":{\"color\":\"#deb522\",\"pattern\":{\"shape\":\"\"}},\"name\":\"\",\"offsetgroup\":\"\",\"orientation\":\"v\",\"showlegend\":false,\"x\":[\"A\",\"A\",\"UA\",\"A\",\"U\",\"U\",\"A\",\"A\",\"UA\",\"A\",\"U\",\"UA\",\"A\",\"UA\",\"A\",\"A\",\"UA\",\"A\",\"A\",\"UA\",\"A\",\"U\",\"R\",\"A\",\"U\",\"A\",\"A\",\"UA\",\"U\",\"A\",\"A\",\"UA\",\"U\",\"A\",\"R\",\"UA\",\"R\",\"A\",\"A\",\"U\",\"U\",\"U\",\"U\",\"U\",\"A\",\"U\",\"G\",\"G\",\"A\",\"U\",\"U\",\"UA\",\"UA\",\"U\",\"A\",\"UA\",\"UA\",\"U\",\"A\",\"A\",\"UA\",\"U\",\"A\",\"A\",\"R\",\"R\",\"A\",\"U\",\"R\",\"R\",\"PG-13\",\"R\",\"A\",\"UA\",\"U\",\"UA\",\"A\",\"UA\",\"U\",\"PG\",\"U\",\"A\",\"R\",\"UA\",\"U\",\"R\",\"A\",\"U\",\"R\",\"A\",\"U\",\"A\",\"U\",\"U\",\"U\",\"U\",\"U\",\"A\",\"G\",\"Passed\",\"UA\",\"UA\",\"A\",\"R\",\"UA\",\"A\",\"U\",\"A\",\"U\",\"A\",\"UA\",\"U\",\"A\",\"UA\",\"R\",\"U\",\"UA\",\"A\",\"A\",\"A\",\"A\",\"A\",\"U\",\"U\",\"A\",\"U\",\"A\",\"PG\",\"U\",\"U\",\"A\",\"Passed\",\"Passed\",\"R\",\"A\",\"R\",\"A\",\"R\",\"R\",\"UA\",\"A\",\"A\",\"U\",\"A\",\"UA\",\"UA\",\"A\",\"PG\",\"A\",\"UA\",\"R\",\"UA\",\"PG-13\",\"U\",\"R\",\"R\",\"UA\",\"PG-13\",\"R\",\"R\",\"UA\",\"R\",\"U\",\"A\",\"A\",\"U\",\"U\",\"A\",\"U\",\"U\",\"R\",\"R\",\"U\",\"A\",\"A\",\"R\",\"U\",\"U\",\"UA\",\"UA\",\"U\",\"U\",\"A\",\"U\",\"U\",\"A\",\"UA\",\"A\",\"UA\",\"R\",\"A\",\"U\",\"UA\",\"U\",\"A\",\"Passed\",\"U\",\"PG\",\"A\",\"Approved\",\"Approved\",\"Approved\",\"Passed\",\"U\",\"Approved\",\"A\",\"U\",\"UA\",\"U\",\"U\",\"U\",\"UA\",\"R\",\"A\",\"UA\",\"UA\",\"UA\",\"A\",\"UA\",\"A\",\"UA\",\"U\",\"UA\",\"R\",\"TV-PG\",\"UA\",\"UA\",\"A\",\"R\",\"UA\",\"PG-13\",\"R\",\"U\",\"A\",\"UA\",\"U\",\"A\",\"PG-13\",\"U\",\"PG-13\",\"A\",\"R\",\"U\",\"UA\",\"U\",\"UA\",\"UA\",\"U\",\"U\",\"R\",\"R\",\"R\",\"U\",\"U\",\"R\",\"R\",\"PG\",\"R\",\"U\",\"A\",\"UA\",\"U\",\"U\",\"R\",\"UA\",\"U\",\"UA\",\"G\",\"U\",\"R\",\"U\",\"U\",\"U\",\"U\",\"UA\",\"U\",\"PG\",\"A\",\"A\",\"U\",\"A\",\"R\",\"A\",\"R\",\"G\",\"UA\",\"PG\",\"U\",\"A\",\"U\",\"A\",\"A\",\"A\",\"A\",\"Passed\",\"PG-13\",\"A\",\"A\",\"Approved\",\"Passed\",\"U\",\"U\",\"UA\",\"A\",\"U\",\"UA\",\"UA\",\"U\",\"UA\",\"R\",\"PG-13\",\"UA\",\"A\",\"UA\",\"UA\",\"U\",\"R\",\"UA\",\"U\",\"UA\",\"UA\",\"R\",\"A\",\"R\",\"R\",\"A\",\"UA\",\"A\",\"UA\",\"R\",\"UA\",\"R\",\"U\",\"PG\",\"PG-13\",\"UA\",\"UA\",\"A\",\"U\",\"PG-13\",\"R\",\"R\",\"U\",\"UA\",\"R\",\"A\",\"A\",\"R\",\"U\",\"R\",\"A\",\"R\",\"U\",\"A\",\"U\",\"U\",\"PG-13\",\"A\",\"PG-13\",\"U\",\"R\",\"U\",\"U\",\"R\",\"A\",\"A\",\"U\",\"R\",\"PG\",\"U\",\"A\",\"U\",\"U\",\"A\",\"PG\",\"A\",\"U\",\"PG\",\"Passed\",\"UA\",\"UA\",\"UA\",\"U\",\"PG\",\"UA\",\"R\",\"UA\",\"UA\",\"A\",\"U\",\"UA\",\"PG-13\",\"U\",\"U\",\"R\",\"PG-13\",\"U\",\"R\",\"A\",\"U\",\"A\",\"R\",\"UA\",\"R\",\"R\",\"UA\",\"UA\",\"R\",\"UA\",\"A\",\"PG-13\",\"R\",\"UA\",\"R\",\"A\",\"A\",\"UA\",\"R\",\"A\",\"UA\",\"UA\",\"UA\",\"U\",\"R\",\"PG\",\"U\",\"UA\",\"PG-13\",\"PG-13\",\"A\",\"U\",\"R\",\"PG-13\",\"PG-13\",\"R\",\"U\",\"UA\",\"R\",\"UA\",\"R\",\"UA\",\"PG\",\"U\",\"UA\",\"UA\",\"UA\",\"R\",\"U\",\"U\",\"R\",\"U\",\"U\",\"U\",\"R\",\"R\",\"R\",\"A\",\"R\",\"U\",\"R\",\"U\",\"A\",\"A\",\"A\",\"U\",\"R\",\"U\",\"U\",\"UA\",\"UA\",\"UA\",\"PG\",\"U\",\"U\",\"A\",\"A\",\"U\",\"U\",\"A\",\"A\",\"U\",\"A\",\"U\",\"U\",\"G\",\"A\",\"R\",\"R\",\"R\",\"UA\",\"PG-13\",\"R\",\"U\",\"U\",\"A\",\"UA\",\"PG-13\",\"A\",\"A\",\"U\",\"UA\",\"UA\",\"U\",\"PG\",\"PG-13\",\"U\",\"UA\",\"UA\",\"UA\",\"UA\",\"UA\",\"UA\",\"A\",\"A\",\"UA\",\"A\",\"U\",\"R\",\"U\",\"R\",\"PG\",\"UA\",\"R\",\"R\",\"UA\",\"R\",\"PG-13\",\"R\",\"U\",\"R\",\"A\",\"A\",\"UA\",\"UA\",\"A\",\"R\",\"A\",\"UA\",\"UA\",\"UA\",\"U\",\"UA\",\"R\",\"R\",\"PG-13\",\"PG-13\",\"R\",\"A\",\"A\",\"R\",\"R\",\"R\",\"UA\",\"U\",\"U\",\"A\",\"R\",\"A\",\"UA\",\"R\",\"A\",\"UA\",\"PG-13\",\"A\",\"U\",\"A\",\"U\",\"U\",\"R\",\"R\",\"UA\",\"G\",\"U\",\"UA\",\"R\",\"U\",\"PG-13\",\"U\",\"R\",\"U\",\"R\",\"U\",\"U\",\"R\",\"A\",\"U\",\"UA\",\"U\",\"U\",\"A\",\"U\",\"U\",\"A\",\"R\",\"A\",\"A\",\"A\",\"U\",\"A\",\"A\",\"G\",\"U\",\"A\",\"A\",\"Approved\",\"PG\",\"G\",\"U\\u002fA\",\"A\",\"R\",\"A\",\"PG-13\",\"PG-13\",\"PG-13\",\"UA\",\"UA\",\"UA\",\"UA\",\"UA\",\"U\",\"A\",\"A\",\"R\",\"R\",\"PG-13\",\"UA\",\"A\",\"A\",\"U\",\"UA\",\"PG-13\",\"R\",\"U\",\"R\",\"UA\",\"PG-13\",\"R\",\"A\",\"PG-13\",\"UA\",\"PG-13\",\"UA\",\"R\",\"U\",\"R\",\"R\",\"PG-13\",\"PG-13\",\"U\",\"UA\",\"A\",\"R\",\"A\",\"R\",\"UA\",\"R\",\"R\",\"R\",\"U\",\"R\",\"UA\",\"R\",\"U\",\"R\",\"U\",\"A\",\"A\",\"A\",\"U\",\"PG-13\",\"R\",\"A\",\"A\",\"R\",\"A\",\"UA\",\"A\",\"U\",\"R\",\"A\",\"UA\",\"A\",\"U\",\"A\",\"R\",\"A\",\"U\",\"U\",\"R\",\"U\",\"UA\",\"U\",\"R\",\"U\",\"A\",\"UA\",\"U\",\"U\",\"U\",\"A\",\"A\",\"UA\",\"A\",\"UA\",\"U\",\"A\",\"A\",\"U\",\"A\",\"PG\",\"GP\",\"U\",\"U\",\"Passed\"],\"xaxis\":\"x\",\"yaxis\":\"y\",\"type\":\"histogram\"}],                        {\"template\":{\"data\":{\"histogram2dcontour\":[{\"type\":\"histogram2dcontour\",\"colorbar\":{\"outlinewidth\":0,\"ticks\":\"\"},\"colorscale\":[[0.0,\"#0d0887\"],[0.1111111111111111,\"#46039f\"],[0.2222222222222222,\"#7201a8\"],[0.3333333333333333,\"#9c179e\"],[0.4444444444444444,\"#bd3786\"],[0.5555555555555556,\"#d8576b\"],[0.6666666666666666,\"#ed7953\"],[0.7777777777777778,\"#fb9f3a\"],[0.8888888888888888,\"#fdca26\"],[1.0,\"#f0f921\"]]}],\"choropleth\":[{\"type\":\"choropleth\",\"colorbar\":{\"outlinewidth\":0,\"ticks\":\"\"}}],\"histogram2d\":[{\"type\":\"histogram2d\",\"colorbar\":{\"outlinewidth\":0,\"ticks\":\"\"},\"colorscale\":[[0.0,\"#0d0887\"],[0.1111111111111111,\"#46039f\"],[0.2222222222222222,\"#7201a8\"],[0.3333333333333333,\"#9c179e\"],[0.4444444444444444,\"#bd3786\"],[0.5555555555555556,\"#d8576b\"],[0.6666666666666666,\"#ed7953\"],[0.7777777777777778,\"#fb9f3a\"],[0.8888888888888888,\"#fdca26\"],[1.0,\"#f0f921\"]]}],\"heatmap\":[{\"type\":\"heatmap\",\"colorbar\":{\"outlinewidth\":0,\"ticks\":\"\"},\"colorscale\":[[0.0,\"#0d0887\"],[0.1111111111111111,\"#46039f\"],[0.2222222222222222,\"#7201a8\"],[0.3333333333333333,\"#9c179e\"],[0.4444444444444444,\"#bd3786\"],[0.5555555555555556,\"#d8576b\"],[0.6666666666666666,\"#ed7953\"],[0.7777777777777778,\"#fb9f3a\"],[0.8888888888888888,\"#fdca26\"],[1.0,\"#f0f921\"]]}],\"heatmapgl\":[{\"type\":\"heatmapgl\",\"colorbar\":{\"outlinewidth\":0,\"ticks\":\"\"},\"colorscale\":[[0.0,\"#0d0887\"],[0.1111111111111111,\"#46039f\"],[0.2222222222222222,\"#7201a8\"],[0.3333333333333333,\"#9c179e\"],[0.4444444444444444,\"#bd3786\"],[0.5555555555555556,\"#d8576b\"],[0.6666666666666666,\"#ed7953\"],[0.7777777777777778,\"#fb9f3a\"],[0.8888888888888888,\"#fdca26\"],[1.0,\"#f0f921\"]]}],\"contourcarpet\":[{\"type\":\"contourcarpet\",\"colorbar\":{\"outlinewidth\":0,\"ticks\":\"\"}}],\"contour\":[{\"type\":\"contour\",\"colorbar\":{\"outlinewidth\":0,\"ticks\":\"\"},\"colorscale\":[[0.0,\"#0d0887\"],[0.1111111111111111,\"#46039f\"],[0.2222222222222222,\"#7201a8\"],[0.3333333333333333,\"#9c179e\"],[0.4444444444444444,\"#bd3786\"],[0.5555555555555556,\"#d8576b\"],[0.6666666666666666,\"#ed7953\"],[0.7777777777777778,\"#fb9f3a\"],[0.8888888888888888,\"#fdca26\"],[1.0,\"#f0f921\"]]}],\"surface\":[{\"type\":\"surface\",\"colorbar\":{\"outlinewidth\":0,\"ticks\":\"\"},\"colorscale\":[[0.0,\"#0d0887\"],[0.1111111111111111,\"#46039f\"],[0.2222222222222222,\"#7201a8\"],[0.3333333333333333,\"#9c179e\"],[0.4444444444444444,\"#bd3786\"],[0.5555555555555556,\"#d8576b\"],[0.6666666666666666,\"#ed7953\"],[0.7777777777777778,\"#fb9f3a\"],[0.8888888888888888,\"#fdca26\"],[1.0,\"#f0f921\"]]}],\"mesh3d\":[{\"type\":\"mesh3d\",\"colorbar\":{\"outlinewidth\":0,\"ticks\":\"\"}}],\"scatter\":[{\"fillpattern\":{\"fillmode\":\"overlay\",\"size\":10,\"solidity\":0.2},\"type\":\"scatter\"}],\"parcoords\":[{\"type\":\"parcoords\",\"line\":{\"colorbar\":{\"outlinewidth\":0,\"ticks\":\"\"}}}],\"scatterpolargl\":[{\"type\":\"scatterpolargl\",\"marker\":{\"colorbar\":{\"outlinewidth\":0,\"ticks\":\"\"}}}],\"bar\":[{\"error_x\":{\"color\":\"#2a3f5f\"},\"error_y\":{\"color\":\"#2a3f5f\"},\"marker\":{\"line\":{\"color\":\"#E5ECF6\",\"width\":0.5},\"pattern\":{\"fillmode\":\"overlay\",\"size\":10,\"solidity\":0.2}},\"type\":\"bar\"}],\"scattergeo\":[{\"type\":\"scattergeo\",\"marker\":{\"colorbar\":{\"outlinewidth\":0,\"ticks\":\"\"}}}],\"scatterpolar\":[{\"type\":\"scatterpolar\",\"marker\":{\"colorbar\":{\"outlinewidth\":0,\"ticks\":\"\"}}}],\"histogram\":[{\"marker\":{\"pattern\":{\"fillmode\":\"overlay\",\"size\":10,\"solidity\":0.2}},\"type\":\"histogram\"}],\"scattergl\":[{\"type\":\"scattergl\",\"marker\":{\"colorbar\":{\"outlinewidth\":0,\"ticks\":\"\"}}}],\"scatter3d\":[{\"type\":\"scatter3d\",\"line\":{\"colorbar\":{\"outlinewidth\":0,\"ticks\":\"\"}},\"marker\":{\"colorbar\":{\"outlinewidth\":0,\"ticks\":\"\"}}}],\"scattermapbox\":[{\"type\":\"scattermapbox\",\"marker\":{\"colorbar\":{\"outlinewidth\":0,\"ticks\":\"\"}}}],\"scatterternary\":[{\"type\":\"scatterternary\",\"marker\":{\"colorbar\":{\"outlinewidth\":0,\"ticks\":\"\"}}}],\"scattercarpet\":[{\"type\":\"scattercarpet\",\"marker\":{\"colorbar\":{\"outlinewidth\":0,\"ticks\":\"\"}}}],\"carpet\":[{\"aaxis\":{\"endlinecolor\":\"#2a3f5f\",\"gridcolor\":\"white\",\"linecolor\":\"white\",\"minorgridcolor\":\"white\",\"startlinecolor\":\"#2a3f5f\"},\"baxis\":{\"endlinecolor\":\"#2a3f5f\",\"gridcolor\":\"white\",\"linecolor\":\"white\",\"minorgridcolor\":\"white\",\"startlinecolor\":\"#2a3f5f\"},\"type\":\"carpet\"}],\"table\":[{\"cells\":{\"fill\":{\"color\":\"#EBF0F8\"},\"line\":{\"color\":\"white\"}},\"header\":{\"fill\":{\"color\":\"#C8D4E3\"},\"line\":{\"color\":\"white\"}},\"type\":\"table\"}],\"barpolar\":[{\"marker\":{\"line\":{\"color\":\"#E5ECF6\",\"width\":0.5},\"pattern\":{\"fillmode\":\"overlay\",\"size\":10,\"solidity\":0.2}},\"type\":\"barpolar\"}],\"pie\":[{\"automargin\":true,\"type\":\"pie\"}]},\"layout\":{\"autotypenumbers\":\"strict\",\"colorway\":[\"#636efa\",\"#EF553B\",\"#00cc96\",\"#ab63fa\",\"#FFA15A\",\"#19d3f3\",\"#FF6692\",\"#B6E880\",\"#FF97FF\",\"#FECB52\"],\"font\":{\"color\":\"#2a3f5f\"},\"hovermode\":\"closest\",\"hoverlabel\":{\"align\":\"left\"},\"paper_bgcolor\":\"white\",\"plot_bgcolor\":\"#E5ECF6\",\"polar\":{\"bgcolor\":\"#E5ECF6\",\"angularaxis\":{\"gridcolor\":\"white\",\"linecolor\":\"white\",\"ticks\":\"\"},\"radialaxis\":{\"gridcolor\":\"white\",\"linecolor\":\"white\",\"ticks\":\"\"}},\"ternary\":{\"bgcolor\":\"#E5ECF6\",\"aaxis\":{\"gridcolor\":\"white\",\"linecolor\":\"white\",\"ticks\":\"\"},\"baxis\":{\"gridcolor\":\"white\",\"linecolor\":\"white\",\"ticks\":\"\"},\"caxis\":{\"gridcolor\":\"white\",\"linecolor\":\"white\",\"ticks\":\"\"}},\"coloraxis\":{\"colorbar\":{\"outlinewidth\":0,\"ticks\":\"\"}},\"colorscale\":{\"sequential\":[[0.0,\"#0d0887\"],[0.1111111111111111,\"#46039f\"],[0.2222222222222222,\"#7201a8\"],[0.3333333333333333,\"#9c179e\"],[0.4444444444444444,\"#bd3786\"],[0.5555555555555556,\"#d8576b\"],[0.6666666666666666,\"#ed7953\"],[0.7777777777777778,\"#fb9f3a\"],[0.8888888888888888,\"#fdca26\"],[1.0,\"#f0f921\"]],\"sequentialminus\":[[0.0,\"#0d0887\"],[0.1111111111111111,\"#46039f\"],[0.2222222222222222,\"#7201a8\"],[0.3333333333333333,\"#9c179e\"],[0.4444444444444444,\"#bd3786\"],[0.5555555555555556,\"#d8576b\"],[0.6666666666666666,\"#ed7953\"],[0.7777777777777778,\"#fb9f3a\"],[0.8888888888888888,\"#fdca26\"],[1.0,\"#f0f921\"]],\"diverging\":[[0,\"#8e0152\"],[0.1,\"#c51b7d\"],[0.2,\"#de77ae\"],[0.3,\"#f1b6da\"],[0.4,\"#fde0ef\"],[0.5,\"#f7f7f7\"],[0.6,\"#e6f5d0\"],[0.7,\"#b8e186\"],[0.8,\"#7fbc41\"],[0.9,\"#4d9221\"],[1,\"#276419\"]]},\"xaxis\":{\"gridcolor\":\"white\",\"linecolor\":\"white\",\"ticks\":\"\",\"title\":{\"standoff\":15},\"zerolinecolor\":\"white\",\"automargin\":true,\"zerolinewidth\":2},\"yaxis\":{\"gridcolor\":\"white\",\"linecolor\":\"white\",\"ticks\":\"\",\"title\":{\"standoff\":15},\"zerolinecolor\":\"white\",\"automargin\":true,\"zerolinewidth\":2},\"scene\":{\"xaxis\":{\"backgroundcolor\":\"#E5ECF6\",\"gridcolor\":\"white\",\"linecolor\":\"white\",\"showbackground\":true,\"ticks\":\"\",\"zerolinecolor\":\"white\",\"gridwidth\":2},\"yaxis\":{\"backgroundcolor\":\"#E5ECF6\",\"gridcolor\":\"white\",\"linecolor\":\"white\",\"showbackground\":true,\"ticks\":\"\",\"zerolinecolor\":\"white\",\"gridwidth\":2},\"zaxis\":{\"backgroundcolor\":\"#E5ECF6\",\"gridcolor\":\"white\",\"linecolor\":\"white\",\"showbackground\":true,\"ticks\":\"\",\"zerolinecolor\":\"white\",\"gridwidth\":2}},\"shapedefaults\":{\"line\":{\"color\":\"#2a3f5f\"}},\"annotationdefaults\":{\"arrowcolor\":\"#2a3f5f\",\"arrowhead\":0,\"arrowwidth\":1},\"geo\":{\"bgcolor\":\"white\",\"landcolor\":\"#E5ECF6\",\"subunitcolor\":\"white\",\"showland\":true,\"showlakes\":true,\"lakecolor\":\"white\"},\"title\":{\"x\":0.05},\"mapbox\":{\"style\":\"light\"}}},\"xaxis\":{\"anchor\":\"y\",\"domain\":[0.0,1.0],\"title\":{\"text\":\"Certificate\"}},\"yaxis\":{\"anchor\":\"x\",\"domain\":[0.0,1.0],\"title\":{\"text\":\"count\"}},\"legend\":{\"tracegroupgap\":0},\"title\":{\"text\":\"Certificate Distribution\"},\"barmode\":\"relative\",\"bargap\":0.1},                        {\"responsive\": true}                    ).then(function(){\n",
       "                            \n",
       "var gd = document.getElementById('8e7299a9-7e80-458f-922b-fa7808067739');\n",
       "var x = new MutationObserver(function (mutations, observer) {{\n",
       "        var display = window.getComputedStyle(gd).display;\n",
       "        if (!display || display === 'none') {{\n",
       "            console.log([gd, 'removed!']);\n",
       "            Plotly.purge(gd);\n",
       "            observer.disconnect();\n",
       "        }}\n",
       "}});\n",
       "\n",
       "// Listen for the removal of the full notebook cells\n",
       "var notebookContainer = gd.closest('#notebook-container');\n",
       "if (notebookContainer) {{\n",
       "    x.observe(notebookContainer, {childList: true});\n",
       "}}\n",
       "\n",
       "// Listen for the clearing of the current output cell\n",
       "var outputEl = gd.closest('.output');\n",
       "if (outputEl) {{\n",
       "    x.observe(outputEl, {childList: true});\n",
       "}}\n",
       "\n",
       "                        })                };                });            </script>        </div>"
      ]
     },
     "metadata": {},
     "output_type": "display_data"
    }
   ],
   "source": [
    "# Certificate Distribution\n",
    "fig = px.histogram(Data.Certificate, x=\"Certificate\", title=\"Certificate Distribution\",color_discrete_sequence=[\"#deb522\"])\n",
    "fig.update_layout(bargap=0.1)\n",
    "fig.show()"
   ]
  },
  {
   "cell_type": "code",
   "execution_count": 13,
   "id": "f6cabb7c",
   "metadata": {
    "execution": {
     "iopub.execute_input": "2024-07-08T16:21:03.108996Z",
     "iopub.status.busy": "2024-07-08T16:21:03.108577Z",
     "iopub.status.idle": "2024-07-08T16:21:03.184928Z",
     "shell.execute_reply": "2024-07-08T16:21:03.183674Z"
    },
    "papermill": {
     "duration": 0.097419,
     "end_time": "2024-07-08T16:21:03.187695",
     "exception": false,
     "start_time": "2024-07-08T16:21:03.090276",
     "status": "completed"
    },
    "tags": []
   },
   "outputs": [
    {
     "data": {
      "text/html": [
       "<div>                            <div id=\"398dabbc-cc99-4377-966f-3601a9259ebc\" class=\"plotly-graph-div\" style=\"height:525px; width:100%;\"></div>            <script type=\"text/javascript\">                require([\"plotly\"], function(Plotly) {                    window.PLOTLYENV=window.PLOTLYENV || {};                                    if (document.getElementById(\"398dabbc-cc99-4377-966f-3601a9259ebc\")) {                    Plotly.newPlot(                        \"398dabbc-cc99-4377-966f-3601a9259ebc\",                        [{\"alignmentgroup\":\"True\",\"bingroup\":\"x\",\"hovertemplate\":\"IMDB_Rating=%{x}\\u003cbr\\u003ecount=%{y}\\u003cextra\\u003e\\u003c\\u002fextra\\u003e\",\"legendgroup\":\"\",\"marker\":{\"color\":\"#deb522\",\"pattern\":{\"shape\":\"\"}},\"name\":\"\",\"offsetgroup\":\"\",\"orientation\":\"v\",\"showlegend\":false,\"x\":[9.3,9.2,9.0,9.0,9.0,8.9,8.9,8.9,8.8,8.8,8.8,8.8,8.8,8.7,8.7,8.7,8.7,8.7,8.6,8.6,8.6,8.6,8.6,8.6,8.6,8.6,8.6,8.6,8.6,8.5,8.5,8.5,8.5,8.5,8.5,8.5,8.5,8.5,8.5,8.5,8.5,8.5,8.5,8.5,8.5,8.5,8.5,8.5,8.4,8.4,8.4,8.4,8.4,8.4,8.4,8.4,8.4,8.4,8.4,8.4,8.4,8.4,8.4,8.4,8.4,8.4,8.4,8.4,8.3,8.3,8.3,8.3,8.3,8.3,8.3,8.3,8.3,8.3,8.3,8.3,8.3,8.3,8.3,8.3,8.3,8.3,8.3,8.3,8.3,8.3,8.3,8.3,8.3,8.3,8.3,8.3,8.3,8.3,8.3,8.3,8.3,8.2,8.2,8.2,8.2,8.2,8.2,8.2,8.2,8.2,8.2,8.2,8.2,8.2,8.2,8.2,8.2,8.2,8.2,8.2,8.2,8.2,8.2,8.2,8.2,8.2,8.2,8.2,8.2,8.2,8.2,8.2,8.2,8.1,8.1,8.1,8.1,8.1,8.1,8.1,8.1,8.1,8.1,8.1,8.1,8.1,8.1,8.1,8.1,8.1,8.1,8.1,8.1,8.1,8.1,8.1,8.1,8.1,8.1,8.1,8.1,8.1,8.1,8.1,8.1,8.1,8.1,8.1,8.1,8.1,8.1,8.1,8.1,8.1,8.1,8.1,8.1,8.1,8.1,8.1,8.1,8.1,8.1,8.1,8.1,8.1,8.1,8.1,8.1,8.1,8.1,8.1,8.1,8.1,8.1,8.1,8.1,8.1,8.1,8.1,8.1,8.1,8.1,8.1,8.1,8.0,8.0,8.0,8.0,8.0,8.0,8.0,8.0,8.0,8.0,8.0,8.0,8.0,8.0,8.0,8.0,8.0,8.0,8.0,8.0,8.0,8.0,8.0,8.0,8.0,8.0,8.0,8.0,8.0,8.0,8.0,8.0,8.0,8.0,8.0,8.0,8.0,8.0,8.0,8.0,8.0,8.0,8.0,8.0,8.0,8.0,8.0,8.0,8.0,8.0,8.0,8.0,8.0,8.0,8.0,8.0,8.0,8.0,8.0,8.0,8.0,8.0,8.0,8.0,8.0,8.0,8.0,8.0,8.0,8.0,8.0,8.0,8.0,8.0,8.0,8.0,8.0,8.0,8.0,8.0,8.0,8.0,8.0,8.0,8.0,8.0,8.0,8.0,8.0,8.0,8.0,8.0,8.0,8.0,8.0,8.0,8.0,7.9,7.9,7.9,7.9,7.9,7.9,7.9,7.9,7.9,7.9,7.9,7.9,7.9,7.9,7.9,7.9,7.9,7.9,7.9,7.9,7.9,7.9,7.9,7.9,7.9,7.9,7.9,7.9,7.9,7.9,7.9,7.9,7.9,7.9,7.9,7.9,7.9,7.9,7.9,7.9,7.9,7.9,7.9,7.9,7.9,7.9,7.9,7.9,7.9,7.9,7.9,7.9,7.9,7.9,7.9,7.9,7.9,7.9,7.9,7.9,7.9,7.9,7.9,7.9,7.9,7.9,7.9,7.9,7.9,7.9,7.9,7.9,7.9,7.9,7.9,7.9,7.9,7.8,7.8,7.8,7.8,7.8,7.8,7.8,7.8,7.8,7.8,7.8,7.8,7.8,7.8,7.8,7.8,7.8,7.8,7.8,7.8,7.8,7.8,7.8,7.8,7.8,7.8,7.8,7.8,7.8,7.8,7.8,7.8,7.8,7.8,7.8,7.8,7.8,7.8,7.8,7.8,7.8,7.8,7.8,7.8,7.8,7.8,7.8,7.8,7.8,7.8,7.8,7.8,7.8,7.8,7.8,7.8,7.8,7.8,7.8,7.8,7.8,7.8,7.8,7.8,7.8,7.8,7.8,7.8,7.8,7.8,7.8,7.8,7.8,7.8,7.8,7.8,7.8,7.8,7.8,7.8,7.8,7.8,7.8,7.8,7.8,7.8,7.8,7.8,7.8,7.8,7.8,7.8,7.8,7.8,7.8,7.8,7.8,7.8,7.8,7.8,7.8,7.8,7.8,7.8,7.8,7.8,7.8,7.7,7.7,7.7,7.7,7.7,7.7,7.7,7.7,7.7,7.7,7.7,7.7,7.7,7.7,7.7,7.7,7.7,7.7,7.7,7.7,7.7,7.7,7.7,7.7,7.7,7.7,7.7,7.7,7.7,7.7,7.7,7.7,7.7,7.7,7.7,7.7,7.7,7.7,7.7,7.7,7.7,7.7,7.7,7.7,7.7,7.7,7.7,7.7,7.7,7.7,7.7,7.7,7.7,7.7,7.7,7.7,7.7,7.7,7.7,7.7,7.7,7.7,7.7,7.7,7.7,7.7,7.7,7.7,7.7,7.7,7.7,7.7,7.7,7.7,7.7,7.7,7.7,7.7,7.7,7.7,7.7,7.7,7.7,7.7,7.7,7.7,7.7,7.7,7.7,7.7,7.7,7.7,7.7,7.7,7.7,7.7,7.7,7.7,7.7,7.7,7.7,7.7,7.7,7.7,7.7,7.7,7.7,7.7,7.7,7.7,7.7,7.7,7.7,7.7,7.7,7.7,7.7,7.7,7.7,7.7,7.7,7.6,7.6,7.6,7.6,7.6,7.6,7.6,7.6,7.6,7.6,7.6,7.6,7.6,7.6,7.6,7.6,7.6,7.6,7.6,7.6,7.6,7.6,7.6,7.6,7.6,7.6,7.6,7.6,7.6,7.6,7.6,7.6,7.6,7.6,7.6,7.6,7.6,7.6,7.6,7.6,7.6,7.6,7.6,7.6,7.6,7.6,7.6,7.6,7.6,7.6,7.6,7.6,7.6,7.6,7.6,7.6,7.6,7.6,7.6,7.6,7.6,7.6,7.6,7.6,7.6,7.6,7.6,7.6,7.6,7.6,7.6,7.6,7.6,7.6,7.6,7.6,7.6,7.6,7.6,7.6,7.6,7.6,7.6,7.6,7.6,7.6,7.6,7.6,7.6,7.6,7.6,7.6,7.6,7.6,7.6,7.6,7.6,7.6,7.6,7.6,7.6,7.6,7.6,7.6,7.6,7.6,7.6],\"xaxis\":\"x\",\"yaxis\":\"y\",\"type\":\"histogram\"}],                        {\"template\":{\"data\":{\"histogram2dcontour\":[{\"type\":\"histogram2dcontour\",\"colorbar\":{\"outlinewidth\":0,\"ticks\":\"\"},\"colorscale\":[[0.0,\"#0d0887\"],[0.1111111111111111,\"#46039f\"],[0.2222222222222222,\"#7201a8\"],[0.3333333333333333,\"#9c179e\"],[0.4444444444444444,\"#bd3786\"],[0.5555555555555556,\"#d8576b\"],[0.6666666666666666,\"#ed7953\"],[0.7777777777777778,\"#fb9f3a\"],[0.8888888888888888,\"#fdca26\"],[1.0,\"#f0f921\"]]}],\"choropleth\":[{\"type\":\"choropleth\",\"colorbar\":{\"outlinewidth\":0,\"ticks\":\"\"}}],\"histogram2d\":[{\"type\":\"histogram2d\",\"colorbar\":{\"outlinewidth\":0,\"ticks\":\"\"},\"colorscale\":[[0.0,\"#0d0887\"],[0.1111111111111111,\"#46039f\"],[0.2222222222222222,\"#7201a8\"],[0.3333333333333333,\"#9c179e\"],[0.4444444444444444,\"#bd3786\"],[0.5555555555555556,\"#d8576b\"],[0.6666666666666666,\"#ed7953\"],[0.7777777777777778,\"#fb9f3a\"],[0.8888888888888888,\"#fdca26\"],[1.0,\"#f0f921\"]]}],\"heatmap\":[{\"type\":\"heatmap\",\"colorbar\":{\"outlinewidth\":0,\"ticks\":\"\"},\"colorscale\":[[0.0,\"#0d0887\"],[0.1111111111111111,\"#46039f\"],[0.2222222222222222,\"#7201a8\"],[0.3333333333333333,\"#9c179e\"],[0.4444444444444444,\"#bd3786\"],[0.5555555555555556,\"#d8576b\"],[0.6666666666666666,\"#ed7953\"],[0.7777777777777778,\"#fb9f3a\"],[0.8888888888888888,\"#fdca26\"],[1.0,\"#f0f921\"]]}],\"heatmapgl\":[{\"type\":\"heatmapgl\",\"colorbar\":{\"outlinewidth\":0,\"ticks\":\"\"},\"colorscale\":[[0.0,\"#0d0887\"],[0.1111111111111111,\"#46039f\"],[0.2222222222222222,\"#7201a8\"],[0.3333333333333333,\"#9c179e\"],[0.4444444444444444,\"#bd3786\"],[0.5555555555555556,\"#d8576b\"],[0.6666666666666666,\"#ed7953\"],[0.7777777777777778,\"#fb9f3a\"],[0.8888888888888888,\"#fdca26\"],[1.0,\"#f0f921\"]]}],\"contourcarpet\":[{\"type\":\"contourcarpet\",\"colorbar\":{\"outlinewidth\":0,\"ticks\":\"\"}}],\"contour\":[{\"type\":\"contour\",\"colorbar\":{\"outlinewidth\":0,\"ticks\":\"\"},\"colorscale\":[[0.0,\"#0d0887\"],[0.1111111111111111,\"#46039f\"],[0.2222222222222222,\"#7201a8\"],[0.3333333333333333,\"#9c179e\"],[0.4444444444444444,\"#bd3786\"],[0.5555555555555556,\"#d8576b\"],[0.6666666666666666,\"#ed7953\"],[0.7777777777777778,\"#fb9f3a\"],[0.8888888888888888,\"#fdca26\"],[1.0,\"#f0f921\"]]}],\"surface\":[{\"type\":\"surface\",\"colorbar\":{\"outlinewidth\":0,\"ticks\":\"\"},\"colorscale\":[[0.0,\"#0d0887\"],[0.1111111111111111,\"#46039f\"],[0.2222222222222222,\"#7201a8\"],[0.3333333333333333,\"#9c179e\"],[0.4444444444444444,\"#bd3786\"],[0.5555555555555556,\"#d8576b\"],[0.6666666666666666,\"#ed7953\"],[0.7777777777777778,\"#fb9f3a\"],[0.8888888888888888,\"#fdca26\"],[1.0,\"#f0f921\"]]}],\"mesh3d\":[{\"type\":\"mesh3d\",\"colorbar\":{\"outlinewidth\":0,\"ticks\":\"\"}}],\"scatter\":[{\"fillpattern\":{\"fillmode\":\"overlay\",\"size\":10,\"solidity\":0.2},\"type\":\"scatter\"}],\"parcoords\":[{\"type\":\"parcoords\",\"line\":{\"colorbar\":{\"outlinewidth\":0,\"ticks\":\"\"}}}],\"scatterpolargl\":[{\"type\":\"scatterpolargl\",\"marker\":{\"colorbar\":{\"outlinewidth\":0,\"ticks\":\"\"}}}],\"bar\":[{\"error_x\":{\"color\":\"#2a3f5f\"},\"error_y\":{\"color\":\"#2a3f5f\"},\"marker\":{\"line\":{\"color\":\"#E5ECF6\",\"width\":0.5},\"pattern\":{\"fillmode\":\"overlay\",\"size\":10,\"solidity\":0.2}},\"type\":\"bar\"}],\"scattergeo\":[{\"type\":\"scattergeo\",\"marker\":{\"colorbar\":{\"outlinewidth\":0,\"ticks\":\"\"}}}],\"scatterpolar\":[{\"type\":\"scatterpolar\",\"marker\":{\"colorbar\":{\"outlinewidth\":0,\"ticks\":\"\"}}}],\"histogram\":[{\"marker\":{\"pattern\":{\"fillmode\":\"overlay\",\"size\":10,\"solidity\":0.2}},\"type\":\"histogram\"}],\"scattergl\":[{\"type\":\"scattergl\",\"marker\":{\"colorbar\":{\"outlinewidth\":0,\"ticks\":\"\"}}}],\"scatter3d\":[{\"type\":\"scatter3d\",\"line\":{\"colorbar\":{\"outlinewidth\":0,\"ticks\":\"\"}},\"marker\":{\"colorbar\":{\"outlinewidth\":0,\"ticks\":\"\"}}}],\"scattermapbox\":[{\"type\":\"scattermapbox\",\"marker\":{\"colorbar\":{\"outlinewidth\":0,\"ticks\":\"\"}}}],\"scatterternary\":[{\"type\":\"scatterternary\",\"marker\":{\"colorbar\":{\"outlinewidth\":0,\"ticks\":\"\"}}}],\"scattercarpet\":[{\"type\":\"scattercarpet\",\"marker\":{\"colorbar\":{\"outlinewidth\":0,\"ticks\":\"\"}}}],\"carpet\":[{\"aaxis\":{\"endlinecolor\":\"#2a3f5f\",\"gridcolor\":\"white\",\"linecolor\":\"white\",\"minorgridcolor\":\"white\",\"startlinecolor\":\"#2a3f5f\"},\"baxis\":{\"endlinecolor\":\"#2a3f5f\",\"gridcolor\":\"white\",\"linecolor\":\"white\",\"minorgridcolor\":\"white\",\"startlinecolor\":\"#2a3f5f\"},\"type\":\"carpet\"}],\"table\":[{\"cells\":{\"fill\":{\"color\":\"#EBF0F8\"},\"line\":{\"color\":\"white\"}},\"header\":{\"fill\":{\"color\":\"#C8D4E3\"},\"line\":{\"color\":\"white\"}},\"type\":\"table\"}],\"barpolar\":[{\"marker\":{\"line\":{\"color\":\"#E5ECF6\",\"width\":0.5},\"pattern\":{\"fillmode\":\"overlay\",\"size\":10,\"solidity\":0.2}},\"type\":\"barpolar\"}],\"pie\":[{\"automargin\":true,\"type\":\"pie\"}]},\"layout\":{\"autotypenumbers\":\"strict\",\"colorway\":[\"#636efa\",\"#EF553B\",\"#00cc96\",\"#ab63fa\",\"#FFA15A\",\"#19d3f3\",\"#FF6692\",\"#B6E880\",\"#FF97FF\",\"#FECB52\"],\"font\":{\"color\":\"#2a3f5f\"},\"hovermode\":\"closest\",\"hoverlabel\":{\"align\":\"left\"},\"paper_bgcolor\":\"white\",\"plot_bgcolor\":\"#E5ECF6\",\"polar\":{\"bgcolor\":\"#E5ECF6\",\"angularaxis\":{\"gridcolor\":\"white\",\"linecolor\":\"white\",\"ticks\":\"\"},\"radialaxis\":{\"gridcolor\":\"white\",\"linecolor\":\"white\",\"ticks\":\"\"}},\"ternary\":{\"bgcolor\":\"#E5ECF6\",\"aaxis\":{\"gridcolor\":\"white\",\"linecolor\":\"white\",\"ticks\":\"\"},\"baxis\":{\"gridcolor\":\"white\",\"linecolor\":\"white\",\"ticks\":\"\"},\"caxis\":{\"gridcolor\":\"white\",\"linecolor\":\"white\",\"ticks\":\"\"}},\"coloraxis\":{\"colorbar\":{\"outlinewidth\":0,\"ticks\":\"\"}},\"colorscale\":{\"sequential\":[[0.0,\"#0d0887\"],[0.1111111111111111,\"#46039f\"],[0.2222222222222222,\"#7201a8\"],[0.3333333333333333,\"#9c179e\"],[0.4444444444444444,\"#bd3786\"],[0.5555555555555556,\"#d8576b\"],[0.6666666666666666,\"#ed7953\"],[0.7777777777777778,\"#fb9f3a\"],[0.8888888888888888,\"#fdca26\"],[1.0,\"#f0f921\"]],\"sequentialminus\":[[0.0,\"#0d0887\"],[0.1111111111111111,\"#46039f\"],[0.2222222222222222,\"#7201a8\"],[0.3333333333333333,\"#9c179e\"],[0.4444444444444444,\"#bd3786\"],[0.5555555555555556,\"#d8576b\"],[0.6666666666666666,\"#ed7953\"],[0.7777777777777778,\"#fb9f3a\"],[0.8888888888888888,\"#fdca26\"],[1.0,\"#f0f921\"]],\"diverging\":[[0,\"#8e0152\"],[0.1,\"#c51b7d\"],[0.2,\"#de77ae\"],[0.3,\"#f1b6da\"],[0.4,\"#fde0ef\"],[0.5,\"#f7f7f7\"],[0.6,\"#e6f5d0\"],[0.7,\"#b8e186\"],[0.8,\"#7fbc41\"],[0.9,\"#4d9221\"],[1,\"#276419\"]]},\"xaxis\":{\"gridcolor\":\"white\",\"linecolor\":\"white\",\"ticks\":\"\",\"title\":{\"standoff\":15},\"zerolinecolor\":\"white\",\"automargin\":true,\"zerolinewidth\":2},\"yaxis\":{\"gridcolor\":\"white\",\"linecolor\":\"white\",\"ticks\":\"\",\"title\":{\"standoff\":15},\"zerolinecolor\":\"white\",\"automargin\":true,\"zerolinewidth\":2},\"scene\":{\"xaxis\":{\"backgroundcolor\":\"#E5ECF6\",\"gridcolor\":\"white\",\"linecolor\":\"white\",\"showbackground\":true,\"ticks\":\"\",\"zerolinecolor\":\"white\",\"gridwidth\":2},\"yaxis\":{\"backgroundcolor\":\"#E5ECF6\",\"gridcolor\":\"white\",\"linecolor\":\"white\",\"showbackground\":true,\"ticks\":\"\",\"zerolinecolor\":\"white\",\"gridwidth\":2},\"zaxis\":{\"backgroundcolor\":\"#E5ECF6\",\"gridcolor\":\"white\",\"linecolor\":\"white\",\"showbackground\":true,\"ticks\":\"\",\"zerolinecolor\":\"white\",\"gridwidth\":2}},\"shapedefaults\":{\"line\":{\"color\":\"#2a3f5f\"}},\"annotationdefaults\":{\"arrowcolor\":\"#2a3f5f\",\"arrowhead\":0,\"arrowwidth\":1},\"geo\":{\"bgcolor\":\"white\",\"landcolor\":\"#E5ECF6\",\"subunitcolor\":\"white\",\"showland\":true,\"showlakes\":true,\"lakecolor\":\"white\"},\"title\":{\"x\":0.05},\"mapbox\":{\"style\":\"light\"}}},\"xaxis\":{\"anchor\":\"y\",\"domain\":[0.0,1.0],\"title\":{\"text\":\"IMDB_Rating\"}},\"yaxis\":{\"anchor\":\"x\",\"domain\":[0.0,1.0],\"title\":{\"text\":\"count\"}},\"legend\":{\"tracegroupgap\":0},\"title\":{\"text\":\"Rating Distribution\"},\"barmode\":\"relative\",\"bargap\":0.1},                        {\"responsive\": true}                    ).then(function(){\n",
       "                            \n",
       "var gd = document.getElementById('398dabbc-cc99-4377-966f-3601a9259ebc');\n",
       "var x = new MutationObserver(function (mutations, observer) {{\n",
       "        var display = window.getComputedStyle(gd).display;\n",
       "        if (!display || display === 'none') {{\n",
       "            console.log([gd, 'removed!']);\n",
       "            Plotly.purge(gd);\n",
       "            observer.disconnect();\n",
       "        }}\n",
       "}});\n",
       "\n",
       "// Listen for the removal of the full notebook cells\n",
       "var notebookContainer = gd.closest('#notebook-container');\n",
       "if (notebookContainer) {{\n",
       "    x.observe(notebookContainer, {childList: true});\n",
       "}}\n",
       "\n",
       "// Listen for the clearing of the current output cell\n",
       "var outputEl = gd.closest('.output');\n",
       "if (outputEl) {{\n",
       "    x.observe(outputEl, {childList: true});\n",
       "}}\n",
       "\n",
       "                        })                };                });            </script>        </div>"
      ]
     },
     "metadata": {},
     "output_type": "display_data"
    }
   ],
   "source": [
    "# Rating Distribution\n",
    "fig = px.histogram(Data.IMDB_Rating, x=\"IMDB_Rating\", title=\"Rating Distribution\",color_discrete_sequence=[\"#deb522\"])\n",
    "fig.update_layout(bargap=0.1)\n",
    "fig.show()"
   ]
  },
  {
   "cell_type": "code",
   "execution_count": 14,
   "id": "1015c1bc",
   "metadata": {
    "execution": {
     "iopub.execute_input": "2024-07-08T16:21:03.226268Z",
     "iopub.status.busy": "2024-07-08T16:21:03.225035Z",
     "iopub.status.idle": "2024-07-08T16:21:03.301344Z",
     "shell.execute_reply": "2024-07-08T16:21:03.300206Z"
    },
    "papermill": {
     "duration": 0.099054,
     "end_time": "2024-07-08T16:21:03.303902",
     "exception": false,
     "start_time": "2024-07-08T16:21:03.204848",
     "status": "completed"
    },
    "tags": []
   },
   "outputs": [
    {
     "data": {
      "text/html": [
       "<div>                            <div id=\"1b5a346a-f260-4e3a-bf64-1ef8286a161a\" class=\"plotly-graph-div\" style=\"height:525px; width:100%;\"></div>            <script type=\"text/javascript\">                require([\"plotly\"], function(Plotly) {                    window.PLOTLYENV=window.PLOTLYENV || {};                                    if (document.getElementById(\"1b5a346a-f260-4e3a-bf64-1ef8286a161a\")) {                    Plotly.newPlot(                        \"1b5a346a-f260-4e3a-bf64-1ef8286a161a\",                        [{\"alignmentgroup\":\"True\",\"bingroup\":\"x\",\"hovertemplate\":\"Meta_score=%{x}\\u003cbr\\u003ecount=%{y}\\u003cextra\\u003e\\u003c\\u002fextra\\u003e\",\"legendgroup\":\"\",\"marker\":{\"color\":\"#deb522\",\"pattern\":{\"shape\":\"\"}},\"name\":\"\",\"offsetgroup\":\"\",\"orientation\":\"v\",\"showlegend\":false,\"x\":[80.0,100.0,84.0,90.0,96.0,94.0,94.0,94.0,74.0,66.0,92.0,82.0,90.0,87.0,73.0,90.0,82.0,83.0,96.0,74.0,79.0,96.0,91.0,61.0,59.0,65.0,85.0,90.0,98.0,59.0,88.0,57.0,66.0,85.0,85.0,67.0,62.0,77.0,64.0,88.0,75.0,80.0,87.0,80.0,97.0,100.0,96.0,99.0,75.0,79.0,87.0,78.0,68.0,81.0,81.0,78.0,67.0,95.0,89.0,77.0,80.0,76.0,85.0,66.0,94.0,89.0,97.0,100.0,78.0,77.0,95.0,80.0,69.0,89.0,69.0,55.0,68.0,84.0,70.0,77.0,95.0,68.0,79.0,76.0,84.0,88.0,65.0,58.0,86.0,94.0,83.0,77.0,84.0,74.0,100.0,94.0,98.0,100.0,99.0,95.0,100.0,69.0,88.0,80.0,71.0,63.0,88.0,75.0,68.0,93.0,98.0,92.0,62.0,70.0,82.0,80.0,72.0,66.0,90.0,76.0,73.0,85.0,65.0,86.0,72.0,96.0,89.0,91.0,86.0,98.0,75.0,98.0,98.0,95.0,84.0,74.0,77.0,86.0,77.0,88.0,79.0,71.0,94.0,96.0,74.0,81.0,93.0,85.0,70.0,90.0,72.0,85.0,68.0,75.0,73.0,91.0,86.0,79.0,64.0,90.0,82.0,69.0,90.0,75.0,83.0,79.0,84.0,64.0,58.0,90.0,73.0,71.0,85.0,83.0,85.0,77.0,100.0,77.0,68.0,84.0,79.0,75.0,92.0,78.0,86.0,57.0,47.0,100.0,84.0,77.0,86.0,70.0,92.0,77.0,92.0,75.0,90.0,87.0,91.0,72.0,97.0,86.0,73.0,97.0,87.0,94.0,69.0,80.0,78.0,89.0,66.0,65.0,82.0,71.0,73.0,76.0,81.0,90.0,49.0,76.0,67.0,88.0,62.0,65.0,87.0,50.0,84.0,79.0,33.0,69.0,90.0,80.0,64.0,64.0,85.0,72.0,74.0,92.0,96.0,80.0,83.0,85.0,74.0,69.0,54.0,75.0,63.0,58.0,90.0,60.0,88.0,77.0,61.0,86.0,82.0,80.0,85.0,84.0,91.0,74.0,76.0,82.0,72.0,47.0,59.0,86.0,72.0,95.0,72.0,93.0,65.0,77.0,79.0,88.0,84.0,79.0,83.0,92.0,87.0,86.0,80.0,58.0,81.0,93.0,67.0,100.0,66.0,79.0,83.0,63.0,69.0,65.0,90.0,95.0,93.0,99.0,84.0,97.0,93.0,96.0,92.0,91.0,82.0,93.0,94.0,93.0,78.0,82.0,81.0,72.0,79.0,74.0,76.0,58.0,81.0,80.0,94.0,75.0,89.0,71.0,94.0,94.0,90.0,67.0,82.0,81.0,80.0,100.0,82.0,67.0,89.0,64.0,79.0,83.0,56.0,79.0,76.0,84.0,82.0,85.0,86.0,84.0,61.0,68.0,80.0,84.0,90.0,85.0,88.0,85.0,77.0,59.0,85.0,65.0,74.0,97.0,77.0,79.0,90.0,84.0,92.0,77.0,60.0,83.0,72.0,71.0,84.0,76.0,93.0,91.0,97.0,75.0,83.0,87.0,89.0,88.0,100.0,97.0,90.0,85.0,94.0,74.0,88.0,84.0,96.0,75.0,65.0,75.0,68.0,91.0,62.0,85.0,76.0,74.0,55.0,83.0,84.0,49.0,84.0,76.0,81.0,71.0,82.0,72.0,79.0,66.0,82.0,76.0,79.0,51.0,55.0,88.0,58.0,85.0,78.0,76.0,83.0,63.0,68.0,80.0,81.0,70.0,67.0,51.0,82.0,68.0,73.0,74.0,72.0,53.0,75.0,82.0,91.0,61.0,83.0,48.0,94.0,87.0,73.0,44.0,84.0,71.0,84.0,75.0,64.0,61.0,76.0,70.0,73.0,50.0,55.0,84.0,87.0,80.0,68.0,86.0,76.0,75.0,74.0,78.0,57.0,65.0,45.0,72.0,61.0,75.0,62.0,78.0,66.0,76.0,71.0,91.0,73.0,91.0,77.0,69.0,85.0,73.0,80.0,80.0,67.0,79.0,95.0,88.0,75.0,88.0,66.0,73.0,85.0,86.0,70.0,76.0,72.0,72.0,60.0,69.0,74.0,87.0,89.0,40.0,70.0,87.0,72.0,70.0,81.0,83.0,96.0,72.0,95.0,65.0,73.0,81.0,81.0,86.0,76.0,65.0,86.0,80.0,81.0,63.0,45.0,78.0,78.0,74.0,78.0,53.0,70.0,78.0,71.0,71.0,87.0,76.0,66.0,78.0,73.0,61.0,73.0,89.0,81.0,47.0,80.0,55.0,83.0,68.0,76.0,28.0,83.0,74.0,72.0,60.0,74.0,85.0,74.0,62.0,69.0,73.0,68.0,69.0,86.0,90.0,67.0,52.0,73.0,76.0,87.0,47.0,83.0,81.0,70.0,79.0,66.0,64.0,73.0,76.0,82.0,62.0,64.0,69.0,66.0,83.0,84.0,76.0,62.0,54.0,76.0,75.0,90.0,77.0,67.0,61.0,86.0,78.0,87.0,71.0,73.0,87.0,83.0,80.0,94.0,90.0,86.0,72.0,87.0,90.0,74.0,91.0,96.0,71.0,83.0,86.0,92.0,60.0,70.0,83.0,67.0,86.0,72.0,81.0,80.0,81.0,82.0,82.0,92.0,88.0,77.0,79.0,73.0,68.0,80.0,88.0,80.0,65.0,72.0,72.0,66.0,87.0,70.0,73.0,57.0,53.0,79.0,36.0,82.0,66.0,76.0,72.0,66.0,70.0,68.0,78.0,52.0,72.0,56.0,62.0,46.0,67.0,73.0,45.0,76.0,81.0,70.0,56.0,67.0,68.0,30.0,73.0,76.0,88.0,64.0,74.0,52.0,53.0,80.0,74.0,64.0,77.0,78.0,71.0,41.0,66.0,49.0,52.0,84.0,58.0,62.0,69.0,77.0,88.0,56.0,78.0,68.0,90.0,66.0,63.0,60.0,76.0,88.0,76.0,72.0,68.0,82.0,68.0,77.0,65.0,74.0,76.0,59.0,90.0,87.0,77.0,50.0,65.0,96.0,85.0],\"xaxis\":\"x\",\"yaxis\":\"y\",\"type\":\"histogram\"}],                        {\"template\":{\"data\":{\"histogram2dcontour\":[{\"type\":\"histogram2dcontour\",\"colorbar\":{\"outlinewidth\":0,\"ticks\":\"\"},\"colorscale\":[[0.0,\"#0d0887\"],[0.1111111111111111,\"#46039f\"],[0.2222222222222222,\"#7201a8\"],[0.3333333333333333,\"#9c179e\"],[0.4444444444444444,\"#bd3786\"],[0.5555555555555556,\"#d8576b\"],[0.6666666666666666,\"#ed7953\"],[0.7777777777777778,\"#fb9f3a\"],[0.8888888888888888,\"#fdca26\"],[1.0,\"#f0f921\"]]}],\"choropleth\":[{\"type\":\"choropleth\",\"colorbar\":{\"outlinewidth\":0,\"ticks\":\"\"}}],\"histogram2d\":[{\"type\":\"histogram2d\",\"colorbar\":{\"outlinewidth\":0,\"ticks\":\"\"},\"colorscale\":[[0.0,\"#0d0887\"],[0.1111111111111111,\"#46039f\"],[0.2222222222222222,\"#7201a8\"],[0.3333333333333333,\"#9c179e\"],[0.4444444444444444,\"#bd3786\"],[0.5555555555555556,\"#d8576b\"],[0.6666666666666666,\"#ed7953\"],[0.7777777777777778,\"#fb9f3a\"],[0.8888888888888888,\"#fdca26\"],[1.0,\"#f0f921\"]]}],\"heatmap\":[{\"type\":\"heatmap\",\"colorbar\":{\"outlinewidth\":0,\"ticks\":\"\"},\"colorscale\":[[0.0,\"#0d0887\"],[0.1111111111111111,\"#46039f\"],[0.2222222222222222,\"#7201a8\"],[0.3333333333333333,\"#9c179e\"],[0.4444444444444444,\"#bd3786\"],[0.5555555555555556,\"#d8576b\"],[0.6666666666666666,\"#ed7953\"],[0.7777777777777778,\"#fb9f3a\"],[0.8888888888888888,\"#fdca26\"],[1.0,\"#f0f921\"]]}],\"heatmapgl\":[{\"type\":\"heatmapgl\",\"colorbar\":{\"outlinewidth\":0,\"ticks\":\"\"},\"colorscale\":[[0.0,\"#0d0887\"],[0.1111111111111111,\"#46039f\"],[0.2222222222222222,\"#7201a8\"],[0.3333333333333333,\"#9c179e\"],[0.4444444444444444,\"#bd3786\"],[0.5555555555555556,\"#d8576b\"],[0.6666666666666666,\"#ed7953\"],[0.7777777777777778,\"#fb9f3a\"],[0.8888888888888888,\"#fdca26\"],[1.0,\"#f0f921\"]]}],\"contourcarpet\":[{\"type\":\"contourcarpet\",\"colorbar\":{\"outlinewidth\":0,\"ticks\":\"\"}}],\"contour\":[{\"type\":\"contour\",\"colorbar\":{\"outlinewidth\":0,\"ticks\":\"\"},\"colorscale\":[[0.0,\"#0d0887\"],[0.1111111111111111,\"#46039f\"],[0.2222222222222222,\"#7201a8\"],[0.3333333333333333,\"#9c179e\"],[0.4444444444444444,\"#bd3786\"],[0.5555555555555556,\"#d8576b\"],[0.6666666666666666,\"#ed7953\"],[0.7777777777777778,\"#fb9f3a\"],[0.8888888888888888,\"#fdca26\"],[1.0,\"#f0f921\"]]}],\"surface\":[{\"type\":\"surface\",\"colorbar\":{\"outlinewidth\":0,\"ticks\":\"\"},\"colorscale\":[[0.0,\"#0d0887\"],[0.1111111111111111,\"#46039f\"],[0.2222222222222222,\"#7201a8\"],[0.3333333333333333,\"#9c179e\"],[0.4444444444444444,\"#bd3786\"],[0.5555555555555556,\"#d8576b\"],[0.6666666666666666,\"#ed7953\"],[0.7777777777777778,\"#fb9f3a\"],[0.8888888888888888,\"#fdca26\"],[1.0,\"#f0f921\"]]}],\"mesh3d\":[{\"type\":\"mesh3d\",\"colorbar\":{\"outlinewidth\":0,\"ticks\":\"\"}}],\"scatter\":[{\"fillpattern\":{\"fillmode\":\"overlay\",\"size\":10,\"solidity\":0.2},\"type\":\"scatter\"}],\"parcoords\":[{\"type\":\"parcoords\",\"line\":{\"colorbar\":{\"outlinewidth\":0,\"ticks\":\"\"}}}],\"scatterpolargl\":[{\"type\":\"scatterpolargl\",\"marker\":{\"colorbar\":{\"outlinewidth\":0,\"ticks\":\"\"}}}],\"bar\":[{\"error_x\":{\"color\":\"#2a3f5f\"},\"error_y\":{\"color\":\"#2a3f5f\"},\"marker\":{\"line\":{\"color\":\"#E5ECF6\",\"width\":0.5},\"pattern\":{\"fillmode\":\"overlay\",\"size\":10,\"solidity\":0.2}},\"type\":\"bar\"}],\"scattergeo\":[{\"type\":\"scattergeo\",\"marker\":{\"colorbar\":{\"outlinewidth\":0,\"ticks\":\"\"}}}],\"scatterpolar\":[{\"type\":\"scatterpolar\",\"marker\":{\"colorbar\":{\"outlinewidth\":0,\"ticks\":\"\"}}}],\"histogram\":[{\"marker\":{\"pattern\":{\"fillmode\":\"overlay\",\"size\":10,\"solidity\":0.2}},\"type\":\"histogram\"}],\"scattergl\":[{\"type\":\"scattergl\",\"marker\":{\"colorbar\":{\"outlinewidth\":0,\"ticks\":\"\"}}}],\"scatter3d\":[{\"type\":\"scatter3d\",\"line\":{\"colorbar\":{\"outlinewidth\":0,\"ticks\":\"\"}},\"marker\":{\"colorbar\":{\"outlinewidth\":0,\"ticks\":\"\"}}}],\"scattermapbox\":[{\"type\":\"scattermapbox\",\"marker\":{\"colorbar\":{\"outlinewidth\":0,\"ticks\":\"\"}}}],\"scatterternary\":[{\"type\":\"scatterternary\",\"marker\":{\"colorbar\":{\"outlinewidth\":0,\"ticks\":\"\"}}}],\"scattercarpet\":[{\"type\":\"scattercarpet\",\"marker\":{\"colorbar\":{\"outlinewidth\":0,\"ticks\":\"\"}}}],\"carpet\":[{\"aaxis\":{\"endlinecolor\":\"#2a3f5f\",\"gridcolor\":\"white\",\"linecolor\":\"white\",\"minorgridcolor\":\"white\",\"startlinecolor\":\"#2a3f5f\"},\"baxis\":{\"endlinecolor\":\"#2a3f5f\",\"gridcolor\":\"white\",\"linecolor\":\"white\",\"minorgridcolor\":\"white\",\"startlinecolor\":\"#2a3f5f\"},\"type\":\"carpet\"}],\"table\":[{\"cells\":{\"fill\":{\"color\":\"#EBF0F8\"},\"line\":{\"color\":\"white\"}},\"header\":{\"fill\":{\"color\":\"#C8D4E3\"},\"line\":{\"color\":\"white\"}},\"type\":\"table\"}],\"barpolar\":[{\"marker\":{\"line\":{\"color\":\"#E5ECF6\",\"width\":0.5},\"pattern\":{\"fillmode\":\"overlay\",\"size\":10,\"solidity\":0.2}},\"type\":\"barpolar\"}],\"pie\":[{\"automargin\":true,\"type\":\"pie\"}]},\"layout\":{\"autotypenumbers\":\"strict\",\"colorway\":[\"#636efa\",\"#EF553B\",\"#00cc96\",\"#ab63fa\",\"#FFA15A\",\"#19d3f3\",\"#FF6692\",\"#B6E880\",\"#FF97FF\",\"#FECB52\"],\"font\":{\"color\":\"#2a3f5f\"},\"hovermode\":\"closest\",\"hoverlabel\":{\"align\":\"left\"},\"paper_bgcolor\":\"white\",\"plot_bgcolor\":\"#E5ECF6\",\"polar\":{\"bgcolor\":\"#E5ECF6\",\"angularaxis\":{\"gridcolor\":\"white\",\"linecolor\":\"white\",\"ticks\":\"\"},\"radialaxis\":{\"gridcolor\":\"white\",\"linecolor\":\"white\",\"ticks\":\"\"}},\"ternary\":{\"bgcolor\":\"#E5ECF6\",\"aaxis\":{\"gridcolor\":\"white\",\"linecolor\":\"white\",\"ticks\":\"\"},\"baxis\":{\"gridcolor\":\"white\",\"linecolor\":\"white\",\"ticks\":\"\"},\"caxis\":{\"gridcolor\":\"white\",\"linecolor\":\"white\",\"ticks\":\"\"}},\"coloraxis\":{\"colorbar\":{\"outlinewidth\":0,\"ticks\":\"\"}},\"colorscale\":{\"sequential\":[[0.0,\"#0d0887\"],[0.1111111111111111,\"#46039f\"],[0.2222222222222222,\"#7201a8\"],[0.3333333333333333,\"#9c179e\"],[0.4444444444444444,\"#bd3786\"],[0.5555555555555556,\"#d8576b\"],[0.6666666666666666,\"#ed7953\"],[0.7777777777777778,\"#fb9f3a\"],[0.8888888888888888,\"#fdca26\"],[1.0,\"#f0f921\"]],\"sequentialminus\":[[0.0,\"#0d0887\"],[0.1111111111111111,\"#46039f\"],[0.2222222222222222,\"#7201a8\"],[0.3333333333333333,\"#9c179e\"],[0.4444444444444444,\"#bd3786\"],[0.5555555555555556,\"#d8576b\"],[0.6666666666666666,\"#ed7953\"],[0.7777777777777778,\"#fb9f3a\"],[0.8888888888888888,\"#fdca26\"],[1.0,\"#f0f921\"]],\"diverging\":[[0,\"#8e0152\"],[0.1,\"#c51b7d\"],[0.2,\"#de77ae\"],[0.3,\"#f1b6da\"],[0.4,\"#fde0ef\"],[0.5,\"#f7f7f7\"],[0.6,\"#e6f5d0\"],[0.7,\"#b8e186\"],[0.8,\"#7fbc41\"],[0.9,\"#4d9221\"],[1,\"#276419\"]]},\"xaxis\":{\"gridcolor\":\"white\",\"linecolor\":\"white\",\"ticks\":\"\",\"title\":{\"standoff\":15},\"zerolinecolor\":\"white\",\"automargin\":true,\"zerolinewidth\":2},\"yaxis\":{\"gridcolor\":\"white\",\"linecolor\":\"white\",\"ticks\":\"\",\"title\":{\"standoff\":15},\"zerolinecolor\":\"white\",\"automargin\":true,\"zerolinewidth\":2},\"scene\":{\"xaxis\":{\"backgroundcolor\":\"#E5ECF6\",\"gridcolor\":\"white\",\"linecolor\":\"white\",\"showbackground\":true,\"ticks\":\"\",\"zerolinecolor\":\"white\",\"gridwidth\":2},\"yaxis\":{\"backgroundcolor\":\"#E5ECF6\",\"gridcolor\":\"white\",\"linecolor\":\"white\",\"showbackground\":true,\"ticks\":\"\",\"zerolinecolor\":\"white\",\"gridwidth\":2},\"zaxis\":{\"backgroundcolor\":\"#E5ECF6\",\"gridcolor\":\"white\",\"linecolor\":\"white\",\"showbackground\":true,\"ticks\":\"\",\"zerolinecolor\":\"white\",\"gridwidth\":2}},\"shapedefaults\":{\"line\":{\"color\":\"#2a3f5f\"}},\"annotationdefaults\":{\"arrowcolor\":\"#2a3f5f\",\"arrowhead\":0,\"arrowwidth\":1},\"geo\":{\"bgcolor\":\"white\",\"landcolor\":\"#E5ECF6\",\"subunitcolor\":\"white\",\"showland\":true,\"showlakes\":true,\"lakecolor\":\"white\"},\"title\":{\"x\":0.05},\"mapbox\":{\"style\":\"light\"}}},\"xaxis\":{\"anchor\":\"y\",\"domain\":[0.0,1.0],\"title\":{\"text\":\"Meta_score\"}},\"yaxis\":{\"anchor\":\"x\",\"domain\":[0.0,1.0],\"title\":{\"text\":\"count\"}},\"legend\":{\"tracegroupgap\":0},\"title\":{\"text\":\"Meta Score Distribution\"},\"barmode\":\"relative\",\"bargap\":0.1},                        {\"responsive\": true}                    ).then(function(){\n",
       "                            \n",
       "var gd = document.getElementById('1b5a346a-f260-4e3a-bf64-1ef8286a161a');\n",
       "var x = new MutationObserver(function (mutations, observer) {{\n",
       "        var display = window.getComputedStyle(gd).display;\n",
       "        if (!display || display === 'none') {{\n",
       "            console.log([gd, 'removed!']);\n",
       "            Plotly.purge(gd);\n",
       "            observer.disconnect();\n",
       "        }}\n",
       "}});\n",
       "\n",
       "// Listen for the removal of the full notebook cells\n",
       "var notebookContainer = gd.closest('#notebook-container');\n",
       "if (notebookContainer) {{\n",
       "    x.observe(notebookContainer, {childList: true});\n",
       "}}\n",
       "\n",
       "// Listen for the clearing of the current output cell\n",
       "var outputEl = gd.closest('.output');\n",
       "if (outputEl) {{\n",
       "    x.observe(outputEl, {childList: true});\n",
       "}}\n",
       "\n",
       "                        })                };                });            </script>        </div>"
      ]
     },
     "metadata": {},
     "output_type": "display_data"
    }
   ],
   "source": [
    "# Meta Score Distribution\n",
    "fig = px.histogram(Data.Meta_score, x=\"Meta_score\", title=\"Meta Score Distribution\",color_discrete_sequence=[\"#deb522\"])\n",
    "fig.update_layout(bargap=0.1)\n",
    "fig.show()"
   ]
  },
  {
   "cell_type": "code",
   "execution_count": 15,
   "id": "8c89d700",
   "metadata": {
    "execution": {
     "iopub.execute_input": "2024-07-08T16:21:03.341719Z",
     "iopub.status.busy": "2024-07-08T16:21:03.341303Z",
     "iopub.status.idle": "2024-07-08T16:21:03.375869Z",
     "shell.execute_reply": "2024-07-08T16:21:03.374506Z"
    },
    "papermill": {
     "duration": 0.056077,
     "end_time": "2024-07-08T16:21:03.378502",
     "exception": false,
     "start_time": "2024-07-08T16:21:03.322425",
     "status": "completed"
    },
    "tags": []
   },
   "outputs": [
    {
     "name": "stdout",
     "output_type": "stream",
     "text": [
      "Total unique genres are 21\n",
      "Occurances of unique genres :\n"
     ]
    },
    {
     "data": {
      "text/html": [
       "<style type=\"text/css\">\n",
       "#T_20042_row0_col0, #T_20042_row0_col1, #T_20042_row0_col2, #T_20042_row0_col3, #T_20042_row0_col4, #T_20042_row0_col5, #T_20042_row0_col6, #T_20042_row0_col7, #T_20042_row0_col8, #T_20042_row0_col9, #T_20042_row0_col10, #T_20042_row0_col11, #T_20042_row0_col12, #T_20042_row0_col13, #T_20042_row0_col14, #T_20042_row0_col15, #T_20042_row0_col16, #T_20042_row0_col17, #T_20042_row0_col18, #T_20042_row0_col19, #T_20042_row0_col20 {\n",
       "  background-color: #deb522;\n",
       "  color: white;\n",
       "  border: 1.5px  solid black;\n",
       "}\n",
       "</style>\n",
       "<table id=\"T_20042\">\n",
       "  <thead>\n",
       "    <tr>\n",
       "      <th class=\"index_name level0\" >Genre</th>\n",
       "      <th id=\"T_20042_level0_col0\" class=\"col_heading level0 col0\" >Drama</th>\n",
       "      <th id=\"T_20042_level0_col1\" class=\"col_heading level0 col1\" >Adventure</th>\n",
       "      <th id=\"T_20042_level0_col2\" class=\"col_heading level0 col2\" >Comedy</th>\n",
       "      <th id=\"T_20042_level0_col3\" class=\"col_heading level0 col3\" >Crime</th>\n",
       "      <th id=\"T_20042_level0_col4\" class=\"col_heading level0 col4\" >Action</th>\n",
       "      <th id=\"T_20042_level0_col5\" class=\"col_heading level0 col5\" >Thriller</th>\n",
       "      <th id=\"T_20042_level0_col6\" class=\"col_heading level0 col6\" >Biography</th>\n",
       "      <th id=\"T_20042_level0_col7\" class=\"col_heading level0 col7\" >Romance</th>\n",
       "      <th id=\"T_20042_level0_col8\" class=\"col_heading level0 col8\" >Mystery</th>\n",
       "      <th id=\"T_20042_level0_col9\" class=\"col_heading level0 col9\" >Animation</th>\n",
       "      <th id=\"T_20042_level0_col10\" class=\"col_heading level0 col10\" >Sci-Fi</th>\n",
       "      <th id=\"T_20042_level0_col11\" class=\"col_heading level0 col11\" >Fantasy</th>\n",
       "      <th id=\"T_20042_level0_col12\" class=\"col_heading level0 col12\" >Family</th>\n",
       "      <th id=\"T_20042_level0_col13\" class=\"col_heading level0 col13\" >History</th>\n",
       "      <th id=\"T_20042_level0_col14\" class=\"col_heading level0 col14\" >War</th>\n",
       "      <th id=\"T_20042_level0_col15\" class=\"col_heading level0 col15\" >Music</th>\n",
       "      <th id=\"T_20042_level0_col16\" class=\"col_heading level0 col16\" >Horror</th>\n",
       "      <th id=\"T_20042_level0_col17\" class=\"col_heading level0 col17\" >Sport</th>\n",
       "      <th id=\"T_20042_level0_col18\" class=\"col_heading level0 col18\" >Western</th>\n",
       "      <th id=\"T_20042_level0_col19\" class=\"col_heading level0 col19\" >Musical</th>\n",
       "      <th id=\"T_20042_level0_col20\" class=\"col_heading level0 col20\" >Film-Noir</th>\n",
       "    </tr>\n",
       "  </thead>\n",
       "  <tbody>\n",
       "    <tr>\n",
       "      <th id=\"T_20042_level0_row0\" class=\"row_heading level0 row0\" >count</th>\n",
       "      <td id=\"T_20042_row0_col0\" class=\"data row0 col0\" >500</td>\n",
       "      <td id=\"T_20042_row0_col1\" class=\"data row0 col1\" >163</td>\n",
       "      <td id=\"T_20042_row0_col2\" class=\"data row0 col2\" >161</td>\n",
       "      <td id=\"T_20042_row0_col3\" class=\"data row0 col3\" >142</td>\n",
       "      <td id=\"T_20042_row0_col4\" class=\"data row0 col4\" >140</td>\n",
       "      <td id=\"T_20042_row0_col5\" class=\"data row0 col5\" >99</td>\n",
       "      <td id=\"T_20042_row0_col6\" class=\"data row0 col6\" >88</td>\n",
       "      <td id=\"T_20042_row0_col7\" class=\"data row0 col7\" >88</td>\n",
       "      <td id=\"T_20042_row0_col8\" class=\"data row0 col8\" >70</td>\n",
       "      <td id=\"T_20042_row0_col9\" class=\"data row0 col9\" >63</td>\n",
       "      <td id=\"T_20042_row0_col10\" class=\"data row0 col10\" >56</td>\n",
       "      <td id=\"T_20042_row0_col11\" class=\"data row0 col11\" >55</td>\n",
       "      <td id=\"T_20042_row0_col12\" class=\"data row0 col12\" >43</td>\n",
       "      <td id=\"T_20042_row0_col13\" class=\"data row0 col13\" >38</td>\n",
       "      <td id=\"T_20042_row0_col14\" class=\"data row0 col14\" >29</td>\n",
       "      <td id=\"T_20042_row0_col15\" class=\"data row0 col15\" >27</td>\n",
       "      <td id=\"T_20042_row0_col16\" class=\"data row0 col16\" >18</td>\n",
       "      <td id=\"T_20042_row0_col17\" class=\"data row0 col17\" >17</td>\n",
       "      <td id=\"T_20042_row0_col18\" class=\"data row0 col18\" >16</td>\n",
       "      <td id=\"T_20042_row0_col19\" class=\"data row0 col19\" >11</td>\n",
       "      <td id=\"T_20042_row0_col20\" class=\"data row0 col20\" >6</td>\n",
       "    </tr>\n",
       "  </tbody>\n",
       "</table>\n"
      ],
      "text/plain": [
       "<pandas.io.formats.style.Styler at 0x7e8c2f94cfa0>"
      ]
     },
     "execution_count": 15,
     "metadata": {},
     "output_type": "execute_result"
    }
   ],
   "source": [
    "genre = Data[[\"Genre\"]]\n",
    "genre[\"Genre\"] = genre[\"Genre\"].str.split(\", | , | ,\")\n",
    "genre = genre.explode(\"Genre\")\n",
    "genre[\"Genre\"] = genre[\"Genre\"].str.title()\n",
    "\n",
    "print(f'Total unique genres are {len(genre[\"Genre\"].unique())}')\n",
    "print(f'Occurances of unique genres :')\n",
    "genre[\"Genre\"].value_counts().to_frame().T.style.set_properties(**{\"background-color\": \"#deb522\",\"color\":\"white\",\"border\": \"1.5px  solid black\"})"
   ]
  },
  {
   "cell_type": "code",
   "execution_count": 16,
   "id": "11ebf1ea",
   "metadata": {
    "execution": {
     "iopub.execute_input": "2024-07-08T16:21:03.415710Z",
     "iopub.status.busy": "2024-07-08T16:21:03.415289Z",
     "iopub.status.idle": "2024-07-08T16:21:04.125310Z",
     "shell.execute_reply": "2024-07-08T16:21:04.124080Z"
    },
    "papermill": {
     "duration": 0.733274,
     "end_time": "2024-07-08T16:21:04.129392",
     "exception": false,
     "start_time": "2024-07-08T16:21:03.396118",
     "status": "completed"
    },
    "tags": []
   },
   "outputs": [
    {
     "data": {
      "image/png": "[encoded data removed]",
      "text/plain": [
       "<Figure size 1000x500 with 1 Axes>"
      ]
     },
     "metadata": {},
     "output_type": "display_data"
    }
   ],
   "source": [
    "from wordcloud import WordCloud\n",
    "# Most Movie's Genre\n",
    "\n",
    "# Step 2: Preprocess the text\n",
    "# Concatenate all text in the column\n",
    "text = \" \".join(Data['Genre'])\n",
    "\n",
    "# Step 3: Generate the word cloud\n",
    "wordcloud = WordCloud(width=800, height=400, background_color='white').generate(text)\n",
    "\n",
    "# Step 4: Display the word cloud\n",
    "plt.figure(figsize=(10, 5))\n",
    "plt.imshow(wordcloud, interpolation='bilinear')\n",
    "plt.axis('off')\n",
    "plt.show()"
   ]
  },
  {
   "cell_type": "code",
   "execution_count": 17,
   "id": "71304f6c",
   "metadata": {
    "execution": {
     "iopub.execute_input": "2024-07-08T16:21:04.172589Z",
     "iopub.status.busy": "2024-07-08T16:21:04.171865Z",
     "iopub.status.idle": "2024-07-08T16:21:04.264448Z",
     "shell.execute_reply": "2024-07-08T16:21:04.263259Z"
    },
    "papermill": {
     "duration": 0.117508,
     "end_time": "2024-07-08T16:21:04.267222",
     "exception": false,
     "start_time": "2024-07-08T16:21:04.149714",
     "status": "completed"
    },
    "tags": []
   },
   "outputs": [
    {
     "data": {
      "text/html": [
       "<div>                            <div id=\"9a0dadc7-50ca-45fc-97c3-8126e2a3fabf\" class=\"plotly-graph-div\" style=\"height:525px; width:100%;\"></div>            <script type=\"text/javascript\">                require([\"plotly\"], function(Plotly) {                    window.PLOTLYENV=window.PLOTLYENV || {};                                    if (document.getElementById(\"9a0dadc7-50ca-45fc-97c3-8126e2a3fabf\")) {                    Plotly.newPlot(                        \"9a0dadc7-50ca-45fc-97c3-8126e2a3fabf\",                        [{\"alignmentgroup\":\"True\",\"hovertemplate\":\"Series_Title=%{x}\\u003cbr\\u003eIMDB_Rating=%{y}\\u003cextra\\u003e\\u003c\\u002fextra\\u003e\",\"legendgroup\":\"\",\"marker\":{\"color\":\"#deb522\",\"pattern\":{\"shape\":\"\"}},\"name\":\"\",\"offsetgroup\":\"\",\"orientation\":\"v\",\"showlegend\":false,\"textposition\":\"auto\",\"x\":[\"The Shawshank Redemption\",\"The Godfather\",\"The Dark Knight\",\"The Godfather: Part II\",\"12 Angry Men\",\"The Lord of the Rings: The Return of the King\",\"Pulp Fiction\",\"Schindler's List\",\"Inception\",\"Fight Club\"],\"xaxis\":\"x\",\"y\":[9.3,9.2,9.0,9.0,9.0,8.9,8.9,8.9,8.8,8.8],\"yaxis\":\"y\",\"type\":\"bar\"}],                        {\"template\":{\"data\":{\"histogram2dcontour\":[{\"type\":\"histogram2dcontour\",\"colorbar\":{\"outlinewidth\":0,\"ticks\":\"\"},\"colorscale\":[[0.0,\"#0d0887\"],[0.1111111111111111,\"#46039f\"],[0.2222222222222222,\"#7201a8\"],[0.3333333333333333,\"#9c179e\"],[0.4444444444444444,\"#bd3786\"],[0.5555555555555556,\"#d8576b\"],[0.6666666666666666,\"#ed7953\"],[0.7777777777777778,\"#fb9f3a\"],[0.8888888888888888,\"#fdca26\"],[1.0,\"#f0f921\"]]}],\"choropleth\":[{\"type\":\"choropleth\",\"colorbar\":{\"outlinewidth\":0,\"ticks\":\"\"}}],\"histogram2d\":[{\"type\":\"histogram2d\",\"colorbar\":{\"outlinewidth\":0,\"ticks\":\"\"},\"colorscale\":[[0.0,\"#0d0887\"],[0.1111111111111111,\"#46039f\"],[0.2222222222222222,\"#7201a8\"],[0.3333333333333333,\"#9c179e\"],[0.4444444444444444,\"#bd3786\"],[0.5555555555555556,\"#d8576b\"],[0.6666666666666666,\"#ed7953\"],[0.7777777777777778,\"#fb9f3a\"],[0.8888888888888888,\"#fdca26\"],[1.0,\"#f0f921\"]]}],\"heatmap\":[{\"type\":\"heatmap\",\"colorbar\":{\"outlinewidth\":0,\"ticks\":\"\"},\"colorscale\":[[0.0,\"#0d0887\"],[0.1111111111111111,\"#46039f\"],[0.2222222222222222,\"#7201a8\"],[0.3333333333333333,\"#9c179e\"],[0.4444444444444444,\"#bd3786\"],[0.5555555555555556,\"#d8576b\"],[0.6666666666666666,\"#ed7953\"],[0.7777777777777778,\"#fb9f3a\"],[0.8888888888888888,\"#fdca26\"],[1.0,\"#f0f921\"]]}],\"heatmapgl\":[{\"type\":\"heatmapgl\",\"colorbar\":{\"outlinewidth\":0,\"ticks\":\"\"},\"colorscale\":[[0.0,\"#0d0887\"],[0.1111111111111111,\"#46039f\"],[0.2222222222222222,\"#7201a8\"],[0.3333333333333333,\"#9c179e\"],[0.4444444444444444,\"#bd3786\"],[0.5555555555555556,\"#d8576b\"],[0.6666666666666666,\"#ed7953\"],[0.7777777777777778,\"#fb9f3a\"],[0.8888888888888888,\"#fdca26\"],[1.0,\"#f0f921\"]]}],\"contourcarpet\":[{\"type\":\"contourcarpet\",\"colorbar\":{\"outlinewidth\":0,\"ticks\":\"\"}}],\"contour\":[{\"type\":\"contour\",\"colorbar\":{\"outlinewidth\":0,\"ticks\":\"\"},\"colorscale\":[[0.0,\"#0d0887\"],[0.1111111111111111,\"#46039f\"],[0.2222222222222222,\"#7201a8\"],[0.3333333333333333,\"#9c179e\"],[0.4444444444444444,\"#bd3786\"],[0.5555555555555556,\"#d8576b\"],[0.6666666666666666,\"#ed7953\"],[0.7777777777777778,\"#fb9f3a\"],[0.8888888888888888,\"#fdca26\"],[1.0,\"#f0f921\"]]}],\"surface\":[{\"type\":\"surface\",\"colorbar\":{\"outlinewidth\":0,\"ticks\":\"\"},\"colorscale\":[[0.0,\"#0d0887\"],[0.1111111111111111,\"#46039f\"],[0.2222222222222222,\"#7201a8\"],[0.3333333333333333,\"#9c179e\"],[0.4444444444444444,\"#bd3786\"],[0.5555555555555556,\"#d8576b\"],[0.6666666666666666,\"#ed7953\"],[0.7777777777777778,\"#fb9f3a\"],[0.8888888888888888,\"#fdca26\"],[1.0,\"#f0f921\"]]}],\"mesh3d\":[{\"type\":\"mesh3d\",\"colorbar\":{\"outlinewidth\":0,\"ticks\":\"\"}}],\"scatter\":[{\"fillpattern\":{\"fillmode\":\"overlay\",\"size\":10,\"solidity\":0.2},\"type\":\"scatter\"}],\"parcoords\":[{\"type\":\"parcoords\",\"line\":{\"colorbar\":{\"outlinewidth\":0,\"ticks\":\"\"}}}],\"scatterpolargl\":[{\"type\":\"scatterpolargl\",\"marker\":{\"colorbar\":{\"outlinewidth\":0,\"ticks\":\"\"}}}],\"bar\":[{\"error_x\":{\"color\":\"#2a3f5f\"},\"error_y\":{\"color\":\"#2a3f5f\"},\"marker\":{\"line\":{\"color\":\"#E5ECF6\",\"width\":0.5},\"pattern\":{\"fillmode\":\"overlay\",\"size\":10,\"solidity\":0.2}},\"type\":\"bar\"}],\"scattergeo\":[{\"type\":\"scattergeo\",\"marker\":{\"colorbar\":{\"outlinewidth\":0,\"ticks\":\"\"}}}],\"scatterpolar\":[{\"type\":\"scatterpolar\",\"marker\":{\"colorbar\":{\"outlinewidth\":0,\"ticks\":\"\"}}}],\"histogram\":[{\"marker\":{\"pattern\":{\"fillmode\":\"overlay\",\"size\":10,\"solidity\":0.2}},\"type\":\"histogram\"}],\"scattergl\":[{\"type\":\"scattergl\",\"marker\":{\"colorbar\":{\"outlinewidth\":0,\"ticks\":\"\"}}}],\"scatter3d\":[{\"type\":\"scatter3d\",\"line\":{\"colorbar\":{\"outlinewidth\":0,\"ticks\":\"\"}},\"marker\":{\"colorbar\":{\"outlinewidth\":0,\"ticks\":\"\"}}}],\"scattermapbox\":[{\"type\":\"scattermapbox\",\"marker\":{\"colorbar\":{\"outlinewidth\":0,\"ticks\":\"\"}}}],\"scatterternary\":[{\"type\":\"scatterternary\",\"marker\":{\"colorbar\":{\"outlinewidth\":0,\"ticks\":\"\"}}}],\"scattercarpet\":[{\"type\":\"scattercarpet\",\"marker\":{\"colorbar\":{\"outlinewidth\":0,\"ticks\":\"\"}}}],\"carpet\":[{\"aaxis\":{\"endlinecolor\":\"#2a3f5f\",\"gridcolor\":\"white\",\"linecolor\":\"white\",\"minorgridcolor\":\"white\",\"startlinecolor\":\"#2a3f5f\"},\"baxis\":{\"endlinecolor\":\"#2a3f5f\",\"gridcolor\":\"white\",\"linecolor\":\"white\",\"minorgridcolor\":\"white\",\"startlinecolor\":\"#2a3f5f\"},\"type\":\"carpet\"}],\"table\":[{\"cells\":{\"fill\":{\"color\":\"#EBF0F8\"},\"line\":{\"color\":\"white\"}},\"header\":{\"fill\":{\"color\":\"#C8D4E3\"},\"line\":{\"color\":\"white\"}},\"type\":\"table\"}],\"barpolar\":[{\"marker\":{\"line\":{\"color\":\"#E5ECF6\",\"width\":0.5},\"pattern\":{\"fillmode\":\"overlay\",\"size\":10,\"solidity\":0.2}},\"type\":\"barpolar\"}],\"pie\":[{\"automargin\":true,\"type\":\"pie\"}]},\"layout\":{\"autotypenumbers\":\"strict\",\"colorway\":[\"#636efa\",\"#EF553B\",\"#00cc96\",\"#ab63fa\",\"#FFA15A\",\"#19d3f3\",\"#FF6692\",\"#B6E880\",\"#FF97FF\",\"#FECB52\"],\"font\":{\"color\":\"#2a3f5f\"},\"hovermode\":\"closest\",\"hoverlabel\":{\"align\":\"left\"},\"paper_bgcolor\":\"white\",\"plot_bgcolor\":\"#E5ECF6\",\"polar\":{\"bgcolor\":\"#E5ECF6\",\"angularaxis\":{\"gridcolor\":\"white\",\"linecolor\":\"white\",\"ticks\":\"\"},\"radialaxis\":{\"gridcolor\":\"white\",\"linecolor\":\"white\",\"ticks\":\"\"}},\"ternary\":{\"bgcolor\":\"#E5ECF6\",\"aaxis\":{\"gridcolor\":\"white\",\"linecolor\":\"white\",\"ticks\":\"\"},\"baxis\":{\"gridcolor\":\"white\",\"linecolor\":\"white\",\"ticks\":\"\"},\"caxis\":{\"gridcolor\":\"white\",\"linecolor\":\"white\",\"ticks\":\"\"}},\"coloraxis\":{\"colorbar\":{\"outlinewidth\":0,\"ticks\":\"\"}},\"colorscale\":{\"sequential\":[[0.0,\"#0d0887\"],[0.1111111111111111,\"#46039f\"],[0.2222222222222222,\"#7201a8\"],[0.3333333333333333,\"#9c179e\"],[0.4444444444444444,\"#bd3786\"],[0.5555555555555556,\"#d8576b\"],[0.6666666666666666,\"#ed7953\"],[0.7777777777777778,\"#fb9f3a\"],[0.8888888888888888,\"#fdca26\"],[1.0,\"#f0f921\"]],\"sequentialminus\":[[0.0,\"#0d0887\"],[0.1111111111111111,\"#46039f\"],[0.2222222222222222,\"#7201a8\"],[0.3333333333333333,\"#9c179e\"],[0.4444444444444444,\"#bd3786\"],[0.5555555555555556,\"#d8576b\"],[0.6666666666666666,\"#ed7953\"],[0.7777777777777778,\"#fb9f3a\"],[0.8888888888888888,\"#fdca26\"],[1.0,\"#f0f921\"]],\"diverging\":[[0,\"#8e0152\"],[0.1,\"#c51b7d\"],[0.2,\"#de77ae\"],[0.3,\"#f1b6da\"],[0.4,\"#fde0ef\"],[0.5,\"#f7f7f7\"],[0.6,\"#e6f5d0\"],[0.7,\"#b8e186\"],[0.8,\"#7fbc41\"],[0.9,\"#4d9221\"],[1,\"#276419\"]]},\"xaxis\":{\"gridcolor\":\"white\",\"linecolor\":\"white\",\"ticks\":\"\",\"title\":{\"standoff\":15},\"zerolinecolor\":\"white\",\"automargin\":true,\"zerolinewidth\":2},\"yaxis\":{\"gridcolor\":\"white\",\"linecolor\":\"white\",\"ticks\":\"\",\"title\":{\"standoff\":15},\"zerolinecolor\":\"white\",\"automargin\":true,\"zerolinewidth\":2},\"scene\":{\"xaxis\":{\"backgroundcolor\":\"#E5ECF6\",\"gridcolor\":\"white\",\"linecolor\":\"white\",\"showbackground\":true,\"ticks\":\"\",\"zerolinecolor\":\"white\",\"gridwidth\":2},\"yaxis\":{\"backgroundcolor\":\"#E5ECF6\",\"gridcolor\":\"white\",\"linecolor\":\"white\",\"showbackground\":true,\"ticks\":\"\",\"zerolinecolor\":\"white\",\"gridwidth\":2},\"zaxis\":{\"backgroundcolor\":\"#E5ECF6\",\"gridcolor\":\"white\",\"linecolor\":\"white\",\"showbackground\":true,\"ticks\":\"\",\"zerolinecolor\":\"white\",\"gridwidth\":2}},\"shapedefaults\":{\"line\":{\"color\":\"#2a3f5f\"}},\"annotationdefaults\":{\"arrowcolor\":\"#2a3f5f\",\"arrowhead\":0,\"arrowwidth\":1},\"geo\":{\"bgcolor\":\"white\",\"landcolor\":\"#E5ECF6\",\"subunitcolor\":\"white\",\"showland\":true,\"showlakes\":true,\"lakecolor\":\"white\"},\"title\":{\"x\":0.05},\"mapbox\":{\"style\":\"light\"}}},\"xaxis\":{\"anchor\":\"y\",\"domain\":[0.0,1.0],\"title\":{\"text\":\"Series_Title\"}},\"yaxis\":{\"anchor\":\"x\",\"domain\":[0.0,1.0],\"title\":{\"text\":\"IMDB_Rating\"}},\"legend\":{\"tracegroupgap\":0},\"title\":{\"text\":\"Top 10 Movie by IMDB Rating\"},\"barmode\":\"relative\"},                        {\"responsive\": true}                    ).then(function(){\n",
       "                            \n",
       "var gd = document.getElementById('9a0dadc7-50ca-45fc-97c3-8126e2a3fabf');\n",
       "var x = new MutationObserver(function (mutations, observer) {{\n",
       "        var display = window.getComputedStyle(gd).display;\n",
       "        if (!display || display === 'none') {{\n",
       "            console.log([gd, 'removed!']);\n",
       "            Plotly.purge(gd);\n",
       "            observer.disconnect();\n",
       "        }}\n",
       "}});\n",
       "\n",
       "// Listen for the removal of the full notebook cells\n",
       "var notebookContainer = gd.closest('#notebook-container');\n",
       "if (notebookContainer) {{\n",
       "    x.observe(notebookContainer, {childList: true});\n",
       "}}\n",
       "\n",
       "// Listen for the clearing of the current output cell\n",
       "var outputEl = gd.closest('.output');\n",
       "if (outputEl) {{\n",
       "    x.observe(outputEl, {childList: true});\n",
       "}}\n",
       "\n",
       "                        })                };                });            </script>        </div>"
      ]
     },
     "metadata": {},
     "output_type": "display_data"
    }
   ],
   "source": [
    "Data_top10 = Data.loc[0:9,]\n",
    "fig = px.bar(Data_top10, x='Series_Title', y='IMDB_Rating',title=\"Top 10 Movie by IMDB Rating\",color_discrete_sequence=[\"#deb522\"])\n",
    "fig.show()"
   ]
  },
  {
   "cell_type": "code",
   "execution_count": 18,
   "id": "045dcd43",
   "metadata": {
    "execution": {
     "iopub.execute_input": "2024-07-08T16:21:04.310567Z",
     "iopub.status.busy": "2024-07-08T16:21:04.310143Z",
     "iopub.status.idle": "2024-07-08T16:21:04.385131Z",
     "shell.execute_reply": "2024-07-08T16:21:04.384034Z"
    },
    "papermill": {
     "duration": 0.099715,
     "end_time": "2024-07-08T16:21:04.387754",
     "exception": false,
     "start_time": "2024-07-08T16:21:04.288039",
     "status": "completed"
    },
    "tags": []
   },
   "outputs": [
    {
     "data": {
      "text/html": [
       "<div>                            <div id=\"760f43ee-be85-4fc7-93b6-da267a43b975\" class=\"plotly-graph-div\" style=\"height:525px; width:100%;\"></div>            <script type=\"text/javascript\">                require([\"plotly\"], function(Plotly) {                    window.PLOTLYENV=window.PLOTLYENV || {};                                    if (document.getElementById(\"760f43ee-be85-4fc7-93b6-da267a43b975\")) {                    Plotly.newPlot(                        \"760f43ee-be85-4fc7-93b6-da267a43b975\",                        [{\"alignmentgroup\":\"True\",\"hovertemplate\":\"Series_Title=%{x}\\u003cbr\\u003eMeta_score=%{y}\\u003cextra\\u003e\\u003c\\u002fextra\\u003e\",\"legendgroup\":\"\",\"marker\":{\"color\":\"#deb522\",\"pattern\":{\"shape\":\"\"}},\"name\":\"\",\"offsetgroup\":\"\",\"orientation\":\"v\",\"showlegend\":false,\"textposition\":\"auto\",\"x\":[\"Citizen Kane\",\"Notorious\",\"Vertigo\",\"Fanny och Alexander\",\"Rear Window\",\"The Godfather\",\"Il conformista\",\"Boyhood\",\"Trois couleurs: Rouge\",\"Casablanca\",\"Lawrence of Arabia\"],\"xaxis\":\"x\",\"y\":[100.0,100.0,100.0,100.0,100.0,100.0,100.0,100.0,100.0,100.0,100.0],\"yaxis\":\"y\",\"type\":\"bar\"}],                        {\"template\":{\"data\":{\"histogram2dcontour\":[{\"type\":\"histogram2dcontour\",\"colorbar\":{\"outlinewidth\":0,\"ticks\":\"\"},\"colorscale\":[[0.0,\"#0d0887\"],[0.1111111111111111,\"#46039f\"],[0.2222222222222222,\"#7201a8\"],[0.3333333333333333,\"#9c179e\"],[0.4444444444444444,\"#bd3786\"],[0.5555555555555556,\"#d8576b\"],[0.6666666666666666,\"#ed7953\"],[0.7777777777777778,\"#fb9f3a\"],[0.8888888888888888,\"#fdca26\"],[1.0,\"#f0f921\"]]}],\"choropleth\":[{\"type\":\"choropleth\",\"colorbar\":{\"outlinewidth\":0,\"ticks\":\"\"}}],\"histogram2d\":[{\"type\":\"histogram2d\",\"colorbar\":{\"outlinewidth\":0,\"ticks\":\"\"},\"colorscale\":[[0.0,\"#0d0887\"],[0.1111111111111111,\"#46039f\"],[0.2222222222222222,\"#7201a8\"],[0.3333333333333333,\"#9c179e\"],[0.4444444444444444,\"#bd3786\"],[0.5555555555555556,\"#d8576b\"],[0.6666666666666666,\"#ed7953\"],[0.7777777777777778,\"#fb9f3a\"],[0.8888888888888888,\"#fdca26\"],[1.0,\"#f0f921\"]]}],\"heatmap\":[{\"type\":\"heatmap\",\"colorbar\":{\"outlinewidth\":0,\"ticks\":\"\"},\"colorscale\":[[0.0,\"#0d0887\"],[0.1111111111111111,\"#46039f\"],[0.2222222222222222,\"#7201a8\"],[0.3333333333333333,\"#9c179e\"],[0.4444444444444444,\"#bd3786\"],[0.5555555555555556,\"#d8576b\"],[0.6666666666666666,\"#ed7953\"],[0.7777777777777778,\"#fb9f3a\"],[0.8888888888888888,\"#fdca26\"],[1.0,\"#f0f921\"]]}],\"heatmapgl\":[{\"type\":\"heatmapgl\",\"colorbar\":{\"outlinewidth\":0,\"ticks\":\"\"},\"colorscale\":[[0.0,\"#0d0887\"],[0.1111111111111111,\"#46039f\"],[0.2222222222222222,\"#7201a8\"],[0.3333333333333333,\"#9c179e\"],[0.4444444444444444,\"#bd3786\"],[0.5555555555555556,\"#d8576b\"],[0.6666666666666666,\"#ed7953\"],[0.7777777777777778,\"#fb9f3a\"],[0.8888888888888888,\"#fdca26\"],[1.0,\"#f0f921\"]]}],\"contourcarpet\":[{\"type\":\"contourcarpet\",\"colorbar\":{\"outlinewidth\":0,\"ticks\":\"\"}}],\"contour\":[{\"type\":\"contour\",\"colorbar\":{\"outlinewidth\":0,\"ticks\":\"\"},\"colorscale\":[[0.0,\"#0d0887\"],[0.1111111111111111,\"#46039f\"],[0.2222222222222222,\"#7201a8\"],[0.3333333333333333,\"#9c179e\"],[0.4444444444444444,\"#bd3786\"],[0.5555555555555556,\"#d8576b\"],[0.6666666666666666,\"#ed7953\"],[0.7777777777777778,\"#fb9f3a\"],[0.8888888888888888,\"#fdca26\"],[1.0,\"#f0f921\"]]}],\"surface\":[{\"type\":\"surface\",\"colorbar\":{\"outlinewidth\":0,\"ticks\":\"\"},\"colorscale\":[[0.0,\"#0d0887\"],[0.1111111111111111,\"#46039f\"],[0.2222222222222222,\"#7201a8\"],[0.3333333333333333,\"#9c179e\"],[0.4444444444444444,\"#bd3786\"],[0.5555555555555556,\"#d8576b\"],[0.6666666666666666,\"#ed7953\"],[0.7777777777777778,\"#fb9f3a\"],[0.8888888888888888,\"#fdca26\"],[1.0,\"#f0f921\"]]}],\"mesh3d\":[{\"type\":\"mesh3d\",\"colorbar\":{\"outlinewidth\":0,\"ticks\":\"\"}}],\"scatter\":[{\"fillpattern\":{\"fillmode\":\"overlay\",\"size\":10,\"solidity\":0.2},\"type\":\"scatter\"}],\"parcoords\":[{\"type\":\"parcoords\",\"line\":{\"colorbar\":{\"outlinewidth\":0,\"ticks\":\"\"}}}],\"scatterpolargl\":[{\"type\":\"scatterpolargl\",\"marker\":{\"colorbar\":{\"outlinewidth\":0,\"ticks\":\"\"}}}],\"bar\":[{\"error_x\":{\"color\":\"#2a3f5f\"},\"error_y\":{\"color\":\"#2a3f5f\"},\"marker\":{\"line\":{\"color\":\"#E5ECF6\",\"width\":0.5},\"pattern\":{\"fillmode\":\"overlay\",\"size\":10,\"solidity\":0.2}},\"type\":\"bar\"}],\"scattergeo\":[{\"type\":\"scattergeo\",\"marker\":{\"colorbar\":{\"outlinewidth\":0,\"ticks\":\"\"}}}],\"scatterpolar\":[{\"type\":\"scatterpolar\",\"marker\":{\"colorbar\":{\"outlinewidth\":0,\"ticks\":\"\"}}}],\"histogram\":[{\"marker\":{\"pattern\":{\"fillmode\":\"overlay\",\"size\":10,\"solidity\":0.2}},\"type\":\"histogram\"}],\"scattergl\":[{\"type\":\"scattergl\",\"marker\":{\"colorbar\":{\"outlinewidth\":0,\"ticks\":\"\"}}}],\"scatter3d\":[{\"type\":\"scatter3d\",\"line\":{\"colorbar\":{\"outlinewidth\":0,\"ticks\":\"\"}},\"marker\":{\"colorbar\":{\"outlinewidth\":0,\"ticks\":\"\"}}}],\"scattermapbox\":[{\"type\":\"scattermapbox\",\"marker\":{\"colorbar\":{\"outlinewidth\":0,\"ticks\":\"\"}}}],\"scatterternary\":[{\"type\":\"scatterternary\",\"marker\":{\"colorbar\":{\"outlinewidth\":0,\"ticks\":\"\"}}}],\"scattercarpet\":[{\"type\":\"scattercarpet\",\"marker\":{\"colorbar\":{\"outlinewidth\":0,\"ticks\":\"\"}}}],\"carpet\":[{\"aaxis\":{\"endlinecolor\":\"#2a3f5f\",\"gridcolor\":\"white\",\"linecolor\":\"white\",\"minorgridcolor\":\"white\",\"startlinecolor\":\"#2a3f5f\"},\"baxis\":{\"endlinecolor\":\"#2a3f5f\",\"gridcolor\":\"white\",\"linecolor\":\"white\",\"minorgridcolor\":\"white\",\"startlinecolor\":\"#2a3f5f\"},\"type\":\"carpet\"}],\"table\":[{\"cells\":{\"fill\":{\"color\":\"#EBF0F8\"},\"line\":{\"color\":\"white\"}},\"header\":{\"fill\":{\"color\":\"#C8D4E3\"},\"line\":{\"color\":\"white\"}},\"type\":\"table\"}],\"barpolar\":[{\"marker\":{\"line\":{\"color\":\"#E5ECF6\",\"width\":0.5},\"pattern\":{\"fillmode\":\"overlay\",\"size\":10,\"solidity\":0.2}},\"type\":\"barpolar\"}],\"pie\":[{\"automargin\":true,\"type\":\"pie\"}]},\"layout\":{\"autotypenumbers\":\"strict\",\"colorway\":[\"#636efa\",\"#EF553B\",\"#00cc96\",\"#ab63fa\",\"#FFA15A\",\"#19d3f3\",\"#FF6692\",\"#B6E880\",\"#FF97FF\",\"#FECB52\"],\"font\":{\"color\":\"#2a3f5f\"},\"hovermode\":\"closest\",\"hoverlabel\":{\"align\":\"left\"},\"paper_bgcolor\":\"white\",\"plot_bgcolor\":\"#E5ECF6\",\"polar\":{\"bgcolor\":\"#E5ECF6\",\"angularaxis\":{\"gridcolor\":\"white\",\"linecolor\":\"white\",\"ticks\":\"\"},\"radialaxis\":{\"gridcolor\":\"white\",\"linecolor\":\"white\",\"ticks\":\"\"}},\"ternary\":{\"bgcolor\":\"#E5ECF6\",\"aaxis\":{\"gridcolor\":\"white\",\"linecolor\":\"white\",\"ticks\":\"\"},\"baxis\":{\"gridcolor\":\"white\",\"linecolor\":\"white\",\"ticks\":\"\"},\"caxis\":{\"gridcolor\":\"white\",\"linecolor\":\"white\",\"ticks\":\"\"}},\"coloraxis\":{\"colorbar\":{\"outlinewidth\":0,\"ticks\":\"\"}},\"colorscale\":{\"sequential\":[[0.0,\"#0d0887\"],[0.1111111111111111,\"#46039f\"],[0.2222222222222222,\"#7201a8\"],[0.3333333333333333,\"#9c179e\"],[0.4444444444444444,\"#bd3786\"],[0.5555555555555556,\"#d8576b\"],[0.6666666666666666,\"#ed7953\"],[0.7777777777777778,\"#fb9f3a\"],[0.8888888888888888,\"#fdca26\"],[1.0,\"#f0f921\"]],\"sequentialminus\":[[0.0,\"#0d0887\"],[0.1111111111111111,\"#46039f\"],[0.2222222222222222,\"#7201a8\"],[0.3333333333333333,\"#9c179e\"],[0.4444444444444444,\"#bd3786\"],[0.5555555555555556,\"#d8576b\"],[0.6666666666666666,\"#ed7953\"],[0.7777777777777778,\"#fb9f3a\"],[0.8888888888888888,\"#fdca26\"],[1.0,\"#f0f921\"]],\"diverging\":[[0,\"#8e0152\"],[0.1,\"#c51b7d\"],[0.2,\"#de77ae\"],[0.3,\"#f1b6da\"],[0.4,\"#fde0ef\"],[0.5,\"#f7f7f7\"],[0.6,\"#e6f5d0\"],[0.7,\"#b8e186\"],[0.8,\"#7fbc41\"],[0.9,\"#4d9221\"],[1,\"#276419\"]]},\"xaxis\":{\"gridcolor\":\"white\",\"linecolor\":\"white\",\"ticks\":\"\",\"title\":{\"standoff\":15},\"zerolinecolor\":\"white\",\"automargin\":true,\"zerolinewidth\":2},\"yaxis\":{\"gridcolor\":\"white\",\"linecolor\":\"white\",\"ticks\":\"\",\"title\":{\"standoff\":15},\"zerolinecolor\":\"white\",\"automargin\":true,\"zerolinewidth\":2},\"scene\":{\"xaxis\":{\"backgroundcolor\":\"#E5ECF6\",\"gridcolor\":\"white\",\"linecolor\":\"white\",\"showbackground\":true,\"ticks\":\"\",\"zerolinecolor\":\"white\",\"gridwidth\":2},\"yaxis\":{\"backgroundcolor\":\"#E5ECF6\",\"gridcolor\":\"white\",\"linecolor\":\"white\",\"showbackground\":true,\"ticks\":\"\",\"zerolinecolor\":\"white\",\"gridwidth\":2},\"zaxis\":{\"backgroundcolor\":\"#E5ECF6\",\"gridcolor\":\"white\",\"linecolor\":\"white\",\"showbackground\":true,\"ticks\":\"\",\"zerolinecolor\":\"white\",\"gridwidth\":2}},\"shapedefaults\":{\"line\":{\"color\":\"#2a3f5f\"}},\"annotationdefaults\":{\"arrowcolor\":\"#2a3f5f\",\"arrowhead\":0,\"arrowwidth\":1},\"geo\":{\"bgcolor\":\"white\",\"landcolor\":\"#E5ECF6\",\"subunitcolor\":\"white\",\"showland\":true,\"showlakes\":true,\"lakecolor\":\"white\"},\"title\":{\"x\":0.05},\"mapbox\":{\"style\":\"light\"}}},\"xaxis\":{\"anchor\":\"y\",\"domain\":[0.0,1.0],\"title\":{\"text\":\"Series_Title\"}},\"yaxis\":{\"anchor\":\"x\",\"domain\":[0.0,1.0],\"title\":{\"text\":\"Meta_score\"}},\"legend\":{\"tracegroupgap\":0},\"title\":{\"text\":\"Movie with Meta Score = 100\"},\"barmode\":\"relative\"},                        {\"responsive\": true}                    ).then(function(){\n",
       "                            \n",
       "var gd = document.getElementById('760f43ee-be85-4fc7-93b6-da267a43b975');\n",
       "var x = new MutationObserver(function (mutations, observer) {{\n",
       "        var display = window.getComputedStyle(gd).display;\n",
       "        if (!display || display === 'none') {{\n",
       "            console.log([gd, 'removed!']);\n",
       "            Plotly.purge(gd);\n",
       "            observer.disconnect();\n",
       "        }}\n",
       "}});\n",
       "\n",
       "// Listen for the removal of the full notebook cells\n",
       "var notebookContainer = gd.closest('#notebook-container');\n",
       "if (notebookContainer) {{\n",
       "    x.observe(notebookContainer, {childList: true});\n",
       "}}\n",
       "\n",
       "// Listen for the clearing of the current output cell\n",
       "var outputEl = gd.closest('.output');\n",
       "if (outputEl) {{\n",
       "    x.observe(outputEl, {childList: true});\n",
       "}}\n",
       "\n",
       "                        })                };                });            </script>        </div>"
      ]
     },
     "metadata": {},
     "output_type": "display_data"
    }
   ],
   "source": [
    "# Urutkan DataFrame berdasarkan kolom 'Nilai'\n",
    "Meta_sorted = Data.sort_values(by='Meta_score', ascending=False)\n",
    "\n",
    "# Buat DataFrame baru dari data yang diurutkan\n",
    "Data_meta = Meta_sorted.reset_index(drop=True)\n",
    "\n",
    "Data_meta = Data_meta[Data_meta['Meta_score']==100]\n",
    "fig = px.bar(Data_meta, x='Series_Title', y='Meta_score',title=\"Movie with Meta Score = 100\",color_discrete_sequence=[\"#deb522\"])\n",
    "fig.show()\n"
   ]
  },
  {
   "cell_type": "code",
   "execution_count": 19,
   "id": "29e2d1e3",
   "metadata": {
    "execution": {
     "iopub.execute_input": "2024-07-08T16:21:04.431822Z",
     "iopub.status.busy": "2024-07-08T16:21:04.431411Z",
     "iopub.status.idle": "2024-07-08T16:21:04.508332Z",
     "shell.execute_reply": "2024-07-08T16:21:04.507007Z"
    },
    "papermill": {
     "duration": 0.102534,
     "end_time": "2024-07-08T16:21:04.511328",
     "exception": false,
     "start_time": "2024-07-08T16:21:04.408794",
     "status": "completed"
    },
    "tags": []
   },
   "outputs": [
    {
     "data": {
      "text/html": [
       "<div>                            <div id=\"398fb6cd-666b-4ef1-ab5a-4edb0548772b\" class=\"plotly-graph-div\" style=\"height:525px; width:100%;\"></div>            <script type=\"text/javascript\">                require([\"plotly\"], function(Plotly) {                    window.PLOTLYENV=window.PLOTLYENV || {};                                    if (document.getElementById(\"398fb6cd-666b-4ef1-ab5a-4edb0548772b\")) {                    Plotly.newPlot(                        \"398fb6cd-666b-4ef1-ab5a-4edb0548772b\",                        [{\"alignmentgroup\":\"True\",\"hovertemplate\":\"Series_Title=%{x}\\u003cbr\\u003eGross=%{y}\\u003cextra\\u003e\\u003c\\u002fextra\\u003e\",\"legendgroup\":\"\",\"marker\":{\"color\":\"#deb522\",\"pattern\":{\"shape\":\"\"}},\"name\":\"\",\"offsetgroup\":\"\",\"orientation\":\"v\",\"showlegend\":false,\"textposition\":\"auto\",\"x\":[\"Star Wars: Episode VII - The Force Awakens\",\"Avengers: Endgame\",\"Avatar\",\"Avengers: Infinity War\",\"Titanic\",\"The Avengers\",\"Incredibles 2\",\"The Dark Knight\",\"Rogue One\",\"The Dark Knight Rises\"],\"xaxis\":\"x\",\"y\":[936662225.0,858373000.0,760507625.0,678815482.0,659325379.0,623279547.0,608581744.0,534858444.0,532177324.0,448139099.0],\"yaxis\":\"y\",\"type\":\"bar\"}],                        {\"template\":{\"data\":{\"histogram2dcontour\":[{\"type\":\"histogram2dcontour\",\"colorbar\":{\"outlinewidth\":0,\"ticks\":\"\"},\"colorscale\":[[0.0,\"#0d0887\"],[0.1111111111111111,\"#46039f\"],[0.2222222222222222,\"#7201a8\"],[0.3333333333333333,\"#9c179e\"],[0.4444444444444444,\"#bd3786\"],[0.5555555555555556,\"#d8576b\"],[0.6666666666666666,\"#ed7953\"],[0.7777777777777778,\"#fb9f3a\"],[0.8888888888888888,\"#fdca26\"],[1.0,\"#f0f921\"]]}],\"choropleth\":[{\"type\":\"choropleth\",\"colorbar\":{\"outlinewidth\":0,\"ticks\":\"\"}}],\"histogram2d\":[{\"type\":\"histogram2d\",\"colorbar\":{\"outlinewidth\":0,\"ticks\":\"\"},\"colorscale\":[[0.0,\"#0d0887\"],[0.1111111111111111,\"#46039f\"],[0.2222222222222222,\"#7201a8\"],[0.3333333333333333,\"#9c179e\"],[0.4444444444444444,\"#bd3786\"],[0.5555555555555556,\"#d8576b\"],[0.6666666666666666,\"#ed7953\"],[0.7777777777777778,\"#fb9f3a\"],[0.8888888888888888,\"#fdca26\"],[1.0,\"#f0f921\"]]}],\"heatmap\":[{\"type\":\"heatmap\",\"colorbar\":{\"outlinewidth\":0,\"ticks\":\"\"},\"colorscale\":[[0.0,\"#0d0887\"],[0.1111111111111111,\"#46039f\"],[0.2222222222222222,\"#7201a8\"],[0.3333333333333333,\"#9c179e\"],[0.4444444444444444,\"#bd3786\"],[0.5555555555555556,\"#d8576b\"],[0.6666666666666666,\"#ed7953\"],[0.7777777777777778,\"#fb9f3a\"],[0.8888888888888888,\"#fdca26\"],[1.0,\"#f0f921\"]]}],\"heatmapgl\":[{\"type\":\"heatmapgl\",\"colorbar\":{\"outlinewidth\":0,\"ticks\":\"\"},\"colorscale\":[[0.0,\"#0d0887\"],[0.1111111111111111,\"#46039f\"],[0.2222222222222222,\"#7201a8\"],[0.3333333333333333,\"#9c179e\"],[0.4444444444444444,\"#bd3786\"],[0.5555555555555556,\"#d8576b\"],[0.6666666666666666,\"#ed7953\"],[0.7777777777777778,\"#fb9f3a\"],[0.8888888888888888,\"#fdca26\"],[1.0,\"#f0f921\"]]}],\"contourcarpet\":[{\"type\":\"contourcarpet\",\"colorbar\":{\"outlinewidth\":0,\"ticks\":\"\"}}],\"contour\":[{\"type\":\"contour\",\"colorbar\":{\"outlinewidth\":0,\"ticks\":\"\"},\"colorscale\":[[0.0,\"#0d0887\"],[0.1111111111111111,\"#46039f\"],[0.2222222222222222,\"#7201a8\"],[0.3333333333333333,\"#9c179e\"],[0.4444444444444444,\"#bd3786\"],[0.5555555555555556,\"#d8576b\"],[0.6666666666666666,\"#ed7953\"],[0.7777777777777778,\"#fb9f3a\"],[0.8888888888888888,\"#fdca26\"],[1.0,\"#f0f921\"]]}],\"surface\":[{\"type\":\"surface\",\"colorbar\":{\"outlinewidth\":0,\"ticks\":\"\"},\"colorscale\":[[0.0,\"#0d0887\"],[0.1111111111111111,\"#46039f\"],[0.2222222222222222,\"#7201a8\"],[0.3333333333333333,\"#9c179e\"],[0.4444444444444444,\"#bd3786\"],[0.5555555555555556,\"#d8576b\"],[0.6666666666666666,\"#ed7953\"],[0.7777777777777778,\"#fb9f3a\"],[0.8888888888888888,\"#fdca26\"],[1.0,\"#f0f921\"]]}],\"mesh3d\":[{\"type\":\"mesh3d\",\"colorbar\":{\"outlinewidth\":0,\"ticks\":\"\"}}],\"scatter\":[{\"fillpattern\":{\"fillmode\":\"overlay\",\"size\":10,\"solidity\":0.2},\"type\":\"scatter\"}],\"parcoords\":[{\"type\":\"parcoords\",\"line\":{\"colorbar\":{\"outlinewidth\":0,\"ticks\":\"\"}}}],\"scatterpolargl\":[{\"type\":\"scatterpolargl\",\"marker\":{\"colorbar\":{\"outlinewidth\":0,\"ticks\":\"\"}}}],\"bar\":[{\"error_x\":{\"color\":\"#2a3f5f\"},\"error_y\":{\"color\":\"#2a3f5f\"},\"marker\":{\"line\":{\"color\":\"#E5ECF6\",\"width\":0.5},\"pattern\":{\"fillmode\":\"overlay\",\"size\":10,\"solidity\":0.2}},\"type\":\"bar\"}],\"scattergeo\":[{\"type\":\"scattergeo\",\"marker\":{\"colorbar\":{\"outlinewidth\":0,\"ticks\":\"\"}}}],\"scatterpolar\":[{\"type\":\"scatterpolar\",\"marker\":{\"colorbar\":{\"outlinewidth\":0,\"ticks\":\"\"}}}],\"histogram\":[{\"marker\":{\"pattern\":{\"fillmode\":\"overlay\",\"size\":10,\"solidity\":0.2}},\"type\":\"histogram\"}],\"scattergl\":[{\"type\":\"scattergl\",\"marker\":{\"colorbar\":{\"outlinewidth\":0,\"ticks\":\"\"}}}],\"scatter3d\":[{\"type\":\"scatter3d\",\"line\":{\"colorbar\":{\"outlinewidth\":0,\"ticks\":\"\"}},\"marker\":{\"colorbar\":{\"outlinewidth\":0,\"ticks\":\"\"}}}],\"scattermapbox\":[{\"type\":\"scattermapbox\",\"marker\":{\"colorbar\":{\"outlinewidth\":0,\"ticks\":\"\"}}}],\"scatterternary\":[{\"type\":\"scatterternary\",\"marker\":{\"colorbar\":{\"outlinewidth\":0,\"ticks\":\"\"}}}],\"scattercarpet\":[{\"type\":\"scattercarpet\",\"marker\":{\"colorbar\":{\"outlinewidth\":0,\"ticks\":\"\"}}}],\"carpet\":[{\"aaxis\":{\"endlinecolor\":\"#2a3f5f\",\"gridcolor\":\"white\",\"linecolor\":\"white\",\"minorgridcolor\":\"white\",\"startlinecolor\":\"#2a3f5f\"},\"baxis\":{\"endlinecolor\":\"#2a3f5f\",\"gridcolor\":\"white\",\"linecolor\":\"white\",\"minorgridcolor\":\"white\",\"startlinecolor\":\"#2a3f5f\"},\"type\":\"carpet\"}],\"table\":[{\"cells\":{\"fill\":{\"color\":\"#EBF0F8\"},\"line\":{\"color\":\"white\"}},\"header\":{\"fill\":{\"color\":\"#C8D4E3\"},\"line\":{\"color\":\"white\"}},\"type\":\"table\"}],\"barpolar\":[{\"marker\":{\"line\":{\"color\":\"#E5ECF6\",\"width\":0.5},\"pattern\":{\"fillmode\":\"overlay\",\"size\":10,\"solidity\":0.2}},\"type\":\"barpolar\"}],\"pie\":[{\"automargin\":true,\"type\":\"pie\"}]},\"layout\":{\"autotypenumbers\":\"strict\",\"colorway\":[\"#636efa\",\"#EF553B\",\"#00cc96\",\"#ab63fa\",\"#FFA15A\",\"#19d3f3\",\"#FF6692\",\"#B6E880\",\"#FF97FF\",\"#FECB52\"],\"font\":{\"color\":\"#2a3f5f\"},\"hovermode\":\"closest\",\"hoverlabel\":{\"align\":\"left\"},\"paper_bgcolor\":\"white\",\"plot_bgcolor\":\"#E5ECF6\",\"polar\":{\"bgcolor\":\"#E5ECF6\",\"angularaxis\":{\"gridcolor\":\"white\",\"linecolor\":\"white\",\"ticks\":\"\"},\"radialaxis\":{\"gridcolor\":\"white\",\"linecolor\":\"white\",\"ticks\":\"\"}},\"ternary\":{\"bgcolor\":\"#E5ECF6\",\"aaxis\":{\"gridcolor\":\"white\",\"linecolor\":\"white\",\"ticks\":\"\"},\"baxis\":{\"gridcolor\":\"white\",\"linecolor\":\"white\",\"ticks\":\"\"},\"caxis\":{\"gridcolor\":\"white\",\"linecolor\":\"white\",\"ticks\":\"\"}},\"coloraxis\":{\"colorbar\":{\"outlinewidth\":0,\"ticks\":\"\"}},\"colorscale\":{\"sequential\":[[0.0,\"#0d0887\"],[0.1111111111111111,\"#46039f\"],[0.2222222222222222,\"#7201a8\"],[0.3333333333333333,\"#9c179e\"],[0.4444444444444444,\"#bd3786\"],[0.5555555555555556,\"#d8576b\"],[0.6666666666666666,\"#ed7953\"],[0.7777777777777778,\"#fb9f3a\"],[0.8888888888888888,\"#fdca26\"],[1.0,\"#f0f921\"]],\"sequentialminus\":[[0.0,\"#0d0887\"],[0.1111111111111111,\"#46039f\"],[0.2222222222222222,\"#7201a8\"],[0.3333333333333333,\"#9c179e\"],[0.4444444444444444,\"#bd3786\"],[0.5555555555555556,\"#d8576b\"],[0.6666666666666666,\"#ed7953\"],[0.7777777777777778,\"#fb9f3a\"],[0.8888888888888888,\"#fdca26\"],[1.0,\"#f0f921\"]],\"diverging\":[[0,\"#8e0152\"],[0.1,\"#c51b7d\"],[0.2,\"#de77ae\"],[0.3,\"#f1b6da\"],[0.4,\"#fde0ef\"],[0.5,\"#f7f7f7\"],[0.6,\"#e6f5d0\"],[0.7,\"#b8e186\"],[0.8,\"#7fbc41\"],[0.9,\"#4d9221\"],[1,\"#276419\"]]},\"xaxis\":{\"gridcolor\":\"white\",\"linecolor\":\"white\",\"ticks\":\"\",\"title\":{\"standoff\":15},\"zerolinecolor\":\"white\",\"automargin\":true,\"zerolinewidth\":2},\"yaxis\":{\"gridcolor\":\"white\",\"linecolor\":\"white\",\"ticks\":\"\",\"title\":{\"standoff\":15},\"zerolinecolor\":\"white\",\"automargin\":true,\"zerolinewidth\":2},\"scene\":{\"xaxis\":{\"backgroundcolor\":\"#E5ECF6\",\"gridcolor\":\"white\",\"linecolor\":\"white\",\"showbackground\":true,\"ticks\":\"\",\"zerolinecolor\":\"white\",\"gridwidth\":2},\"yaxis\":{\"backgroundcolor\":\"#E5ECF6\",\"gridcolor\":\"white\",\"linecolor\":\"white\",\"showbackground\":true,\"ticks\":\"\",\"zerolinecolor\":\"white\",\"gridwidth\":2},\"zaxis\":{\"backgroundcolor\":\"#E5ECF6\",\"gridcolor\":\"white\",\"linecolor\":\"white\",\"showbackground\":true,\"ticks\":\"\",\"zerolinecolor\":\"white\",\"gridwidth\":2}},\"shapedefaults\":{\"line\":{\"color\":\"#2a3f5f\"}},\"annotationdefaults\":{\"arrowcolor\":\"#2a3f5f\",\"arrowhead\":0,\"arrowwidth\":1},\"geo\":{\"bgcolor\":\"white\",\"landcolor\":\"#E5ECF6\",\"subunitcolor\":\"white\",\"showland\":true,\"showlakes\":true,\"lakecolor\":\"white\"},\"title\":{\"x\":0.05},\"mapbox\":{\"style\":\"light\"}}},\"xaxis\":{\"anchor\":\"y\",\"domain\":[0.0,1.0],\"title\":{\"text\":\"Series_Title\"}},\"yaxis\":{\"anchor\":\"x\",\"domain\":[0.0,1.0],\"title\":{\"text\":\"Gross\"}},\"legend\":{\"tracegroupgap\":0},\"title\":{\"text\":\"Top 10 Movie by Gross\"},\"barmode\":\"relative\"},                        {\"responsive\": true}                    ).then(function(){\n",
       "                            \n",
       "var gd = document.getElementById('398fb6cd-666b-4ef1-ab5a-4edb0548772b');\n",
       "var x = new MutationObserver(function (mutations, observer) {{\n",
       "        var display = window.getComputedStyle(gd).display;\n",
       "        if (!display || display === 'none') {{\n",
       "            console.log([gd, 'removed!']);\n",
       "            Plotly.purge(gd);\n",
       "            observer.disconnect();\n",
       "        }}\n",
       "}});\n",
       "\n",
       "// Listen for the removal of the full notebook cells\n",
       "var notebookContainer = gd.closest('#notebook-container');\n",
       "if (notebookContainer) {{\n",
       "    x.observe(notebookContainer, {childList: true});\n",
       "}}\n",
       "\n",
       "// Listen for the clearing of the current output cell\n",
       "var outputEl = gd.closest('.output');\n",
       "if (outputEl) {{\n",
       "    x.observe(outputEl, {childList: true});\n",
       "}}\n",
       "\n",
       "                        })                };                });            </script>        </div>"
      ]
     },
     "metadata": {},
     "output_type": "display_data"
    }
   ],
   "source": [
    "# Urutkan DataFrame berdasarkan kolom 'Nilai'\n",
    "Gross_sorted = Data.sort_values(by='Gross', ascending=False)\n",
    "\n",
    "# Buat DataFrame baru dari data yang diurutkan\n",
    "Data_gross = Gross_sorted.reset_index(drop=True)\n",
    "\n",
    "Data_gross = Data_gross.loc[0:9,]\n",
    "fig = px.bar(Data_gross, x='Series_Title', y='Gross',title=\"Top 10 Movie by Gross\",color_discrete_sequence=[\"#deb522\"])\n",
    "fig.show()"
   ]
  },
  {
   "cell_type": "code",
   "execution_count": 20,
   "id": "1a1de841",
   "metadata": {
    "execution": {
     "iopub.execute_input": "2024-07-08T16:21:04.556686Z",
     "iopub.status.busy": "2024-07-08T16:21:04.556315Z",
     "iopub.status.idle": "2024-07-08T16:21:05.006373Z",
     "shell.execute_reply": "2024-07-08T16:21:05.005115Z"
    },
    "papermill": {
     "duration": 0.475959,
     "end_time": "2024-07-08T16:21:05.009075",
     "exception": false,
     "start_time": "2024-07-08T16:21:04.533116",
     "status": "completed"
    },
    "tags": []
   },
   "outputs": [
    {
     "data": {
      "image/png": "[encoded data removed]",
      "text/plain": [
       "<Figure size 640x480 with 2 Axes>"
      ]
     },
     "metadata": {},
     "output_type": "display_data"
    }
   ],
   "source": [
    "numeric_df = Data.select_dtypes(include=['int64', 'float64'])\n",
    "# plotting correlation heatmap \n",
    "dataplot = sns.heatmap(numeric_df.corr(), cmap=\"YlGnBu\", annot=True) \n",
    "  \n",
    "# displaying heatmap \n",
    "plt.show() "
   ]
  },
  {
   "cell_type": "markdown",
   "id": "03834639",
   "metadata": {
    "papermill": {
     "duration": 0.023518,
     "end_time": "2024-07-08T16:21:05.055642",
     "exception": false,
     "start_time": "2024-07-08T16:21:05.032124",
     "status": "completed"
    },
    "tags": []
   },
   "source": [
    "# Making Recommender System"
   ]
  },
  {
   "cell_type": "markdown",
   "id": "9ab288ff",
   "metadata": {
    "papermill": {
     "duration": 0.022285,
     "end_time": "2024-07-08T16:21:05.101120",
     "exception": false,
     "start_time": "2024-07-08T16:21:05.078835",
     "status": "completed"
    },
    "tags": []
   },
   "source": [
    "## Content Based Filtering"
   ]
  },
  {
   "cell_type": "code",
   "execution_count": 21,
   "id": "20c0cd1b",
   "metadata": {
    "execution": {
     "iopub.execute_input": "2024-07-08T16:21:05.150482Z",
     "iopub.status.busy": "2024-07-08T16:21:05.150028Z",
     "iopub.status.idle": "2024-07-08T16:21:05.159873Z",
     "shell.execute_reply": "2024-07-08T16:21:05.158528Z"
    },
    "papermill": {
     "duration": 0.037478,
     "end_time": "2024-07-08T16:21:05.162580",
     "exception": false,
     "start_time": "2024-07-08T16:21:05.125102",
     "status": "completed"
    },
    "tags": []
   },
   "outputs": [
    {
     "data": {
      "text/plain": [
       "0    Two imprisoned men bond over a number of years...\n",
       "1    An organized crime dynasty's aging patriarch t...\n",
       "2    When the menace known as the Joker wreaks havo...\n",
       "3    The early life and career of Vito Corleone in ...\n",
       "4    A jury holdout attempts to prevent a miscarria...\n",
       "Name: Overview, dtype: object"
      ]
     },
     "execution_count": 21,
     "metadata": {},
     "output_type": "execute_result"
    }
   ],
   "source": [
    "Data['Overview'].head(5)"
   ]
  },
  {
   "cell_type": "code",
   "execution_count": 22,
   "id": "3e9cf574",
   "metadata": {
    "execution": {
     "iopub.execute_input": "2024-07-08T16:21:05.281083Z",
     "iopub.status.busy": "2024-07-08T16:21:05.280674Z",
     "iopub.status.idle": "2024-07-08T16:21:05.523798Z",
     "shell.execute_reply": "2024-07-08T16:21:05.522725Z"
    },
    "papermill": {
     "duration": 0.270066,
     "end_time": "2024-07-08T16:21:05.526356",
     "exception": false,
     "start_time": "2024-07-08T16:21:05.256290",
     "status": "completed"
    },
    "tags": []
   },
   "outputs": [
    {
     "data": {
      "text/plain": [
       "(714, 4437)"
      ]
     },
     "execution_count": 22,
     "metadata": {},
     "output_type": "execute_result"
    }
   ],
   "source": [
    "#Import TfIdfVectorizer from scikit-learn\n",
    "from sklearn.feature_extraction.text import TfidfVectorizer\n",
    "\n",
    "#Define a TF-IDF Vectorizer Object. Remove all english stop words such as 'the', 'a'\n",
    "tfidf = TfidfVectorizer(stop_words='english')\n",
    "\n",
    "#Replace NaN with an empty string\n",
    "Data['Overview'] = Data['Overview'].fillna('')\n",
    "\n",
    "#Construct the required TF-IDF matrix by fitting and transforming the data\n",
    "tfidf_matrix = tfidf.fit_transform(Data['Overview'])\n",
    "\n",
    "#Output the shape of tfidf_matrix\n",
    "tfidf_matrix.shape"
   ]
  },
  {
   "cell_type": "code",
   "execution_count": 23,
   "id": "fa3734c8",
   "metadata": {
    "execution": {
     "iopub.execute_input": "2024-07-08T16:21:05.574120Z",
     "iopub.status.busy": "2024-07-08T16:21:05.573681Z",
     "iopub.status.idle": "2024-07-08T16:21:05.691651Z",
     "shell.execute_reply": "2024-07-08T16:21:05.690224Z"
    },
    "papermill": {
     "duration": 0.146126,
     "end_time": "2024-07-08T16:21:05.695101",
     "exception": false,
     "start_time": "2024-07-08T16:21:05.548975",
     "status": "completed"
    },
    "tags": []
   },
   "outputs": [],
   "source": [
    "# Import linear_kernel\n",
    "from sklearn.metrics.pairwise import linear_kernel\n",
    "\n",
    "# Compute the cosine similarity matrix\n",
    "cosine_sim = linear_kernel(tfidf_matrix, tfidf_matrix)"
   ]
  },
  {
   "cell_type": "code",
   "execution_count": 24,
   "id": "cb8abdb7",
   "metadata": {
    "execution": {
     "iopub.execute_input": "2024-07-08T16:21:05.745374Z",
     "iopub.status.busy": "2024-07-08T16:21:05.744938Z",
     "iopub.status.idle": "2024-07-08T16:21:05.751713Z",
     "shell.execute_reply": "2024-07-08T16:21:05.750531Z"
    },
    "papermill": {
     "duration": 0.035105,
     "end_time": "2024-07-08T16:21:05.754274",
     "exception": false,
     "start_time": "2024-07-08T16:21:05.719169",
     "status": "completed"
    },
    "tags": []
   },
   "outputs": [],
   "source": [
    "#Construct a reverse map of indices and movie titles\n",
    "indices = pd.Series(Data.index, index=Data['Series_Title']).drop_duplicates()"
   ]
  },
  {
   "cell_type": "code",
   "execution_count": 25,
   "id": "63ce2c25",
   "metadata": {
    "execution": {
     "iopub.execute_input": "2024-07-08T16:21:05.801737Z",
     "iopub.status.busy": "2024-07-08T16:21:05.801333Z",
     "iopub.status.idle": "2024-07-08T16:21:05.809041Z",
     "shell.execute_reply": "2024-07-08T16:21:05.807822Z"
    },
    "papermill": {
     "duration": 0.034653,
     "end_time": "2024-07-08T16:21:05.811653",
     "exception": false,
     "start_time": "2024-07-08T16:21:05.777000",
     "status": "completed"
    },
    "tags": []
   },
   "outputs": [],
   "source": [
    "# Function that takes in movie title as input and outputs most similar movies\n",
    "def get_recommendations(Series_Title, cosine_sim=cosine_sim):\n",
    "    # Get the index of the movie that matches the title\n",
    "    idx = indices[Series_Title]\n",
    "\n",
    "    # Get the pairwsie similarity scores of all movies with that movie\n",
    "    sim_scores = list(enumerate(cosine_sim[idx]))\n",
    "\n",
    "    # Sort the movies based on the similarity scores\n",
    "    sim_scores = sorted(sim_scores, key=lambda x: x[1], reverse=True)\n",
    "\n",
    "    # Get the scores of the 10 most similar movies\n",
    "    sim_scores = sim_scores[1:11]\n",
    "\n",
    "    # Get the movie indices\n",
    "    movie_indices = [i[0] for i in sim_scores]\n",
    "\n",
    "    # Return the top 10 most similar movies\n",
    "    return Data['Series_Title'].iloc[movie_indices]"
   ]
  },
  {
   "cell_type": "code",
   "execution_count": 26,
   "id": "0030daad",
   "metadata": {
    "execution": {
     "iopub.execute_input": "2024-07-08T16:21:05.859092Z",
     "iopub.status.busy": "2024-07-08T16:21:05.858697Z",
     "iopub.status.idle": "2024-07-08T16:21:05.869395Z",
     "shell.execute_reply": "2024-07-08T16:21:05.867775Z"
    },
    "papermill": {
     "duration": 0.0386,
     "end_time": "2024-07-08T16:21:05.872716",
     "exception": false,
     "start_time": "2024-07-08T16:21:05.834116",
     "status": "completed"
    },
    "tags": []
   },
   "outputs": [
    {
     "data": {
      "text/plain": [
       "463                             Knives Out\n",
       "974                The Godfather: Part III\n",
       "739                               Nebraska\n",
       "628    The Curious Case of Benjamin Button\n",
       "3                   The Godfather: Part II\n",
       "543                         The Wild Bunch\n",
       "618      The Hobbit: An Unexpected Journey\n",
       "307                        Ace in the Hole\n",
       "26                        La vita Ã¨ bella\n",
       "841                        Ordinary People\n",
       "Name: Series_Title, dtype: object"
      ]
     },
     "execution_count": 26,
     "metadata": {},
     "output_type": "execute_result"
    }
   ],
   "source": [
    "get_recommendations('The Godfather')"
   ]
  },
  {
   "cell_type": "code",
   "execution_count": 27,
   "id": "55556c12",
   "metadata": {
    "execution": {
     "iopub.execute_input": "2024-07-08T16:21:05.922629Z",
     "iopub.status.busy": "2024-07-08T16:21:05.922027Z",
     "iopub.status.idle": "2024-07-08T16:21:05.932896Z",
     "shell.execute_reply": "2024-07-08T16:21:05.931681Z"
    },
    "papermill": {
     "duration": 0.039296,
     "end_time": "2024-07-08T16:21:05.935796",
     "exception": false,
     "start_time": "2024-07-08T16:21:05.896500",
     "status": "completed"
    },
    "tags": []
   },
   "outputs": [
    {
     "data": {
      "text/plain": [
       "378       The Incredibles\n",
       "948            The Others\n",
       "973            Home Alone\n",
       "588             Le passÃ©\n",
       "896    Hell or High Water\n",
       "956                 Mulan\n",
       "100     Bacheha-Ye aseman\n",
       "566             King Kong\n",
       "572            Forushande\n",
       "631     Pride & Prejudice\n",
       "Name: Series_Title, dtype: object"
      ]
     },
     "execution_count": 27,
     "metadata": {},
     "output_type": "execute_result"
    }
   ],
   "source": [
    "get_recommendations('The Hobbit: An Unexpected Journey')"
   ]
  },
  {
   "cell_type": "code",
   "execution_count": 28,
   "id": "ef5b71f5",
   "metadata": {
    "execution": {
     "iopub.execute_input": "2024-07-08T16:21:05.987557Z",
     "iopub.status.busy": "2024-07-08T16:21:05.987093Z",
     "iopub.status.idle": "2024-07-08T16:21:06.005427Z",
     "shell.execute_reply": "2024-07-08T16:21:06.003758Z"
    },
    "papermill": {
     "duration": 0.048442,
     "end_time": "2024-07-08T16:21:06.008289",
     "exception": false,
     "start_time": "2024-07-08T16:21:05.959847",
     "status": "completed"
    },
    "tags": []
   },
   "outputs": [
    {
     "name": "stdout",
     "output_type": "stream",
     "text": [
      "<class 'pandas.core.frame.DataFrame'>\n",
      "Index: 714 entries, 0 to 997\n",
      "Data columns (total 16 columns):\n",
      " #   Column         Non-Null Count  Dtype  \n",
      "---  ------         --------------  -----  \n",
      " 0   Poster_Link    714 non-null    object \n",
      " 1   Series_Title   714 non-null    object \n",
      " 2   Released_Year  714 non-null    int64  \n",
      " 3   Certificate    714 non-null    object \n",
      " 4   Runtime        714 non-null    int64  \n",
      " 5   Genre          714 non-null    object \n",
      " 6   IMDB_Rating    714 non-null    float64\n",
      " 7   Overview       714 non-null    object \n",
      " 8   Meta_score     714 non-null    float64\n",
      " 9   Director       714 non-null    object \n",
      " 10  Star1          714 non-null    object \n",
      " 11  Star2          714 non-null    object \n",
      " 12  Star3          714 non-null    object \n",
      " 13  Star4          714 non-null    object \n",
      " 14  No_of_Votes    714 non-null    int64  \n",
      " 15  Gross          714 non-null    float64\n",
      "dtypes: float64(3), int64(3), object(10)\n",
      "memory usage: 111.0+ KB\n"
     ]
    }
   ],
   "source": [
    "Data.info()"
   ]
  },
  {
   "cell_type": "code",
   "execution_count": 29,
   "id": "b7552d12",
   "metadata": {
    "execution": {
     "iopub.execute_input": "2024-07-08T16:21:06.057394Z",
     "iopub.status.busy": "2024-07-08T16:21:06.056969Z",
     "iopub.status.idle": "2024-07-08T16:21:06.073007Z",
     "shell.execute_reply": "2024-07-08T16:21:06.071902Z"
    },
    "papermill": {
     "duration": 0.043602,
     "end_time": "2024-07-08T16:21:06.075454",
     "exception": false,
     "start_time": "2024-07-08T16:21:06.031852",
     "status": "completed"
    },
    "tags": []
   },
   "outputs": [
    {
     "data": {
      "text/html": [
       "<div>\n",
       "<style scoped>\n",
       "    .dataframe tbody tr th:only-of-type {\n",
       "        vertical-align: middle;\n",
       "    }\n",
       "\n",
       "    .dataframe tbody tr th {\n",
       "        vertical-align: top;\n",
       "    }\n",
       "\n",
       "    .dataframe thead th {\n",
       "        text-align: right;\n",
       "    }\n",
       "</style>\n",
       "<table border=\"1\" class=\"dataframe\">\n",
       "  <thead>\n",
       "    <tr style=\"text-align: right;\">\n",
       "      <th></th>\n",
       "      <th>Star1</th>\n",
       "      <th>Star2</th>\n",
       "      <th>Star3</th>\n",
       "      <th>Star4</th>\n",
       "      <th>Director</th>\n",
       "      <th>Certificate</th>\n",
       "      <th>Genre</th>\n",
       "    </tr>\n",
       "  </thead>\n",
       "  <tbody>\n",
       "    <tr>\n",
       "      <th>0</th>\n",
       "      <td>Tim Robbins</td>\n",
       "      <td>Morgan Freeman</td>\n",
       "      <td>Bob Gunton</td>\n",
       "      <td>William Sadler</td>\n",
       "      <td>Frank Darabont</td>\n",
       "      <td>A</td>\n",
       "      <td>Drama</td>\n",
       "    </tr>\n",
       "    <tr>\n",
       "      <th>1</th>\n",
       "      <td>Marlon Brando</td>\n",
       "      <td>Al Pacino</td>\n",
       "      <td>James Caan</td>\n",
       "      <td>Diane Keaton</td>\n",
       "      <td>Francis Ford Coppola</td>\n",
       "      <td>A</td>\n",
       "      <td>Crime, Drama</td>\n",
       "    </tr>\n",
       "    <tr>\n",
       "      <th>2</th>\n",
       "      <td>Christian Bale</td>\n",
       "      <td>Heath Ledger</td>\n",
       "      <td>Aaron Eckhart</td>\n",
       "      <td>Michael Caine</td>\n",
       "      <td>Christopher Nolan</td>\n",
       "      <td>UA</td>\n",
       "      <td>Action, Crime, Drama</td>\n",
       "    </tr>\n",
       "  </tbody>\n",
       "</table>\n",
       "</div>"
      ],
      "text/plain": [
       "            Star1           Star2          Star3           Star4  \\\n",
       "0     Tim Robbins  Morgan Freeman     Bob Gunton  William Sadler   \n",
       "1   Marlon Brando       Al Pacino     James Caan    Diane Keaton   \n",
       "2  Christian Bale    Heath Ledger  Aaron Eckhart   Michael Caine   \n",
       "\n",
       "               Director Certificate                 Genre  \n",
       "0        Frank Darabont           A                 Drama  \n",
       "1  Francis Ford Coppola           A          Crime, Drama  \n",
       "2     Christopher Nolan          UA  Action, Crime, Drama  "
      ]
     },
     "execution_count": 29,
     "metadata": {},
     "output_type": "execute_result"
    }
   ],
   "source": [
    "# Print the new features of the first 3 films\n",
    "Data[['Star1','Star2','Star3','Star4', 'Director', 'Certificate', 'Genre']].head(3)"
   ]
  },
  {
   "cell_type": "code",
   "execution_count": 30,
   "id": "595b7dbc",
   "metadata": {
    "execution": {
     "iopub.execute_input": "2024-07-08T16:21:06.126121Z",
     "iopub.status.busy": "2024-07-08T16:21:06.124981Z",
     "iopub.status.idle": "2024-07-08T16:21:06.132502Z",
     "shell.execute_reply": "2024-07-08T16:21:06.131003Z"
    },
    "papermill": {
     "duration": 0.036949,
     "end_time": "2024-07-08T16:21:06.136139",
     "exception": false,
     "start_time": "2024-07-08T16:21:06.099190",
     "status": "completed"
    },
    "tags": []
   },
   "outputs": [],
   "source": [
    "# Function to convert all strings to lower case and strip names of spaces\n",
    "def clean_data(x):\n",
    "    if isinstance(x, list):\n",
    "        return [str.lower(i.replace(\" \", \"\")) for i in x]\n",
    "    else:\n",
    "        #Check if director exists. If not, return empty string\n",
    "        if isinstance(x, str):\n",
    "            return str.lower(x.replace(\" \", \"\"))\n",
    "        else:\n",
    "            return ''"
   ]
  },
  {
   "cell_type": "code",
   "execution_count": 31,
   "id": "ea987ebd",
   "metadata": {
    "execution": {
     "iopub.execute_input": "2024-07-08T16:21:06.186975Z",
     "iopub.status.busy": "2024-07-08T16:21:06.186526Z",
     "iopub.status.idle": "2024-07-08T16:21:06.204237Z",
     "shell.execute_reply": "2024-07-08T16:21:06.202193Z"
    },
    "papermill": {
     "duration": 0.046418,
     "end_time": "2024-07-08T16:21:06.207344",
     "exception": false,
     "start_time": "2024-07-08T16:21:06.160926",
     "status": "completed"
    },
    "tags": []
   },
   "outputs": [],
   "source": [
    "# Apply clean_data function to your features.\n",
    "features = ['Star1','Star2','Star3','Star4', 'Director', 'Certificate', 'Genre']\n",
    "\n",
    "for feature in features:\n",
    "    Data[feature] = Data[feature].apply(clean_data)"
   ]
  },
  {
   "cell_type": "code",
   "execution_count": 32,
   "id": "9bbb7829",
   "metadata": {
    "execution": {
     "iopub.execute_input": "2024-07-08T16:21:06.261437Z",
     "iopub.status.busy": "2024-07-08T16:21:06.260936Z",
     "iopub.status.idle": "2024-07-08T16:21:06.306767Z",
     "shell.execute_reply": "2024-07-08T16:21:06.305523Z"
    },
    "papermill": {
     "duration": 0.075994,
     "end_time": "2024-07-08T16:21:06.309567",
     "exception": false,
     "start_time": "2024-07-08T16:21:06.233573",
     "status": "completed"
    },
    "tags": []
   },
   "outputs": [],
   "source": [
    "def create_soup(x):\n",
    "    return x['Star1'] + ' ' + x['Star2'] + ' ' +x['Star3'] + ' ' +x['Star4'] + ' ' + x['Director'] + ' ' + x['Certificate'] + ' ' + ' '.join(x['Genre'])\n",
    "Data['soup'] = Data.apply(create_soup, axis=1)"
   ]
  },
  {
   "cell_type": "code",
   "execution_count": 33,
   "id": "87793788",
   "metadata": {
    "execution": {
     "iopub.execute_input": "2024-07-08T16:21:06.360359Z",
     "iopub.status.busy": "2024-07-08T16:21:06.359907Z",
     "iopub.status.idle": "2024-07-08T16:21:06.388081Z",
     "shell.execute_reply": "2024-07-08T16:21:06.386865Z"
    },
    "papermill": {
     "duration": 0.056452,
     "end_time": "2024-07-08T16:21:06.390541",
     "exception": false,
     "start_time": "2024-07-08T16:21:06.334089",
     "status": "completed"
    },
    "tags": []
   },
   "outputs": [
    {
     "data": {
      "text/html": [
       "<div>\n",
       "<style scoped>\n",
       "    .dataframe tbody tr th:only-of-type {\n",
       "        vertical-align: middle;\n",
       "    }\n",
       "\n",
       "    .dataframe tbody tr th {\n",
       "        vertical-align: top;\n",
       "    }\n",
       "\n",
       "    .dataframe thead th {\n",
       "        text-align: right;\n",
       "    }\n",
       "</style>\n",
       "<table border=\"1\" class=\"dataframe\">\n",
       "  <thead>\n",
       "    <tr style=\"text-align: right;\">\n",
       "      <th></th>\n",
       "      <th>Poster_Link</th>\n",
       "      <th>Series_Title</th>\n",
       "      <th>Released_Year</th>\n",
       "      <th>Certificate</th>\n",
       "      <th>Runtime</th>\n",
       "      <th>Genre</th>\n",
       "      <th>IMDB_Rating</th>\n",
       "      <th>Overview</th>\n",
       "      <th>Meta_score</th>\n",
       "      <th>Director</th>\n",
       "      <th>Star1</th>\n",
       "      <th>Star2</th>\n",
       "      <th>Star3</th>\n",
       "      <th>Star4</th>\n",
       "      <th>No_of_Votes</th>\n",
       "      <th>Gross</th>\n",
       "      <th>soup</th>\n",
       "    </tr>\n",
       "  </thead>\n",
       "  <tbody>\n",
       "    <tr>\n",
       "      <th>0</th>\n",
       "      <td>https://m.media-amazon.com/images/M/MV5BMDFkYT...</td>\n",
       "      <td>The Shawshank Redemption</td>\n",
       "      <td>1994</td>\n",
       "      <td>a</td>\n",
       "      <td>142</td>\n",
       "      <td>drama</td>\n",
       "      <td>9.3</td>\n",
       "      <td>Two imprisoned men bond over a number of years...</td>\n",
       "      <td>80.0</td>\n",
       "      <td>frankdarabont</td>\n",
       "      <td>timrobbins</td>\n",
       "      <td>morganfreeman</td>\n",
       "      <td>bobgunton</td>\n",
       "      <td>williamsadler</td>\n",
       "      <td>2343110</td>\n",
       "      <td>28341469.0</td>\n",
       "      <td>timrobbins morganfreeman bobgunton williamsadl...</td>\n",
       "    </tr>\n",
       "    <tr>\n",
       "      <th>1</th>\n",
       "      <td>https://m.media-amazon.com/images/M/MV5BM2MyNj...</td>\n",
       "      <td>The Godfather</td>\n",
       "      <td>1972</td>\n",
       "      <td>a</td>\n",
       "      <td>175</td>\n",
       "      <td>crime,drama</td>\n",
       "      <td>9.2</td>\n",
       "      <td>An organized crime dynasty's aging patriarch t...</td>\n",
       "      <td>100.0</td>\n",
       "      <td>francisfordcoppola</td>\n",
       "      <td>marlonbrando</td>\n",
       "      <td>alpacino</td>\n",
       "      <td>jamescaan</td>\n",
       "      <td>dianekeaton</td>\n",
       "      <td>1620367</td>\n",
       "      <td>134966411.0</td>\n",
       "      <td>marlonbrando alpacino jamescaan dianekeaton fr...</td>\n",
       "    </tr>\n",
       "    <tr>\n",
       "      <th>2</th>\n",
       "      <td>https://m.media-amazon.com/images/M/MV5BMTMxNT...</td>\n",
       "      <td>The Dark Knight</td>\n",
       "      <td>2008</td>\n",
       "      <td>ua</td>\n",
       "      <td>152</td>\n",
       "      <td>action,crime,drama</td>\n",
       "      <td>9.0</td>\n",
       "      <td>When the menace known as the Joker wreaks havo...</td>\n",
       "      <td>84.0</td>\n",
       "      <td>christophernolan</td>\n",
       "      <td>christianbale</td>\n",
       "      <td>heathledger</td>\n",
       "      <td>aaroneckhart</td>\n",
       "      <td>michaelcaine</td>\n",
       "      <td>2303232</td>\n",
       "      <td>534858444.0</td>\n",
       "      <td>christianbale heathledger aaroneckhart michael...</td>\n",
       "    </tr>\n",
       "    <tr>\n",
       "      <th>3</th>\n",
       "      <td>https://m.media-amazon.com/images/M/MV5BMWMwMG...</td>\n",
       "      <td>The Godfather: Part II</td>\n",
       "      <td>1974</td>\n",
       "      <td>a</td>\n",
       "      <td>202</td>\n",
       "      <td>crime,drama</td>\n",
       "      <td>9.0</td>\n",
       "      <td>The early life and career of Vito Corleone in ...</td>\n",
       "      <td>90.0</td>\n",
       "      <td>francisfordcoppola</td>\n",
       "      <td>alpacino</td>\n",
       "      <td>robertdeniro</td>\n",
       "      <td>robertduvall</td>\n",
       "      <td>dianekeaton</td>\n",
       "      <td>1129952</td>\n",
       "      <td>57300000.0</td>\n",
       "      <td>alpacino robertdeniro robertduvall dianekeaton...</td>\n",
       "    </tr>\n",
       "    <tr>\n",
       "      <th>4</th>\n",
       "      <td>https://m.media-amazon.com/images/M/MV5BMWU4N2...</td>\n",
       "      <td>12 Angry Men</td>\n",
       "      <td>1957</td>\n",
       "      <td>u</td>\n",
       "      <td>96</td>\n",
       "      <td>crime,drama</td>\n",
       "      <td>9.0</td>\n",
       "      <td>A jury holdout attempts to prevent a miscarria...</td>\n",
       "      <td>96.0</td>\n",
       "      <td>sidneylumet</td>\n",
       "      <td>henryfonda</td>\n",
       "      <td>leej.cobb</td>\n",
       "      <td>martinbalsam</td>\n",
       "      <td>johnfiedler</td>\n",
       "      <td>689845</td>\n",
       "      <td>4360000.0</td>\n",
       "      <td>henryfonda leej.cobb martinbalsam johnfiedler ...</td>\n",
       "    </tr>\n",
       "    <tr>\n",
       "      <th>5</th>\n",
       "      <td>https://m.media-amazon.com/images/M/MV5BNzA5ZD...</td>\n",
       "      <td>The Lord of the Rings: The Return of the King</td>\n",
       "      <td>2003</td>\n",
       "      <td>u</td>\n",
       "      <td>201</td>\n",
       "      <td>action,adventure,drama</td>\n",
       "      <td>8.9</td>\n",
       "      <td>Gandalf and Aragorn lead the World of Men agai...</td>\n",
       "      <td>94.0</td>\n",
       "      <td>peterjackson</td>\n",
       "      <td>elijahwood</td>\n",
       "      <td>viggomortensen</td>\n",
       "      <td>ianmckellen</td>\n",
       "      <td>orlandobloom</td>\n",
       "      <td>1642758</td>\n",
       "      <td>377845905.0</td>\n",
       "      <td>elijahwood viggomortensen ianmckellen orlandob...</td>\n",
       "    </tr>\n",
       "    <tr>\n",
       "      <th>6</th>\n",
       "      <td>https://m.media-amazon.com/images/M/MV5BNGNhMD...</td>\n",
       "      <td>Pulp Fiction</td>\n",
       "      <td>1994</td>\n",
       "      <td>a</td>\n",
       "      <td>154</td>\n",
       "      <td>crime,drama</td>\n",
       "      <td>8.9</td>\n",
       "      <td>The lives of two mob hitmen, a boxer, a gangst...</td>\n",
       "      <td>94.0</td>\n",
       "      <td>quentintarantino</td>\n",
       "      <td>johntravolta</td>\n",
       "      <td>umathurman</td>\n",
       "      <td>samuell.jackson</td>\n",
       "      <td>brucewillis</td>\n",
       "      <td>1826188</td>\n",
       "      <td>107928762.0</td>\n",
       "      <td>johntravolta umathurman samuell.jackson brucew...</td>\n",
       "    </tr>\n",
       "    <tr>\n",
       "      <th>7</th>\n",
       "      <td>https://m.media-amazon.com/images/M/MV5BNDE4OT...</td>\n",
       "      <td>Schindler's List</td>\n",
       "      <td>1993</td>\n",
       "      <td>a</td>\n",
       "      <td>195</td>\n",
       "      <td>biography,drama,history</td>\n",
       "      <td>8.9</td>\n",
       "      <td>In German-occupied Poland during World War II,...</td>\n",
       "      <td>94.0</td>\n",
       "      <td>stevenspielberg</td>\n",
       "      <td>liamneeson</td>\n",
       "      <td>ralphfiennes</td>\n",
       "      <td>benkingsley</td>\n",
       "      <td>carolinegoodall</td>\n",
       "      <td>1213505</td>\n",
       "      <td>96898818.0</td>\n",
       "      <td>liamneeson ralphfiennes benkingsley carolinego...</td>\n",
       "    </tr>\n",
       "    <tr>\n",
       "      <th>8</th>\n",
       "      <td>https://m.media-amazon.com/images/M/MV5BMjAxMz...</td>\n",
       "      <td>Inception</td>\n",
       "      <td>2010</td>\n",
       "      <td>ua</td>\n",
       "      <td>148</td>\n",
       "      <td>action,adventure,sci-fi</td>\n",
       "      <td>8.8</td>\n",
       "      <td>A thief who steals corporate secrets through t...</td>\n",
       "      <td>74.0</td>\n",
       "      <td>christophernolan</td>\n",
       "      <td>leonardodicaprio</td>\n",
       "      <td>josephgordon-levitt</td>\n",
       "      <td>elliotpage</td>\n",
       "      <td>kenwatanabe</td>\n",
       "      <td>2067042</td>\n",
       "      <td>292576195.0</td>\n",
       "      <td>leonardodicaprio josephgordon-levitt elliotpag...</td>\n",
       "    </tr>\n",
       "    <tr>\n",
       "      <th>9</th>\n",
       "      <td>https://m.media-amazon.com/images/M/MV5BMmEzNT...</td>\n",
       "      <td>Fight Club</td>\n",
       "      <td>1999</td>\n",
       "      <td>a</td>\n",
       "      <td>139</td>\n",
       "      <td>drama</td>\n",
       "      <td>8.8</td>\n",
       "      <td>An insomniac office worker and a devil-may-car...</td>\n",
       "      <td>66.0</td>\n",
       "      <td>davidfincher</td>\n",
       "      <td>bradpitt</td>\n",
       "      <td>edwardnorton</td>\n",
       "      <td>meatloaf</td>\n",
       "      <td>zachgrenier</td>\n",
       "      <td>1854740</td>\n",
       "      <td>37030102.0</td>\n",
       "      <td>bradpitt edwardnorton meatloaf zachgrenier dav...</td>\n",
       "    </tr>\n",
       "  </tbody>\n",
       "</table>\n",
       "</div>"
      ],
      "text/plain": [
       "                                         Poster_Link  \\\n",
       "0  https://m.media-amazon.com/images/M/MV5BMDFkYT...   \n",
       "1  https://m.media-amazon.com/images/M/MV5BM2MyNj...   \n",
       "2  https://m.media-amazon.com/images/M/MV5BMTMxNT...   \n",
       "3  https://m.media-amazon.com/images/M/MV5BMWMwMG...   \n",
       "4  https://m.media-amazon.com/images/M/MV5BMWU4N2...   \n",
       "5  https://m.media-amazon.com/images/M/MV5BNzA5ZD...   \n",
       "6  https://m.media-amazon.com/images/M/MV5BNGNhMD...   \n",
       "7  https://m.media-amazon.com/images/M/MV5BNDE4OT...   \n",
       "8  https://m.media-amazon.com/images/M/MV5BMjAxMz...   \n",
       "9  https://m.media-amazon.com/images/M/MV5BMmEzNT...   \n",
       "\n",
       "                                    Series_Title  Released_Year Certificate  \\\n",
       "0                       The Shawshank Redemption           1994           a   \n",
       "1                                  The Godfather           1972           a   \n",
       "2                                The Dark Knight           2008          ua   \n",
       "3                         The Godfather: Part II           1974           a   \n",
       "4                                   12 Angry Men           1957           u   \n",
       "5  The Lord of the Rings: The Return of the King           2003           u   \n",
       "6                                   Pulp Fiction           1994           a   \n",
       "7                               Schindler's List           1993           a   \n",
       "8                                      Inception           2010          ua   \n",
       "9                                     Fight Club           1999           a   \n",
       "\n",
       "   Runtime                    Genre  IMDB_Rating  \\\n",
       "0      142                    drama          9.3   \n",
       "1      175              crime,drama          9.2   \n",
       "2      152       action,crime,drama          9.0   \n",
       "3      202              crime,drama          9.0   \n",
       "4       96              crime,drama          9.0   \n",
       "5      201   action,adventure,drama          8.9   \n",
       "6      154              crime,drama          8.9   \n",
       "7      195  biography,drama,history          8.9   \n",
       "8      148  action,adventure,sci-fi          8.8   \n",
       "9      139                    drama          8.8   \n",
       "\n",
       "                                            Overview  Meta_score  \\\n",
       "0  Two imprisoned men bond over a number of years...        80.0   \n",
       "1  An organized crime dynasty's aging patriarch t...       100.0   \n",
       "2  When the menace known as the Joker wreaks havo...        84.0   \n",
       "3  The early life and career of Vito Corleone in ...        90.0   \n",
       "4  A jury holdout attempts to prevent a miscarria...        96.0   \n",
       "5  Gandalf and Aragorn lead the World of Men agai...        94.0   \n",
       "6  The lives of two mob hitmen, a boxer, a gangst...        94.0   \n",
       "7  In German-occupied Poland during World War II,...        94.0   \n",
       "8  A thief who steals corporate secrets through t...        74.0   \n",
       "9  An insomniac office worker and a devil-may-car...        66.0   \n",
       "\n",
       "             Director             Star1                Star2            Star3  \\\n",
       "0       frankdarabont        timrobbins        morganfreeman        bobgunton   \n",
       "1  francisfordcoppola      marlonbrando             alpacino        jamescaan   \n",
       "2    christophernolan     christianbale          heathledger     aaroneckhart   \n",
       "3  francisfordcoppola          alpacino         robertdeniro     robertduvall   \n",
       "4         sidneylumet        henryfonda            leej.cobb     martinbalsam   \n",
       "5        peterjackson        elijahwood       viggomortensen      ianmckellen   \n",
       "6    quentintarantino      johntravolta           umathurman  samuell.jackson   \n",
       "7     stevenspielberg        liamneeson         ralphfiennes      benkingsley   \n",
       "8    christophernolan  leonardodicaprio  josephgordon-levitt       elliotpage   \n",
       "9        davidfincher          bradpitt         edwardnorton         meatloaf   \n",
       "\n",
       "             Star4  No_of_Votes        Gross  \\\n",
       "0    williamsadler      2343110   28341469.0   \n",
       "1      dianekeaton      1620367  134966411.0   \n",
       "2     michaelcaine      2303232  534858444.0   \n",
       "3      dianekeaton      1129952   57300000.0   \n",
       "4      johnfiedler       689845    4360000.0   \n",
       "5     orlandobloom      1642758  377845905.0   \n",
       "6      brucewillis      1826188  107928762.0   \n",
       "7  carolinegoodall      1213505   96898818.0   \n",
       "8      kenwatanabe      2067042  292576195.0   \n",
       "9      zachgrenier      1854740   37030102.0   \n",
       "\n",
       "                                                soup  \n",
       "0  timrobbins morganfreeman bobgunton williamsadl...  \n",
       "1  marlonbrando alpacino jamescaan dianekeaton fr...  \n",
       "2  christianbale heathledger aaroneckhart michael...  \n",
       "3  alpacino robertdeniro robertduvall dianekeaton...  \n",
       "4  henryfonda leej.cobb martinbalsam johnfiedler ...  \n",
       "5  elijahwood viggomortensen ianmckellen orlandob...  \n",
       "6  johntravolta umathurman samuell.jackson brucew...  \n",
       "7  liamneeson ralphfiennes benkingsley carolinego...  \n",
       "8  leonardodicaprio josephgordon-levitt elliotpag...  \n",
       "9  bradpitt edwardnorton meatloaf zachgrenier dav...  "
      ]
     },
     "execution_count": 33,
     "metadata": {},
     "output_type": "execute_result"
    }
   ],
   "source": [
    "Data.head(10)"
   ]
  },
  {
   "cell_type": "code",
   "execution_count": 34,
   "id": "c499bcf2",
   "metadata": {
    "execution": {
     "iopub.execute_input": "2024-07-08T16:21:06.441970Z",
     "iopub.status.busy": "2024-07-08T16:21:06.440961Z",
     "iopub.status.idle": "2024-07-08T16:21:06.471208Z",
     "shell.execute_reply": "2024-07-08T16:21:06.470105Z"
    },
    "papermill": {
     "duration": 0.059284,
     "end_time": "2024-07-08T16:21:06.474069",
     "exception": false,
     "start_time": "2024-07-08T16:21:06.414785",
     "status": "completed"
    },
    "tags": []
   },
   "outputs": [],
   "source": [
    "# Import CountVectorizer and create the count matrix\n",
    "from sklearn.feature_extraction.text import CountVectorizer\n",
    "\n",
    "count = CountVectorizer(stop_words='english')\n",
    "count_matrix = count.fit_transform(Data['soup'])"
   ]
  },
  {
   "cell_type": "code",
   "execution_count": 35,
   "id": "a8a58acd",
   "metadata": {
    "execution": {
     "iopub.execute_input": "2024-07-08T16:21:06.529279Z",
     "iopub.status.busy": "2024-07-08T16:21:06.528836Z",
     "iopub.status.idle": "2024-07-08T16:21:06.543679Z",
     "shell.execute_reply": "2024-07-08T16:21:06.542536Z"
    },
    "papermill": {
     "duration": 0.047686,
     "end_time": "2024-07-08T16:21:06.546542",
     "exception": false,
     "start_time": "2024-07-08T16:21:06.498856",
     "status": "completed"
    },
    "tags": []
   },
   "outputs": [],
   "source": [
    "# Compute the Cosine Similarity matrix based on the count_matrix\n",
    "from sklearn.metrics.pairwise import cosine_similarity\n",
    "\n",
    "cosine_sim2 = cosine_similarity(count_matrix, count_matrix)"
   ]
  },
  {
   "cell_type": "code",
   "execution_count": 36,
   "id": "17ae7ac2",
   "metadata": {
    "execution": {
     "iopub.execute_input": "2024-07-08T16:21:06.598260Z",
     "iopub.status.busy": "2024-07-08T16:21:06.597380Z",
     "iopub.status.idle": "2024-07-08T16:21:06.605591Z",
     "shell.execute_reply": "2024-07-08T16:21:06.604393Z"
    },
    "papermill": {
     "duration": 0.03702,
     "end_time": "2024-07-08T16:21:06.608283",
     "exception": false,
     "start_time": "2024-07-08T16:21:06.571263",
     "status": "completed"
    },
    "tags": []
   },
   "outputs": [],
   "source": [
    "# Reset index of our main DataFrame and construct reverse mapping as before\n",
    "Data = Data.reset_index()\n",
    "indices = pd.Series(Data.index, index=Data['Series_Title'])"
   ]
  },
  {
   "cell_type": "code",
   "execution_count": 37,
   "id": "1b2bc784",
   "metadata": {
    "execution": {
     "iopub.execute_input": "2024-07-08T16:21:06.661121Z",
     "iopub.status.busy": "2024-07-08T16:21:06.660028Z",
     "iopub.status.idle": "2024-07-08T16:21:06.670250Z",
     "shell.execute_reply": "2024-07-08T16:21:06.669175Z"
    },
    "papermill": {
     "duration": 0.039584,
     "end_time": "2024-07-08T16:21:06.672718",
     "exception": false,
     "start_time": "2024-07-08T16:21:06.633134",
     "status": "completed"
    },
    "tags": []
   },
   "outputs": [
    {
     "data": {
      "text/plain": [
       "2        The Dark Knight\n",
       "19          Interstellar\n",
       "113        Batman Begins\n",
       "380              Dunkirk\n",
       "32          The Prestige\n",
       "145       Ford v Ferrari\n",
       "266                  JFK\n",
       "561    The Fifth Element\n",
       "8              Inception\n",
       "60               Memento\n",
       "Name: Series_Title, dtype: object"
      ]
     },
     "execution_count": 37,
     "metadata": {},
     "output_type": "execute_result"
    }
   ],
   "source": [
    "get_recommendations('The Dark Knight Rises', cosine_sim2)"
   ]
  },
  {
   "cell_type": "code",
   "execution_count": 38,
   "id": "11928548",
   "metadata": {
    "execution": {
     "iopub.execute_input": "2024-07-08T16:21:06.724032Z",
     "iopub.status.busy": "2024-07-08T16:21:06.723647Z",
     "iopub.status.idle": "2024-07-08T16:21:06.732643Z",
     "shell.execute_reply": "2024-07-08T16:21:06.731623Z"
    },
    "papermill": {
     "duration": 0.037897,
     "end_time": "2024-07-08T16:21:06.735240",
     "exception": false,
     "start_time": "2024-07-08T16:21:06.697343",
     "status": "completed"
    },
    "tags": []
   },
   "outputs": [
    {
     "data": {
      "text/plain": [
       "23          The Green Mile\n",
       "25                   Se7en\n",
       "337           Mystic River\n",
       "459                  Glory\n",
       "525    Lucky Number Slevin\n",
       "569             Short Cuts\n",
       "645         Gone Baby Gone\n",
       "121             Unforgiven\n",
       "156    Million Dollar Baby\n",
       "1            The Godfather\n",
       "Name: Series_Title, dtype: object"
      ]
     },
     "execution_count": 38,
     "metadata": {},
     "output_type": "execute_result"
    }
   ],
   "source": [
    "get_recommendations('The Shawshank Redemption', cosine_sim2)"
   ]
  }
 ],
 "metadata": {
  "kaggle": {
   "accelerator": "none",
   "dataSources": [
    {
     "datasetId": 1131493,
     "sourceId": 1898721,
     "sourceType": "datasetVersion"
    }
   ],
   "dockerImageVersionId": 30732,
   "isGpuEnabled": false,
   "isInternetEnabled": true,
   "language": "python",
   "sourceType": "notebook"
  },
  "kernelspec": {
   "display_name": "Python 3",
   "language": "python",
   "name": "python3"
  },
  "language_info": {
   "codemirror_mode": {
    "name": "ipython",
    "version": 3
   },
   "file_extension": ".py",
   "mimetype": "text/x-python",
   "name": "python",
   "nbconvert_exporter": "python",
   "pygments_lexer": "ipython3",
   "version": "3.10.13"
  },
  "papermill": {
   "default_parameters": {},
   "duration": 14.40148,
   "end_time": "2024-07-08T16:21:07.581912",
   "environment_variables": {},
   "exception": null,
   "input_path": "__notebook__.ipynb",
   "output_path": "__notebook__.ipynb",
   "parameters": {},
   "start_time": "2024-07-08T16:20:53.180432",
   "version": "2.5.0"
  }
 },
 "nbformat": 4,
 "nbformat_minor": 5
}
